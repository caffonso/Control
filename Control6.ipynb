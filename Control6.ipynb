{
  "nbformat": 4,
  "nbformat_minor": 0,
  "metadata": {
    "anaconda-cloud": {},
    "kernelspec": {
      "display_name": "Python 3",
      "language": "python",
      "name": "python3"
    },
    "language_info": {
      "codemirror_mode": {
        "name": "ipython",
        "version": 3
      },
      "file_extension": ".py",
      "mimetype": "text/x-python",
      "name": "python",
      "nbconvert_exporter": "python",
      "pygments_lexer": "ipython3",
      "version": "3.7.3"
    },
    "colab": {
      "name": "Control6.ipynb",
      "provenance": [],
      "collapsed_sections": [
        "7R6rHCPnI0O3",
        "fhMCG7tA2Fp1",
        "dQ-uloJd4SOw",
        "V_C_s2wO6jBh",
        "_nHBqjeW7tVM"
      ],
      "include_colab_link": true
    },
    "widgets": {
      "application/vnd.jupyter.widget-state+json": {
        "c00d9912305d4a5bbd9d942b03570199": {
          "model_module": "@jupyter-widgets/controls",
          "model_name": "VBoxModel",
          "state": {
            "_view_name": "VBoxView",
            "_dom_classes": [
              "widget-interact"
            ],
            "_model_name": "VBoxModel",
            "_view_module": "@jupyter-widgets/controls",
            "_model_module_version": "1.5.0",
            "_view_count": null,
            "_view_module_version": "1.5.0",
            "box_style": "",
            "layout": "IPY_MODEL_4234866ccd8c4a5eb83401088e47bb4c",
            "_model_module": "@jupyter-widgets/controls",
            "children": [
              "IPY_MODEL_c0b283e2d6bd437e83fcbc37b5bdf18f",
              "IPY_MODEL_9b73067e01be4678b46952b9ecc6ed60",
              "IPY_MODEL_4650480708334b74991a534dca78ab6b"
            ]
          }
        },
        "4234866ccd8c4a5eb83401088e47bb4c": {
          "model_module": "@jupyter-widgets/base",
          "model_name": "LayoutModel",
          "state": {
            "_view_name": "LayoutView",
            "grid_template_rows": null,
            "right": null,
            "justify_content": null,
            "_view_module": "@jupyter-widgets/base",
            "overflow": null,
            "_model_module_version": "1.2.0",
            "_view_count": null,
            "flex_flow": null,
            "width": null,
            "min_width": null,
            "border": null,
            "align_items": null,
            "bottom": null,
            "_model_module": "@jupyter-widgets/base",
            "top": null,
            "grid_column": null,
            "overflow_y": null,
            "overflow_x": null,
            "grid_auto_flow": null,
            "grid_area": null,
            "grid_template_columns": null,
            "flex": null,
            "_model_name": "LayoutModel",
            "justify_items": null,
            "grid_row": null,
            "max_height": null,
            "align_content": null,
            "visibility": null,
            "align_self": null,
            "height": null,
            "min_height": null,
            "padding": null,
            "grid_auto_rows": null,
            "grid_gap": null,
            "max_width": null,
            "order": null,
            "_view_module_version": "1.2.0",
            "grid_template_areas": null,
            "object_position": null,
            "object_fit": null,
            "grid_auto_columns": null,
            "margin": null,
            "display": null,
            "left": null
          }
        },
        "c0b283e2d6bd437e83fcbc37b5bdf18f": {
          "model_module": "@jupyter-widgets/controls",
          "model_name": "IntSliderModel",
          "state": {
            "_view_name": "IntSliderView",
            "style": "IPY_MODEL_792f028a0ad54f389ebe03d49622e986",
            "_dom_classes": [],
            "description": "A",
            "step": 1,
            "_model_name": "IntSliderModel",
            "orientation": "horizontal",
            "max": 10,
            "_view_module": "@jupyter-widgets/controls",
            "_model_module_version": "1.5.0",
            "value": 5,
            "_view_count": null,
            "disabled": false,
            "_view_module_version": "1.5.0",
            "min": 0,
            "continuous_update": true,
            "readout_format": "d",
            "description_tooltip": null,
            "readout": true,
            "_model_module": "@jupyter-widgets/controls",
            "layout": "IPY_MODEL_4dd76837703a4de3a2e6d1a8ac2d9f29"
          }
        },
        "9b73067e01be4678b46952b9ecc6ed60": {
          "model_module": "@jupyter-widgets/controls",
          "model_name": "IntSliderModel",
          "state": {
            "_view_name": "IntSliderView",
            "style": "IPY_MODEL_99313bb11e774de1bf24b3b6084bbd65",
            "_dom_classes": [],
            "description": "tetha",
            "step": 1,
            "_model_name": "IntSliderModel",
            "orientation": "horizontal",
            "max": 10,
            "_view_module": "@jupyter-widgets/controls",
            "_model_module_version": "1.5.0",
            "value": 5,
            "_view_count": null,
            "disabled": false,
            "_view_module_version": "1.5.0",
            "min": 0,
            "continuous_update": true,
            "readout_format": "d",
            "description_tooltip": null,
            "readout": true,
            "_model_module": "@jupyter-widgets/controls",
            "layout": "IPY_MODEL_1520f5bc621647b2b0fe0a86bb71d4eb"
          }
        },
        "4650480708334b74991a534dca78ab6b": {
          "model_module": "@jupyter-widgets/output",
          "model_name": "OutputModel",
          "state": {
            "_view_name": "OutputView",
            "msg_id": "",
            "_dom_classes": [],
            "_model_name": "OutputModel",
            "outputs": [
              {
                "output_type": "display_data",
                "metadata": {
                  "tags": [],
                  "needs_background": "light"
                },
                "image/png": "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\n",
                "text/plain": "<Figure size 432x288 with 1 Axes>"
              },
              {
                "output_type": "pyerr",
                "metadata": {
                  "tags": []
                },
                "ename": "NameError",
                "evalue": "ignored",
                "traceback": [
                  "\u001b[0;31m---------------------------------------------------------------------------\u001b[0m",
                  "\u001b[0;31mNameError\u001b[0m                                 Traceback (most recent call last)",
                  "\u001b[0;32m/usr/local/lib/python3.7/dist-packages/ipywidgets/widgets/interaction.py\u001b[0m in \u001b[0;36mupdate\u001b[0;34m(self, *args)\u001b[0m\n\u001b[1;32m    254\u001b[0m                     \u001b[0mvalue\u001b[0m \u001b[0;34m=\u001b[0m \u001b[0mwidget\u001b[0m\u001b[0;34m.\u001b[0m\u001b[0mget_interact_value\u001b[0m\u001b[0;34m(\u001b[0m\u001b[0;34m)\u001b[0m\u001b[0;34m\u001b[0m\u001b[0;34m\u001b[0m\u001b[0m\n\u001b[1;32m    255\u001b[0m                     \u001b[0mself\u001b[0m\u001b[0;34m.\u001b[0m\u001b[0mkwargs\u001b[0m\u001b[0;34m[\u001b[0m\u001b[0mwidget\u001b[0m\u001b[0;34m.\u001b[0m\u001b[0m_kwarg\u001b[0m\u001b[0;34m]\u001b[0m \u001b[0;34m=\u001b[0m \u001b[0mvalue\u001b[0m\u001b[0;34m\u001b[0m\u001b[0;34m\u001b[0m\u001b[0m\n\u001b[0;32m--> 256\u001b[0;31m                 \u001b[0mself\u001b[0m\u001b[0;34m.\u001b[0m\u001b[0mresult\u001b[0m \u001b[0;34m=\u001b[0m \u001b[0mself\u001b[0m\u001b[0;34m.\u001b[0m\u001b[0mf\u001b[0m\u001b[0;34m(\u001b[0m\u001b[0;34m**\u001b[0m\u001b[0mself\u001b[0m\u001b[0;34m.\u001b[0m\u001b[0mkwargs\u001b[0m\u001b[0;34m)\u001b[0m\u001b[0;34m\u001b[0m\u001b[0;34m\u001b[0m\u001b[0m\n\u001b[0m\u001b[1;32m    257\u001b[0m                 \u001b[0mshow_inline_matplotlib_plots\u001b[0m\u001b[0;34m(\u001b[0m\u001b[0;34m)\u001b[0m\u001b[0;34m\u001b[0m\u001b[0;34m\u001b[0m\u001b[0m\n\u001b[1;32m    258\u001b[0m                 \u001b[0;32mif\u001b[0m \u001b[0mself\u001b[0m\u001b[0;34m.\u001b[0m\u001b[0mauto_display\u001b[0m \u001b[0;32mand\u001b[0m \u001b[0mself\u001b[0m\u001b[0;34m.\u001b[0m\u001b[0mresult\u001b[0m \u001b[0;32mis\u001b[0m \u001b[0;32mnot\u001b[0m \u001b[0;32mNone\u001b[0m\u001b[0;34m:\u001b[0m\u001b[0;34m\u001b[0m\u001b[0;34m\u001b[0m\u001b[0m\n",
                  "\u001b[0;32m<ipython-input-16-2b160392d16c>\u001b[0m in \u001b[0;36mtrans\u001b[0;34m(A, tetha)\u001b[0m\n\u001b[1;32m      3\u001b[0m   \u001b[0mf\u001b[0m \u001b[0;34m=\u001b[0m \u001b[0mA\u001b[0m\u001b[0;34m*\u001b[0m\u001b[0msympy\u001b[0m\u001b[0;34m.\u001b[0m\u001b[0msin\u001b[0m\u001b[0;34m(\u001b[0m\u001b[0mt\u001b[0m \u001b[0;34m-\u001b[0m \u001b[0mtetha\u001b[0m\u001b[0;34m)\u001b[0m\u001b[0;34m\u001b[0m\u001b[0;34m\u001b[0m\u001b[0m\n\u001b[1;32m      4\u001b[0m   \u001b[0msympy\u001b[0m\u001b[0;34m.\u001b[0m\u001b[0mplot\u001b[0m\u001b[0;34m(\u001b[0m\u001b[0mf\u001b[0m\u001b[0;34m,\u001b[0m\u001b[0mxlim\u001b[0m\u001b[0;34m=\u001b[0m\u001b[0;34m(\u001b[0m\u001b[0;34m-\u001b[0m\u001b[0;36m10\u001b[0m\u001b[0;34m,\u001b[0m \u001b[0;36m10\u001b[0m\u001b[0;34m)\u001b[0m\u001b[0;34m,\u001b[0m \u001b[0mylim\u001b[0m\u001b[0;34m=\u001b[0m\u001b[0;34m(\u001b[0m\u001b[0;34m-\u001b[0m\u001b[0;36m10\u001b[0m\u001b[0;34m,\u001b[0m \u001b[0;36m10\u001b[0m\u001b[0;34m)\u001b[0m\u001b[0;34m)\u001b[0m\u001b[0;34m\u001b[0m\u001b[0;34m\u001b[0m\u001b[0m\n\u001b[0;32m----> 5\u001b[0;31m   \u001b[0mplt\u001b[0m\u001b[0;34m.\u001b[0m\u001b[0mshow\u001b[0m\u001b[0;34m(\u001b[0m\u001b[0;34m)\u001b[0m\u001b[0;34m\u001b[0m\u001b[0;34m\u001b[0m\u001b[0m\n\u001b[0m\u001b[1;32m      6\u001b[0m   \u001b[0;32mreturn\u001b[0m \u001b[0mf\u001b[0m\u001b[0;34m\u001b[0m\u001b[0;34m\u001b[0m\u001b[0m\n",
                  "\u001b[0;31mNameError\u001b[0m: name 'plt' is not defined"
                ]
              }
            ],
            "_view_module": "@jupyter-widgets/output",
            "_model_module_version": "1.0.0",
            "_view_count": null,
            "_view_module_version": "1.0.0",
            "layout": "IPY_MODEL_4f896a3c992a49eca9fac243df390109",
            "_model_module": "@jupyter-widgets/output"
          }
        },
        "792f028a0ad54f389ebe03d49622e986": {
          "model_module": "@jupyter-widgets/controls",
          "model_name": "SliderStyleModel",
          "state": {
            "_view_name": "StyleView",
            "handle_color": null,
            "_model_name": "SliderStyleModel",
            "description_width": "",
            "_view_module": "@jupyter-widgets/base",
            "_model_module_version": "1.5.0",
            "_view_count": null,
            "_view_module_version": "1.2.0",
            "_model_module": "@jupyter-widgets/controls"
          }
        },
        "4dd76837703a4de3a2e6d1a8ac2d9f29": {
          "model_module": "@jupyter-widgets/base",
          "model_name": "LayoutModel",
          "state": {
            "_view_name": "LayoutView",
            "grid_template_rows": null,
            "right": null,
            "justify_content": null,
            "_view_module": "@jupyter-widgets/base",
            "overflow": null,
            "_model_module_version": "1.2.0",
            "_view_count": null,
            "flex_flow": null,
            "width": null,
            "min_width": null,
            "border": null,
            "align_items": null,
            "bottom": null,
            "_model_module": "@jupyter-widgets/base",
            "top": null,
            "grid_column": null,
            "overflow_y": null,
            "overflow_x": null,
            "grid_auto_flow": null,
            "grid_area": null,
            "grid_template_columns": null,
            "flex": null,
            "_model_name": "LayoutModel",
            "justify_items": null,
            "grid_row": null,
            "max_height": null,
            "align_content": null,
            "visibility": null,
            "align_self": null,
            "height": null,
            "min_height": null,
            "padding": null,
            "grid_auto_rows": null,
            "grid_gap": null,
            "max_width": null,
            "order": null,
            "_view_module_version": "1.2.0",
            "grid_template_areas": null,
            "object_position": null,
            "object_fit": null,
            "grid_auto_columns": null,
            "margin": null,
            "display": null,
            "left": null
          }
        },
        "99313bb11e774de1bf24b3b6084bbd65": {
          "model_module": "@jupyter-widgets/controls",
          "model_name": "SliderStyleModel",
          "state": {
            "_view_name": "StyleView",
            "handle_color": null,
            "_model_name": "SliderStyleModel",
            "description_width": "",
            "_view_module": "@jupyter-widgets/base",
            "_model_module_version": "1.5.0",
            "_view_count": null,
            "_view_module_version": "1.2.0",
            "_model_module": "@jupyter-widgets/controls"
          }
        },
        "1520f5bc621647b2b0fe0a86bb71d4eb": {
          "model_module": "@jupyter-widgets/base",
          "model_name": "LayoutModel",
          "state": {
            "_view_name": "LayoutView",
            "grid_template_rows": null,
            "right": null,
            "justify_content": null,
            "_view_module": "@jupyter-widgets/base",
            "overflow": null,
            "_model_module_version": "1.2.0",
            "_view_count": null,
            "flex_flow": null,
            "width": null,
            "min_width": null,
            "border": null,
            "align_items": null,
            "bottom": null,
            "_model_module": "@jupyter-widgets/base",
            "top": null,
            "grid_column": null,
            "overflow_y": null,
            "overflow_x": null,
            "grid_auto_flow": null,
            "grid_area": null,
            "grid_template_columns": null,
            "flex": null,
            "_model_name": "LayoutModel",
            "justify_items": null,
            "grid_row": null,
            "max_height": null,
            "align_content": null,
            "visibility": null,
            "align_self": null,
            "height": null,
            "min_height": null,
            "padding": null,
            "grid_auto_rows": null,
            "grid_gap": null,
            "max_width": null,
            "order": null,
            "_view_module_version": "1.2.0",
            "grid_template_areas": null,
            "object_position": null,
            "object_fit": null,
            "grid_auto_columns": null,
            "margin": null,
            "display": null,
            "left": null
          }
        },
        "4f896a3c992a49eca9fac243df390109": {
          "model_module": "@jupyter-widgets/base",
          "model_name": "LayoutModel",
          "state": {
            "_view_name": "LayoutView",
            "grid_template_rows": null,
            "right": null,
            "justify_content": null,
            "_view_module": "@jupyter-widgets/base",
            "overflow": null,
            "_model_module_version": "1.2.0",
            "_view_count": null,
            "flex_flow": null,
            "width": null,
            "min_width": null,
            "border": null,
            "align_items": null,
            "bottom": null,
            "_model_module": "@jupyter-widgets/base",
            "top": null,
            "grid_column": null,
            "overflow_y": null,
            "overflow_x": null,
            "grid_auto_flow": null,
            "grid_area": null,
            "grid_template_columns": null,
            "flex": null,
            "_model_name": "LayoutModel",
            "justify_items": null,
            "grid_row": null,
            "max_height": null,
            "align_content": null,
            "visibility": null,
            "align_self": null,
            "height": null,
            "min_height": null,
            "padding": null,
            "grid_auto_rows": null,
            "grid_gap": null,
            "max_width": null,
            "order": null,
            "_view_module_version": "1.2.0",
            "grid_template_areas": null,
            "object_position": null,
            "object_fit": null,
            "grid_auto_columns": null,
            "margin": null,
            "display": null,
            "left": null
          }
        }
      }
    }
  },
  "cells": [
    {
      "cell_type": "markdown",
      "metadata": {
        "id": "view-in-github",
        "colab_type": "text"
      },
      "source": [
        "<a href=\"https://colab.research.google.com/github/caffonso/Control/blob/main/Control6.ipynb\" target=\"_parent\"><img src=\"https://colab.research.google.com/assets/colab-badge.svg\" alt=\"Open In Colab\"/></a>"
      ]
    },
    {
      "cell_type": "markdown",
      "metadata": {
        "id": "WQnhEVVcQaF3"
      },
      "source": [
        "# **Laplace transform**"
      ]
    },
    {
      "cell_type": "markdown",
      "metadata": {
        "id": "mCZBFPP7Piya"
      },
      "source": [
        "## *Definition*\n",
        "\n",
        "The Laplace transform is \n",
        "\n",
        "---\n",
        "$$\n",
        "\\mathcal{L}\\{f(t)\\} = \\int_0^\\infty f(t) e^{-st} \\mathrm{d}s \n",
        "$$\n",
        "\n",
        "\n"
      ]
    },
    {
      "cell_type": "markdown",
      "metadata": {
        "id": "iVUK539tig2q"
      },
      "source": [
        "## Khan Academy:\n",
        "[link text](https://pt.khanacademy.org/math/differential-equations/laplace-transform/laplace-transform-tutorial/v/laplace-transform-1?modal=1)"
      ]
    },
    {
      "cell_type": "markdown",
      "metadata": {
        "id": "9bDuqnCJSp2V"
      },
      "source": [
        "## $${Tabelas}$$\n",
        "\n",
        "*Time functions*"
      ]
    },
    {
      "cell_type": "code",
      "metadata": {
        "id": "HEL-Muu5S02V",
        "colab": {
          "base_uri": "https://localhost:8080/",
          "height": 134
        },
        "outputId": "70ec6b03-a057-479e-adc5-aa2fcde43518"
      },
      "source": [
        "functions \n",
        "[1, t, e , te , te , sinωt , cosωt , 1 − e , e sin ωt , e cos ωt\n",
        "−at −at 2 −at\n",
        "( ) ( )\n",
        "−at −at\n",
        "( )\n",
        "−at\n",
        "( )]\n"
      ],
      "execution_count": null,
      "outputs": [
        {
          "output_type": "error",
          "ename": "SyntaxError",
          "evalue": "ignored",
          "traceback": [
            "\u001b[0;36m  File \u001b[0;32m\"<ipython-input-3-973f7c9e459d>\"\u001b[0;36m, line \u001b[0;32m2\u001b[0m\n\u001b[0;31m    [1, t, e , te , te , sinωt , cosωt , 1 − e , e sin ωt , e cos ωt\u001b[0m\n\u001b[0m                                           ^\u001b[0m\n\u001b[0;31mSyntaxError\u001b[0m\u001b[0;31m:\u001b[0m invalid character in identifier\n"
          ]
        }
      ]
    },
    {
      "cell_type": "code",
      "metadata": {
        "id": "XhkdOfC79XXL",
        "colab": {
          "base_uri": "https://localhost:8080/",
          "height": 130
        },
        "outputId": "dd62727e-475f-4b1e-a9a4-7e02942bf889"
      },
      "source": [
        "[1, t, e , te , t e , sin ωt , cos ωt , 1 − e , e sin ωt , e cos ωt\n",
        "−at −at 2 −at\n",
        "( ) ( )\n",
        "−at −at\n",
        "( )\n",
        "−at\n",
        "( )]"
      ],
      "execution_count": null,
      "outputs": [
        {
          "output_type": "error",
          "ename": "SyntaxError",
          "evalue": "ignored",
          "traceback": [
            "\u001b[0;36m  File \u001b[0;32m\"<ipython-input-28-74eefaf57ffc>\"\u001b[0;36m, line \u001b[0;32m1\u001b[0m\n\u001b[0;31m    [1, t, e , te , t e , sin ωt , cos ωt , 1 − e , e sin ωt , e cos ωt\u001b[0m\n\u001b[0m                      ^\u001b[0m\n\u001b[0;31mSyntaxError\u001b[0m\u001b[0;31m:\u001b[0m invalid syntax\n"
          ]
        }
      ]
    },
    {
      "cell_type": "markdown",
      "metadata": {
        "id": "rdwBzeGhTI-d"
      },
      "source": [
        " *Laplace transform - frequency domain*"
      ]
    },
    {
      "cell_type": "code",
      "metadata": {
        "id": "XUqTMl_iI0Om"
      },
      "source": [
        "import numpy as np\n",
        "import sympy\n",
        "sympy.init_printing()"
      ],
      "execution_count": null,
      "outputs": []
    },
    {
      "cell_type": "code",
      "metadata": {
        "id": "0RKq6ipqI0On"
      },
      "source": [
        "import matplotlib.pyplot as plt\n",
        "%matplotlib inline"
      ],
      "execution_count": null,
      "outputs": []
    },
    {
      "cell_type": "markdown",
      "metadata": {
        "id": "gLD6ibJ-I0Oo"
      },
      "source": [
        "Let's define some symbols to work with. "
      ]
    },
    {
      "cell_type": "code",
      "metadata": {
        "id": "5PMm69iEI0Op"
      },
      "source": [
        "t, s = sympy.symbols('t, s')\n",
        "a,w    = sympy.symbols(\"a,w\") "
      ],
      "execution_count": null,
      "outputs": []
    },
    {
      "cell_type": "markdown",
      "metadata": {
        "id": "KCSCvZcBI0Oq"
      },
      "source": [
        "We start with a simple function"
      ]
    },
    {
      "cell_type": "code",
      "metadata": {
        "colab": {
          "base_uri": "https://localhost:8080/",
          "height": 39
        },
        "id": "u1IinwGWI0Oq",
        "outputId": "76862b55-badf-4d1b-a0d7-e1ec977a13a9"
      },
      "source": [
        "g = sympy.sin(w*t)\n",
        "f = sympy.exp(-a*t)\n",
        "f,g"
      ],
      "execution_count": null,
      "outputs": [
        {
          "output_type": "execute_result",
          "data": {
            "image/png": "[encoded data removed]",
            "text/latex": "$\\displaystyle \\left( e^{- a t}, \\  \\sin{\\left(t w \\right)}\\right)$",
            "text/plain": [
              "⎛ -a⋅t          ⎞\n",
              "⎝ℯ    , sin(t⋅w)⎠"
            ]
          },
          "metadata": {
            "tags": []
          },
          "execution_count": 10
        }
      ]
    },
    {
      "cell_type": "markdown",
      "metadata": {
        "id": "bB6KsINiI0Ou"
      },
      "source": [
        "### Library function\n",
        "\n",
        "\n",
        "\n",
        "Sympy provides a function called `laplace_transform` which does this more efficiently. By default it will return conditions of convergence as well (recall this is an improper integral, with an infinite bound, so it will not always converge)."
      ]
    },
    {
      "cell_type": "code",
      "metadata": {
        "colab": {
          "base_uri": "https://localhost:8080/",
          "height": 58
        },
        "id": "gPL29Yz8I0Ou",
        "outputId": "d1c7ec39-26f5-4c94-edc2-cab9e1bb41b7"
      },
      "source": [
        "sympy.laplace_transform(f, t, s)"
      ],
      "execution_count": null,
      "outputs": [
        {
          "output_type": "execute_result",
          "data": {
            "image/png": "[encoded data removed]",
            "text/latex": "$\\displaystyle \\left( \\frac{1}{a + s}, \\  0, \\  \\left|{\\arg{\\left(a \\right)}}\\right| < \\frac{\\pi}{2}\\right)$",
            "text/plain": [
              "⎛  1                  π⎞\n",
              "⎜─────, 0, │arg(a)│ < ─⎟\n",
              "⎝a + s                2⎠"
            ]
          },
          "metadata": {
            "tags": []
          },
          "execution_count": 11
        }
      ]
    },
    {
      "cell_type": "markdown",
      "metadata": {
        "id": "ducM9_auI0Ov"
      },
      "source": [
        "If we want just the function, we can specify `noconds=True`."
      ]
    },
    {
      "cell_type": "code",
      "metadata": {
        "colab": {
          "base_uri": "https://localhost:8080/",
          "height": 52
        },
        "id": "7P9_bEPsI0Ov",
        "outputId": "9bfd3335-667f-4d7f-9d61-3476157c8580"
      },
      "source": [
        "F = sympy.laplace_transform(f, t, s, noconds=True)\n",
        "F"
      ],
      "execution_count": null,
      "outputs": [
        {
          "output_type": "execute_result",
          "data": {
            "image/png": "[encoded data removed]",
            "text/latex": "$\\displaystyle \\frac{1}{a + s}$",
            "text/plain": [
              "  1  \n",
              "─────\n",
              "a + s"
            ]
          },
          "metadata": {
            "tags": []
          },
          "execution_count": 12
        }
      ]
    },
    {
      "cell_type": "markdown",
      "metadata": {
        "id": "Rzq_y0-QI0Ow"
      },
      "source": [
        "We will find it useful to define a quicker version of this:"
      ]
    },
    {
      "cell_type": "code",
      "metadata": {
        "jupyter": {
          "outputs_hidden": true
        },
        "id": "493KoV5FI0Ow"
      },
      "source": [
        "def L(f):\n",
        "    return sympy.laplace_transform(f, t, s, noconds=True)"
      ],
      "execution_count": null,
      "outputs": []
    },
    {
      "cell_type": "markdown",
      "metadata": {
        "id": "XG-YnxEsI0Ox"
      },
      "source": [
        "Exemplos"
      ]
    },
    {
      "cell_type": "code",
      "metadata": {
        "colab": {
          "base_uri": "https://localhost:8080/",
          "height": 319
        },
        "id": "aFyCX0-se-Rg",
        "outputId": "1059c896-e744-4082-a09b-9a786e155bd3"
      },
      "source": [
        "## Exemplos\n",
        "\n",
        "f = sympy.exp(-2*t)\n",
        "sympy.plot(f,xlim=(-5, 5), ylim=(-50, 50))\n",
        "f"
      ],
      "execution_count": null,
      "outputs": [
        {
          "output_type": "display_data",
          "data": {
            "image/png": "[encoded data removed]",
            "text/plain": [
              "<Figure size 432x288 with 1 Axes>"
            ]
          },
          "metadata": {
            "tags": [],
            "needs_background": "light"
          }
        },
        {
          "output_type": "execute_result",
          "data": {
            "image/png": "[encoded data removed]",
            "text/latex": "$\\displaystyle e^{- 2 t}$",
            "text/plain": [
              " -2⋅t\n",
              "ℯ    "
            ]
          },
          "metadata": {
            "tags": []
          },
          "execution_count": 14
        }
      ]
    },
    {
      "cell_type": "code",
      "metadata": {
        "colab": {
          "base_uri": "https://localhost:8080/",
          "height": 338
        },
        "id": "RMom1Yg_fxSe",
        "outputId": "a2a09838-b756-47ae-fd6d-47a9a803384d"
      },
      "source": [
        "sympy.plot(L(f), xlim=(-20, 20), ylim=(-50, 50))\n",
        "f,L(f)"
      ],
      "execution_count": null,
      "outputs": [
        {
          "output_type": "display_data",
          "data": {
            "image/png": "[encoded data removed]",
            "text/plain": [
              "<Figure size 432x288 with 1 Axes>"
            ]
          },
          "metadata": {
            "tags": [],
            "needs_background": "light"
          }
        },
        {
          "output_type": "execute_result",
          "data": {
            "image/png": "[encoded data removed]",
            "text/latex": "$\\displaystyle \\left( e^{- 2 t}, \\  \\frac{1}{s + 2}\\right)$",
            "text/plain": [
              "⎛ -2⋅t    1  ⎞\n",
              "⎜ℯ    , ─────⎟\n",
              "⎝       s + 2⎠"
            ]
          },
          "metadata": {
            "tags": []
          },
          "execution_count": 15
        }
      ]
    },
    {
      "cell_type": "code",
      "metadata": {
        "id": "xkpi6ryhgC7j"
      },
      "source": [
        "from ipywidgets import interact\n",
        "def trans(A,tetha):\n",
        "  f = A*sympy.sin(t - tetha)\n",
        "  sympy.plot(f,xlim=(-10, 10), ylim=(-10, 10))\n",
        "  plt.show()\n",
        "  return f"
      ],
      "execution_count": null,
      "outputs": []
    },
    {
      "cell_type": "code",
      "metadata": {
        "id": "3ofLo99fxW7t",
        "colab": {
          "base_uri": "https://localhost:8080/",
          "height": 696,
          "referenced_widgets": [
            "c00d9912305d4a5bbd9d942b03570199",
            "4234866ccd8c4a5eb83401088e47bb4c",
            "c0b283e2d6bd437e83fcbc37b5bdf18f",
            "9b73067e01be4678b46952b9ecc6ed60",
            "4650480708334b74991a534dca78ab6b",
            "792f028a0ad54f389ebe03d49622e986",
            "4dd76837703a4de3a2e6d1a8ac2d9f29",
            "99313bb11e774de1bf24b3b6084bbd65",
            "1520f5bc621647b2b0fe0a86bb71d4eb",
            "4f896a3c992a49eca9fac243df390109"
          ]
        },
        "outputId": "02302586-c1d5-4334-96ff-dcec4b4857df"
      },
      "source": [
        "f = interact(trans, A =(0, 10), tetha =(0, 10))"
      ],
      "execution_count": null,
      "outputs": [
        {
          "output_type": "display_data",
          "data": {
            "application/vnd.jupyter.widget-view+json": {
              "model_id": "c00d9912305d4a5bbd9d942b03570199",
              "version_minor": 0,
              "version_major": 2
            },
            "text/plain": [
              "interactive(children=(IntSlider(value=5, description='A', max=10), IntSlider(value=5, description='tetha', max…"
            ]
          },
          "metadata": {
            "tags": []
          }
        }
      ]
    },
    {
      "cell_type": "markdown",
      "metadata": {
        "id": "7R6rHCPnI0O3"
      },
      "source": [
        "### Reproducing standard transform table"
      ]
    },
    {
      "cell_type": "markdown",
      "metadata": {
        "id": "hqXkb-rOI0O3"
      },
      "source": [
        "Let's see if we can match the functions in the table"
      ]
    },
    {
      "cell_type": "code",
      "metadata": {
        "colab": {
          "base_uri": "https://localhost:8080/",
          "height": 39
        },
        "id": "pf1dfQitI0O4",
        "outputId": "cb7dd910-170b-4726-b3a9-e53f8720166f"
      },
      "source": [
        "omega = sympy.Symbol('omega', real=True)\n",
        "exp = sympy.exp\n",
        "sin = sympy.sin\n",
        "cos = sympy.cos\n",
        "functions = [1,\n",
        "         t,\n",
        "         exp(-a*t),\n",
        "         t*exp(-a*t),\n",
        "         t**2*exp(-a*t),\n",
        "         sin(omega*t),\n",
        "         cos(omega*t),\n",
        "         1 - exp(-a*t),\n",
        "         exp(-a*t)*sin(omega*t),\n",
        "         exp(-a*t)*cos(omega*t),\n",
        "         ]\n",
        "functions"
      ],
      "execution_count": null,
      "outputs": [
        {
          "output_type": "execute_result",
          "data": {
            "image/png": "[encoded data removed]",
            "text/latex": "$\\displaystyle \\left[ 1, \\  t, \\  e^{- a t}, \\  t e^{- a t}, \\  t^{2} e^{- a t}, \\  \\sin{\\left(\\omega t \\right)}, \\  \\cos{\\left(\\omega t \\right)}, \\  1 - e^{- a t}, \\  e^{- a t} \\sin{\\left(\\omega t \\right)}, \\  e^{- a t} \\cos{\\left(\\omega t \\right)}\\right]$",
            "text/plain": [
              "⎡       -a⋅t     -a⋅t   2  -a⋅t                           -a⋅t   -a⋅t         \n",
              "⎣1, t, ℯ    , t⋅ℯ    , t ⋅ℯ    , sin(ω⋅t), cos(ω⋅t), 1 - ℯ    , ℯ    ⋅sin(ω⋅t)\n",
              "\n",
              "   -a⋅t         ⎤\n",
              ", ℯ    ⋅cos(ω⋅t)⎦"
            ]
          },
          "metadata": {
            "tags": []
          },
          "execution_count": 18
        }
      ]
    },
    {
      "cell_type": "code",
      "metadata": {
        "colab": {
          "base_uri": "https://localhost:8080/",
          "height": 68
        },
        "id": "gXpuXz2EI0O4",
        "outputId": "0f2f6b6b-ed3e-41eb-c36d-dc718be2ebd5"
      },
      "source": [
        "Fs = [L(f) for f in functions]\n",
        "Fs"
      ],
      "execution_count": null,
      "outputs": [
        {
          "output_type": "execute_result",
          "data": {
            "image/png": "[encoded data removed]",
            "text/latex": "$\\displaystyle \\left[ \\frac{1}{s}, \\  \\frac{1}{s^{2}}, \\  \\frac{1}{a + s}, \\  \\frac{1}{\\left(a + s\\right)^{2}}, \\  \\frac{2}{\\left(a + s\\right)^{3}}, \\  \\frac{\\omega}{\\omega^{2} + s^{2}}, \\  \\frac{s}{\\omega^{2} + s^{2}}, \\  \\frac{a}{s \\left(a + s\\right)}, \\  \\frac{\\omega}{\\omega^{2} + \\left(a + s\\right)^{2}}, \\  \\frac{a + s}{\\omega^{2} + \\left(a + s\\right)^{2}}\\right]$",
            "text/plain": [
              "⎡1  1     1       1         2         ω        s         a            ω       \n",
              "⎢─, ──, ─────, ────────, ────────, ───────, ───────, ─────────, ─────────────,\n",
              "⎢s   2  a + s         2         3   2    2   2    2  s⋅(a + s)   2          2 \n",
              "⎣   s          (a + s)   (a + s)   ω  + s   ω  + s              ω  + (a + s)  \n",
              "\n",
              "     a + s    ⎤\n",
              " ─────────────⎥\n",
              "  2          2⎥\n",
              " ω  + (a + s) ⎦"
            ]
          },
          "metadata": {
            "tags": []
          },
          "execution_count": 19
        }
      ]
    },
    {
      "cell_type": "markdown",
      "metadata": {
        "id": "dT3Fswmx1nz4"
      },
      "source": [
        "## Properties"
      ]
    },
    {
      "cell_type": "markdown",
      "metadata": {
        "id": "fhMCG7tA2Fp1"
      },
      "source": [
        "#### 1. Linearity\n",
        "\n",
        "$\n",
        "    \\ aL(f1)+bL(f2) = L(af1 + bf2) \\\n",
        "$\n",
        "\n",
        "$a,b\\in R $"
      ]
    },
    {
      "cell_type": "code",
      "metadata": {
        "id": "q24so6dL2LVz",
        "colab": {
          "base_uri": "https://localhost:8080/",
          "height": 58
        },
        "outputId": "e69c894d-94a4-45d8-b87a-daddd9cd28d1"
      },
      "source": [
        "# Linearity\n",
        "f1 = sympy.exp(-3*t)\n",
        "f2 = sympy.exp(-5*t)\n",
        "5*L(f1)+4*L(f2) , L(5*f1 + 4*f2).apart(s)"
      ],
      "execution_count": null,
      "outputs": [
        {
          "output_type": "execute_result",
          "data": {
            "image/png": "[encoded data removed]",
            "text/latex": "$\\displaystyle \\left( \\frac{4}{s + 5} + \\frac{5}{s + 3}, \\  \\frac{4}{s + 5} + \\frac{5}{s + 3}\\right)$",
            "text/plain": [
              "⎛  4       5      4       5  ⎞\n",
              "⎜───── + ─────, ───── + ─────⎟\n",
              "⎝s + 5   s + 3  s + 5   s + 3⎠"
            ]
          },
          "metadata": {
            "tags": []
          },
          "execution_count": 20
        }
      ]
    },
    {
      "cell_type": "markdown",
      "metadata": {
        "id": "dQ-uloJd4SOw"
      },
      "source": [
        "#### 2. time transposing \n",
        "$ L(f(t-a))  = e^{-a}L(f(t))$"
      ]
    },
    {
      "cell_type": "code",
      "metadata": {
        "colab": {
          "base_uri": "https://localhost:8080/",
          "height": 58
        },
        "id": "rQiJ_qlm5Jk5",
        "outputId": "f381172d-b7d3-4c76-9011-012d5e540aa7"
      },
      "source": [
        "# Time translaction\n",
        "f1 = sympy.exp(t)\n",
        "f2 = sympy.exp(t-5)\n",
        "f1,f2,L(f1),L(f2)"
      ],
      "execution_count": null,
      "outputs": [
        {
          "output_type": "execute_result",
          "data": {
            "image/png": "[encoded data removed]",
            "text/latex": "$\\displaystyle \\left( e^{t}, \\  e^{t - 5}, \\  \\frac{1}{s - 1}, \\  \\frac{1}{\\left(s - 1\\right) e^{5}}\\right)$",
            "text/plain": [
              "⎛                     -5 ⎞\n",
              "⎜ t   t - 5    1     ℯ   ⎟\n",
              "⎜ℯ , ℯ     , ─────, ─────⎟\n",
              "⎝            s - 1  s - 1⎠"
            ]
          },
          "metadata": {
            "tags": []
          },
          "execution_count": 21
        }
      ]
    },
    {
      "cell_type": "markdown",
      "metadata": {
        "id": "V_C_s2wO6jBh"
      },
      "source": [
        "#### 3. Frequency tranlaction\n",
        "\n",
        "$ L(e^{-at}f(t)) = F( s + a)$"
      ]
    },
    {
      "cell_type": "code",
      "metadata": {
        "colab": {
          "base_uri": "https://localhost:8080/",
          "height": 68
        },
        "id": "o74anEg365Oa",
        "outputId": "35b3c5e3-a11b-4699-f957-5dc12dae3328"
      },
      "source": [
        "# Frequence \n",
        "f1 = t\n",
        "f1, L(f1)\n",
        "f2 = sympy.exp(-2*t)*f1\n",
        "f1,f2,L(f1),L(f2)"
      ],
      "execution_count": null,
      "outputs": [
        {
          "output_type": "execute_result",
          "data": {
            "image/png": "[encoded data removed]",
            "text/latex": "$\\displaystyle \\left( t, \\  t e^{- 2 t}, \\  \\frac{1}{s^{2}}, \\  \\frac{1}{\\left(s + 2\\right)^{2}}\\right)$",
            "text/plain": [
              "⎛      -2⋅t  1      1    ⎞\n",
              "⎜t, t⋅ℯ    , ──, ────────⎟\n",
              "⎜             2         2⎟\n",
              "⎝            s   (s + 2) ⎠"
            ]
          },
          "metadata": {
            "tags": []
          },
          "execution_count": 22
        }
      ]
    },
    {
      "cell_type": "markdown",
      "metadata": {
        "id": "_nHBqjeW7tVM"
      },
      "source": [
        "### 4. Integral Theorem\n",
        "$ L(f'(t)) = sL(f(t))$\n"
      ]
    },
    {
      "cell_type": "code",
      "metadata": {
        "id": "qCvvwwc1_JC-"
      },
      "source": [
        "def der(f):\n",
        "  return sympy.diff(f)"
      ],
      "execution_count": null,
      "outputs": []
    },
    {
      "cell_type": "code",
      "metadata": {
        "colab": {
          "base_uri": "https://localhost:8080/",
          "height": 39
        },
        "id": "5_C6d_Q2_Sm0",
        "outputId": "2efd7163-b194-46ad-94cc-9246531b2fe7"
      },
      "source": [
        "f1 = sympy.sin(2*t)\n",
        "f1, der(f1)"
      ],
      "execution_count": null,
      "outputs": [
        {
          "output_type": "execute_result",
          "data": {
            "image/png": "[encoded data removed]",
            "text/latex": "$\\displaystyle \\left( \\sin{\\left(2 t \\right)}, \\  2 \\cos{\\left(2 t \\right)}\\right)$",
            "text/plain": [
              "(sin(2⋅t), 2⋅cos(2⋅t))"
            ]
          },
          "metadata": {
            "tags": []
          },
          "execution_count": 24
        }
      ]
    },
    {
      "cell_type": "code",
      "metadata": {
        "colab": {
          "base_uri": "https://localhost:8080/",
          "height": 58
        },
        "id": "vTxt2TDT_ioi",
        "outputId": "0f563b46-047d-448b-9c70-87a9e779a515"
      },
      "source": [
        "L(f1),L(der(f1))"
      ],
      "execution_count": null,
      "outputs": [
        {
          "output_type": "execute_result",
          "data": {
            "image/png": "[encoded data removed]",
            "text/latex": "$\\displaystyle \\left( \\frac{2}{s^{2} + 4}, \\  \\frac{2 s}{s^{2} + 4}\\right)$",
            "text/plain": [
              "⎛  2      2⋅s  ⎞\n",
              "⎜──────, ──────⎟\n",
              "⎜ 2       2    ⎟\n",
              "⎝s  + 4  s  + 4⎠"
            ]
          },
          "metadata": {
            "tags": []
          },
          "execution_count": 25
        }
      ]
    },
    {
      "cell_type": "markdown",
      "metadata": {
        "id": "46qFpomY8Cih"
      },
      "source": [
        "### 5. Initial value\n",
        "$\\lim_{t\\to\\infty} f(t) = \\lim_{s\\to 0} sF(s)$"
      ]
    },
    {
      "cell_type": "code",
      "metadata": {
        "id": "qHsZlHpH6_xN",
        "colab": {
          "base_uri": "https://localhost:8080/",
          "height": 243
        },
        "outputId": "3c11b0d2-ff31-4f89-87a2-0d2e40445d47"
      },
      "source": [
        "f3 = 2 - 3*sympy.exp(-t)\n",
        "p = sympy.plot(f3,invL(f3), show=False)\n",
        "p[1].line_color = 'red'\n",
        "p.show()\n",
        "f3,L(f3)"
      ],
      "execution_count": null,
      "outputs": [
        {
          "output_type": "error",
          "ename": "NameError",
          "evalue": "ignored",
          "traceback": [
            "\u001b[0;31m---------------------------------------------------------------------------\u001b[0m",
            "\u001b[0;31mNameError\u001b[0m                                 Traceback (most recent call last)",
            "\u001b[0;32m<ipython-input-26-3f849c0809ac>\u001b[0m in \u001b[0;36m<module>\u001b[0;34m()\u001b[0m\n\u001b[1;32m      1\u001b[0m \u001b[0mf3\u001b[0m \u001b[0;34m=\u001b[0m \u001b[0;36m2\u001b[0m \u001b[0;34m-\u001b[0m \u001b[0;36m3\u001b[0m\u001b[0;34m*\u001b[0m\u001b[0msympy\u001b[0m\u001b[0;34m.\u001b[0m\u001b[0mexp\u001b[0m\u001b[0;34m(\u001b[0m\u001b[0;34m-\u001b[0m\u001b[0mt\u001b[0m\u001b[0;34m)\u001b[0m\u001b[0;34m\u001b[0m\u001b[0;34m\u001b[0m\u001b[0m\n\u001b[0;32m----> 2\u001b[0;31m \u001b[0mp\u001b[0m \u001b[0;34m=\u001b[0m \u001b[0msympy\u001b[0m\u001b[0;34m.\u001b[0m\u001b[0mplot\u001b[0m\u001b[0;34m(\u001b[0m\u001b[0mf3\u001b[0m\u001b[0;34m,\u001b[0m\u001b[0minvL\u001b[0m\u001b[0;34m(\u001b[0m\u001b[0mf3\u001b[0m\u001b[0;34m)\u001b[0m\u001b[0;34m,\u001b[0m \u001b[0mshow\u001b[0m\u001b[0;34m=\u001b[0m\u001b[0;32mFalse\u001b[0m\u001b[0;34m)\u001b[0m\u001b[0;34m\u001b[0m\u001b[0;34m\u001b[0m\u001b[0m\n\u001b[0m\u001b[1;32m      3\u001b[0m \u001b[0mp\u001b[0m\u001b[0;34m[\u001b[0m\u001b[0;36m1\u001b[0m\u001b[0;34m]\u001b[0m\u001b[0;34m.\u001b[0m\u001b[0mline_color\u001b[0m \u001b[0;34m=\u001b[0m \u001b[0;34m'red'\u001b[0m\u001b[0;34m\u001b[0m\u001b[0;34m\u001b[0m\u001b[0m\n\u001b[1;32m      4\u001b[0m \u001b[0mp\u001b[0m\u001b[0;34m.\u001b[0m\u001b[0mshow\u001b[0m\u001b[0;34m(\u001b[0m\u001b[0;34m)\u001b[0m\u001b[0;34m\u001b[0m\u001b[0;34m\u001b[0m\u001b[0m\n\u001b[1;32m      5\u001b[0m \u001b[0mf3\u001b[0m\u001b[0;34m,\u001b[0m\u001b[0mL\u001b[0m\u001b[0;34m(\u001b[0m\u001b[0mf3\u001b[0m\u001b[0;34m)\u001b[0m\u001b[0;34m\u001b[0m\u001b[0;34m\u001b[0m\u001b[0m\n",
            "\u001b[0;31mNameError\u001b[0m: name 'invL' is not defined"
          ]
        }
      ]
    },
    {
      "cell_type": "markdown",
      "metadata": {
        "id": "_QZazpbWxG6y"
      },
      "source": [
        "## Inverse Transform"
      ]
    },
    {
      "cell_type": "markdown",
      "metadata": {
        "id": "AZspFEz1I0Oz"
      },
      "source": [
        "### What is that θ?"
      ]
    },
    {
      "cell_type": "markdown",
      "metadata": {
        "id": "f9h45VNyI0O0"
      },
      "source": [
        "The unit step function is also known as the Heaviside step function. We will see this function often in inverse laplace transforms. It is typeset as $\\theta(t)$ by sympy."
      ]
    },
    {
      "cell_type": "markdown",
      "metadata": {
        "id": "10FhJlB0I0O1"
      },
      "source": [
        "Look at the difference between $f$ and the inverse laplace transform we obtained, which contains the unit step to force it to zero before $t=0$."
      ]
    },
    {
      "cell_type": "code",
      "metadata": {
        "colab": {
          "base_uri": "https://localhost:8080/",
          "height": 39
        },
        "id": "NFUD47icI0O0",
        "outputId": "3d338da4-829a-491a-bcad-768a1929a865"
      },
      "source": [
        "sympy.Heaviside(t)"
      ],
      "execution_count": null,
      "outputs": [
        {
          "output_type": "execute_result",
          "data": {
            "image/png": "[encoded data removed]",
            "text/latex": "$\\displaystyle \\theta\\left(t\\right)$",
            "text/plain": [
              "θ(t)"
            ]
          },
          "metadata": {
            "tags": []
          },
          "execution_count": 27
        }
      ]
    },
    {
      "cell_type": "code",
      "metadata": {
        "colab": {
          "base_uri": "https://localhost:8080/",
          "height": 296
        },
        "id": "JL9qi2w1I0O0",
        "outputId": "19d0f67b-4f82-444d-c726-87b35b2de9b0"
      },
      "source": [
        "sympy.plot(sympy.Heaviside(t));"
      ],
      "execution_count": null,
      "outputs": [
        {
          "output_type": "display_data",
          "data": {
            "image/png": "[encoded data removed]",
            "text/plain": [
              "<Figure size 432x288 with 1 Axes>"
            ]
          },
          "metadata": {
            "tags": [],
            "needs_background": "light"
          }
        }
      ]
    },
    {
      "cell_type": "code",
      "metadata": {
        "colab": {
          "base_uri": "https://localhost:8080/",
          "height": 319
        },
        "id": "iSDt16jNI0O2",
        "outputId": "b59374f6-a6fb-4578-e6ad-9bead2fe2f70"
      },
      "source": [
        "f = sympy.exp(-t)\n",
        "p = sympy.plot(f,sympy.Heaviside(t), \n",
        "               xlim=(-1, 4), ylim=(0, 3), show=False)\n",
        "p[1].line_color = 'red'\n",
        "p.show()\n",
        "f*sympy.Heaviside(t)"
      ],
      "execution_count": null,
      "outputs": [
        {
          "output_type": "display_data",
          "data": {
            "image/png": "[encoded data removed]",
            "text/plain": [
              "<Figure size 432x288 with 1 Axes>"
            ]
          },
          "metadata": {
            "tags": [],
            "needs_background": "light"
          }
        },
        {
          "output_type": "execute_result",
          "data": {
            "image/png": "[encoded data removed]",
            "text/latex": "$\\displaystyle e^{- t} \\theta\\left(t\\right)$",
            "text/plain": [
              " -t     \n",
              "ℯ  ⋅θ(t)"
            ]
          },
          "metadata": {
            "tags": []
          },
          "execution_count": 29
        }
      ]
    },
    {
      "cell_type": "code",
      "metadata": {
        "jupyter": {
          "outputs_hidden": true
        },
        "id": "kNrXOBh0I0Ox"
      },
      "source": [
        "def invL(F):\n",
        "    return sympy.inverse_laplace_transform(F, s, t)"
      ],
      "execution_count": null,
      "outputs": []
    },
    {
      "cell_type": "code",
      "metadata": {
        "colab": {
          "base_uri": "https://localhost:8080/",
          "height": 58
        },
        "id": "gMjOVw1ZpTx6",
        "outputId": "51f03a29-b458-45ec-ff78-9dda77340dc7"
      },
      "source": [
        "F = 1/(s+2)\n",
        "F,invL(F)"
      ],
      "execution_count": null,
      "outputs": [
        {
          "output_type": "execute_result",
          "data": {
            "image/png": "[encoded data removed]",
            "text/latex": "$\\displaystyle \\left( \\frac{1}{s + 2}, \\  e^{- 2 t} \\theta\\left(t\\right)\\right)$",
            "text/plain": [
              "⎛  1     -2⋅t     ⎞\n",
              "⎜─────, ℯ    ⋅θ(t)⎟\n",
              "⎝s + 2            ⎠"
            ]
          },
          "metadata": {
            "tags": []
          },
          "execution_count": 31
        }
      ]
    },
    {
      "cell_type": "code",
      "metadata": {
        "id": "yd8C98i9t9gO",
        "colab": {
          "base_uri": "https://localhost:8080/",
          "height": 338
        },
        "outputId": "488bcee1-fced-4674-c30b-6e5a123be8ae"
      },
      "source": [
        "\n",
        "sympy.plot(invL(F),xlim=(-1, 4), ylim=(0, 3))\n",
        "F,invL(F)"
      ],
      "execution_count": null,
      "outputs": [
        {
          "output_type": "display_data",
          "data": {
            "image/png": "[encoded data removed]",
            "text/plain": [
              "<Figure size 432x288 with 1 Axes>"
            ]
          },
          "metadata": {
            "tags": [],
            "needs_background": "light"
          }
        },
        {
          "output_type": "execute_result",
          "data": {
            "image/png": "[encoded data removed]",
            "text/latex": "$\\displaystyle \\left( \\frac{1}{s + 2}, \\  e^{- 2 t} \\theta\\left(t\\right)\\right)$",
            "text/plain": [
              "⎛  1     -2⋅t     ⎞\n",
              "⎜─────, ℯ    ⋅θ(t)⎟\n",
              "⎝s + 2            ⎠"
            ]
          },
          "metadata": {
            "tags": []
          },
          "execution_count": 32
        }
      ]
    },
    {
      "cell_type": "markdown",
      "metadata": {
        "id": "9HJovtfxI0O6"
      },
      "source": [
        "### More complicated inverses\n",
        "\n",
        "Why doesn't the table feature more complicated functions? Because higher-order rational functions can be written as sums of simpler ones through application of partial fractions expansion."
      ]
    },
    {
      "cell_type": "code",
      "metadata": {
        "jupyter": {
          "outputs_hidden": true
        },
        "id": "HPgWaDOVI0O7"
      },
      "source": [
        "F = ((s + 1)*(s + 2)* (s + 3))/((s + 4)*(s + 5)*(s + 6))"
      ],
      "execution_count": null,
      "outputs": []
    },
    {
      "cell_type": "code",
      "metadata": {
        "colab": {
          "base_uri": "https://localhost:8080/",
          "height": 57
        },
        "id": "Re5DwtWII0O7",
        "outputId": "e0e26fbb-b5a4-4314-bd2b-7f36f23c3164"
      },
      "source": [
        "F"
      ],
      "execution_count": null,
      "outputs": [
        {
          "output_type": "execute_result",
          "data": {
            "image/png": "[encoded data removed]",
            "text/latex": "$\\displaystyle \\frac{\\left(s + 1\\right) \\left(s + 2\\right) \\left(s + 3\\right)}{\\left(s + 4\\right) \\left(s + 5\\right) \\left(s + 6\\right)}$",
            "text/plain": [
              "(s + 1)⋅(s + 2)⋅(s + 3)\n",
              "───────────────────────\n",
              "(s + 4)⋅(s + 5)⋅(s + 6)"
            ]
          },
          "metadata": {
            "tags": []
          },
          "execution_count": 34
        }
      ]
    },
    {
      "cell_type": "code",
      "metadata": {
        "colab": {
          "base_uri": "https://localhost:8080/",
          "height": 52
        },
        "id": "7OIrvN4xI0O8",
        "outputId": "134513e7-d0f0-4ad0-f0af-62185e056fc8"
      },
      "source": [
        "F.apart(s)"
      ],
      "execution_count": null,
      "outputs": [
        {
          "output_type": "execute_result",
          "data": {
            "image/png": "[encoded data removed]",
            "text/latex": "$\\displaystyle 1 - \\frac{30}{s + 6} + \\frac{24}{s + 5} - \\frac{3}{s + 4}$",
            "text/plain": [
              "      30      24      3  \n",
              "1 - ───── + ───── - ─────\n",
              "    s + 6   s + 5   s + 4"
            ]
          },
          "metadata": {
            "tags": []
          },
          "execution_count": 35
        }
      ]
    },
    {
      "cell_type": "markdown",
      "metadata": {
        "id": "i5iNK6FdI0O8"
      },
      "source": [
        "Even sympy can benefit from a little help sometimes. When we try to calculate the inverse of $F$ we get a bit of a nasty answer:"
      ]
    },
    {
      "cell_type": "code",
      "metadata": {
        "colab": {
          "base_uri": "https://localhost:8080/",
          "height": 58
        },
        "id": "XyClurWCI0O8",
        "outputId": "ed5a4ef5-6188-41a7-cf52-a406f801696c"
      },
      "source": [
        "invL(F)"
      ],
      "execution_count": null,
      "outputs": [
        {
          "output_type": "execute_result",
          "data": {
            "image/png": "[encoded data removed]",
            "text/latex": "$\\displaystyle 11 \\left(- 2 e^{2 t} + 5 e^{t} - 3\\right) e^{- 6 t} \\theta\\left(t\\right) + 3 \\left(e^{2 t} - 2 e^{t} + 1\\right) e^{- 6 t} \\theta\\left(t\\right) + 6 \\left(8 e^{2 t} - 25 e^{t} + 18\\right) e^{- 6 t} \\theta\\left(t\\right) + \\mathcal{L}^{-1}_{s}\\left[\\frac{s^{3}}{s^{3} + 15 s^{2} + 74 s + 120}\\right]\\left(t\\right)$",
            "text/plain": [
              "                                                                              \n",
              "   ⎛     2⋅t      t    ⎞  -6⋅t          ⎛ 2⋅t      t    ⎞  -6⋅t          ⎛   2\n",
              "11⋅⎝- 2⋅ℯ    + 5⋅ℯ  - 3⎠⋅ℯ    ⋅θ(t) + 3⋅⎝ℯ    - 2⋅ℯ  + 1⎠⋅ℯ    ⋅θ(t) + 6⋅⎝8⋅ℯ \n",
              "                                                                              \n",
              "                                                                              \n",
              "\n",
              "                                                     ⎛            3           \n",
              "⋅t       t     ⎞  -6⋅t                               ⎜           s            \n",
              "   - 25⋅ℯ  + 18⎠⋅ℯ    ⋅θ(t) + InverseLaplaceTransform⎜───────────────────────,\n",
              "                                                     ⎜ 3       2              \n",
              "                                                     ⎝s  + 15⋅s  + 74⋅s + 120 \n",
              "\n",
              "           ⎞\n",
              "           ⎟\n",
              " s, t, None⎟\n",
              "           ⎟\n",
              "           ⎠"
            ]
          },
          "metadata": {
            "tags": []
          },
          "execution_count": 36
        }
      ]
    },
    {
      "cell_type": "markdown",
      "metadata": {
        "id": "iYfd6EhdI0O9"
      },
      "source": [
        "Perhaps it looks better if we simplify?"
      ]
    },
    {
      "cell_type": "code",
      "metadata": {
        "colab": {
          "base_uri": "https://localhost:8080/",
          "height": 58
        },
        "id": "ycmomnRcI0O9",
        "outputId": "516bea95-7bff-4bee-e8d7-ef82c438fc17"
      },
      "source": [
        "invL(F).simplify()"
      ],
      "execution_count": null,
      "outputs": [
        {
          "output_type": "execute_result",
          "data": {
            "image/png": "[encoded data removed]",
            "text/latex": "$\\displaystyle \\mathcal{L}^{-1}_{s}\\left[\\frac{s^{3}}{s^{3} + 15 s^{2} + 74 s + 120}\\right]\\left(t\\right) + 29 e^{- 4 t} \\theta\\left(t\\right) - 101 e^{- 5 t} \\theta\\left(t\\right) + 78 e^{- 6 t} \\theta\\left(t\\right)$",
            "text/plain": [
              "                       ⎛            3                      ⎞                  \n",
              "                       ⎜           s                       ⎟       -4⋅t       \n",
              "InverseLaplaceTransform⎜───────────────────────, s, t, None⎟ + 29⋅ℯ    ⋅θ(t) -\n",
              "                       ⎜ 3       2                         ⎟                  \n",
              "                       ⎝s  + 15⋅s  + 74⋅s + 120            ⎠                  \n",
              "\n",
              "                               \n",
              "      -5⋅t            -6⋅t     \n",
              " 101⋅ℯ    ⋅θ(t) + 78⋅ℯ    ⋅θ(t)\n",
              "                               \n",
              "                               "
            ]
          },
          "metadata": {
            "tags": []
          },
          "execution_count": 37
        }
      ]
    },
    {
      "cell_type": "markdown",
      "metadata": {
        "id": "fj3XjWB-I0O-"
      },
      "source": [
        "No, it still features an \"unknown\" laplace transform. If we do the partial fractions expansion first, we get a clean answer:"
      ]
    },
    {
      "cell_type": "code",
      "metadata": {
        "colab": {
          "base_uri": "https://localhost:8080/",
          "height": 39
        },
        "id": "ZKbKNW-QI0O_",
        "outputId": "512bc442-bf17-4b62-9b69-bfb4863e034f"
      },
      "source": [
        "invL(F.apart(s)).simplify()"
      ],
      "execution_count": null,
      "outputs": [
        {
          "output_type": "execute_result",
          "data": {
            "image/png": "[encoded data removed]",
            "text/latex": "$\\displaystyle \\delta\\left(t\\right) - 3 e^{- 4 t} \\theta\\left(t\\right) + 24 e^{- 5 t} \\theta\\left(t\\right) - 30 e^{- 6 t} \\theta\\left(t\\right)$",
            "text/plain": [
              "          -4⋅t            -5⋅t            -6⋅t     \n",
              "δ(t) - 3⋅ℯ    ⋅θ(t) + 24⋅ℯ    ⋅θ(t) - 30⋅ℯ    ⋅θ(t)"
            ]
          },
          "metadata": {
            "tags": []
          },
          "execution_count": 38
        }
      ]
    },
    {
      "cell_type": "markdown",
      "metadata": {
        "id": "UuXPQndmME0C"
      },
      "source": [
        "## Atividade 1: \n",
        "Encontre as Transformadas de Laplace e mostre os graficos das funções\n",
        "1.   $f(t) = 5e^{-t}  $\n",
        "\n",
        "2.   $f(t) = 2e^{-t/2}  $\n",
        "\n",
        "3.    $f(t) = t^{2}  $\n",
        "\n",
        "4.   $f(t) = e^{-t}\\mathcal{cos} (3t) $\n",
        "\n",
        "5.   $f(t) = \\mathcal{cosh} (t) $"
      ]
    },
    {
      "cell_type": "code",
      "metadata": {
        "id": "FTTI7Ff_LEJg"
      },
      "source": [
        "import numpy as np\n",
        "import sympy\n",
        "sympy.init_printing()"
      ],
      "execution_count": null,
      "outputs": []
    },
    {
      "cell_type": "code",
      "metadata": {
        "id": "qb2PLNxjVb2p",
        "colab": {
          "base_uri": "https://localhost:8080/",
          "height": 319
        },
        "outputId": "23872a42-bf0c-4199-f98f-89067cac0e12"
      },
      "source": [
        "# coloque aqui seu código\n",
        "f1 = 5*sympy.exp(-(t))\n",
        "sympy.plot(f1, xlim=(-5, 5), ylim=(0, 100))\n",
        "f1\n"
      ],
      "execution_count": null,
      "outputs": [
        {
          "output_type": "display_data",
          "data": {
            "image/png": "[encoded data removed]",
            "text/plain": [
              "<Figure size 432x288 with 1 Axes>"
            ]
          },
          "metadata": {
            "tags": [],
            "needs_background": "light"
          }
        },
        {
          "output_type": "execute_result",
          "data": {
            "image/png": "[encoded data removed]",
            "text/latex": "$\\displaystyle 5 e^{- t}$",
            "text/plain": [
              "   -t\n",
              "5⋅ℯ  "
            ]
          },
          "metadata": {
            "tags": []
          },
          "execution_count": 40
        }
      ]
    },
    {
      "cell_type": "code",
      "metadata": {
        "colab": {
          "base_uri": "https://localhost:8080/",
          "height": 332
        },
        "id": "9-fr-P3Mxqg4",
        "outputId": "13b595f2-679c-4818-9f6e-f5e024b2c3be"
      },
      "source": [
        "F1 = L(f1)\n",
        "sympy.plot((F1), xlim=(-5,5), ylim=(-100,100))\n",
        "F1"
      ],
      "execution_count": null,
      "outputs": [
        {
          "output_type": "display_data",
          "data": {
            "image/png": "[encoded data removed]",
            "text/plain": [
              "<Figure size 432x288 with 1 Axes>"
            ]
          },
          "metadata": {
            "tags": [],
            "needs_background": "light"
          }
        },
        {
          "output_type": "execute_result",
          "data": {
            "image/png": "[encoded data removed]",
            "text/latex": "$\\displaystyle \\frac{5}{s + 1}$",
            "text/plain": [
              "  5  \n",
              "─────\n",
              "s + 1"
            ]
          },
          "metadata": {
            "tags": []
          },
          "execution_count": 41
        }
      ]
    },
    {
      "cell_type": "code",
      "metadata": {
        "colab": {
          "base_uri": "https://localhost:8080/",
          "height": 611
        },
        "id": "anQ_bqzkxydn",
        "outputId": "def8e696-49fa-4eee-8e34-d645f78258a9"
      },
      "source": [
        "f2 = 2*sympy.exp(-t/2)\n",
        "sympy.plot(f2)\n",
        "f2\n",
        "F2 = L(f2)\n",
        "sympy.plot((F2), xlim=(-5,5), ylim=(-100,100))\n",
        "F2"
      ],
      "execution_count": null,
      "outputs": [
        {
          "output_type": "display_data",
          "data": {
            "image/png": "[encoded data removed]",
            "text/plain": [
              "<Figure size 432x288 with 1 Axes>"
            ]
          },
          "metadata": {
            "tags": [],
            "needs_background": "light"
          }
        },
        {
          "output_type": "display_data",
          "data": {
            "image/png": "[encoded data removed]",
            "text/plain": [
              "<Figure size 432x288 with 1 Axes>"
            ]
          },
          "metadata": {
            "tags": [],
            "needs_background": "light"
          }
        },
        {
          "output_type": "execute_result",
          "data": {
            "image/png": "[encoded data removed]",
            "text/latex": "$\\displaystyle \\frac{4}{2 s + 1}$",
            "text/plain": [
              "   4   \n",
              "───────\n",
              "2⋅s + 1"
            ]
          },
          "metadata": {
            "tags": []
          },
          "execution_count": 42
        }
      ]
    },
    {
      "cell_type": "code",
      "metadata": {
        "colab": {
          "base_uri": "https://localhost:8080/",
          "height": 610
        },
        "id": "7ZBu0KBMx2Hh",
        "outputId": "5eea228c-3f6f-4635-a9b3-24078bb9e610"
      },
      "source": [
        "f3 = t**2\n",
        "sympy.plot(f3)\n",
        "f3\n",
        "F3 = L(f3)\n",
        "sympy.plot((F3), xlim=(-5,5), ylim=(-100,100))\n",
        "F3"
      ],
      "execution_count": null,
      "outputs": [
        {
          "output_type": "display_data",
          "data": {
            "image/png": "[encoded data removed]",
            "text/plain": [
              "<Figure size 432x288 with 1 Axes>"
            ]
          },
          "metadata": {
            "tags": [],
            "needs_background": "light"
          }
        },
        {
          "output_type": "display_data",
          "data": {
            "image/png": "[encoded data removed]",
            "text/plain": [
              "<Figure size 432x288 with 1 Axes>"
            ]
          },
          "metadata": {
            "tags": [],
            "needs_background": "light"
          }
        },
        {
          "output_type": "execute_result",
          "data": {
            "image/png": "[encoded data removed]",
            "text/latex": "$\\displaystyle \\frac{2}{s^{3}}$",
            "text/plain": [
              "2 \n",
              "──\n",
              " 3\n",
              "s "
            ]
          },
          "metadata": {
            "tags": []
          },
          "execution_count": 43
        }
      ]
    },
    {
      "cell_type": "code",
      "metadata": {
        "colab": {
          "base_uri": "https://localhost:8080/",
          "height": 618
        },
        "id": "y35Ea074yZyO",
        "outputId": "729fa728-1ec2-4cd6-b40a-5b2fefd40169"
      },
      "source": [
        "f4 = sympy.exp(-t)*sympy.cos(3*t)\n",
        "sympy.plot(f4)\n",
        "f4\n",
        "F4 = L(f4)\n",
        "sympy.plot((F4), xlim=(-5,5), ylim=(-100,100))\n",
        "F4\n"
      ],
      "execution_count": null,
      "outputs": [
        {
          "output_type": "display_data",
          "data": {
            "image/png": "[encoded data removed]",
            "text/plain": [
              "<Figure size 432x288 with 1 Axes>"
            ]
          },
          "metadata": {
            "tags": [],
            "needs_background": "light"
          }
        },
        {
          "output_type": "display_data",
          "data": {
            "image/png": "[encoded data removed]",
            "text/plain": [
              "<Figure size 432x288 with 1 Axes>"
            ]
          },
          "metadata": {
            "tags": [],
            "needs_background": "light"
          }
        },
        {
          "output_type": "execute_result",
          "data": {
            "image/png": "[encoded data removed]",
            "text/latex": "$\\displaystyle \\frac{s + 1}{\\left(s + 1\\right)^{2} + 9}$",
            "text/plain": [
              "   s + 1    \n",
              "────────────\n",
              "       2    \n",
              "(s + 1)  + 9"
            ]
          },
          "metadata": {
            "tags": []
          },
          "execution_count": 44
        }
      ]
    },
    {
      "cell_type": "code",
      "metadata": {
        "colab": {
          "base_uri": "https://localhost:8080/",
          "height": 608
        },
        "id": "2bWPzcb4yjsK",
        "outputId": "97774246-9470-4d6a-8844-74d4061b3dfb"
      },
      "source": [
        "f5 = sympy.cosh(t)\n",
        "sympy.plot(f5)\n",
        "f5\n",
        "F5 = L(f5)\n",
        "sympy.plot((F5), xlim=(-5,5), ylim=(-100,100))\n",
        "F5"
      ],
      "execution_count": null,
      "outputs": [
        {
          "output_type": "display_data",
          "data": {
            "image/png": "[encoded data removed]",
            "text/plain": [
              "<Figure size 432x288 with 1 Axes>"
            ]
          },
          "metadata": {
            "tags": [],
            "needs_background": "light"
          }
        },
        {
          "output_type": "display_data",
          "data": {
            "image/png": "[encoded data removed]",
            "text/plain": [
              "<Figure size 432x288 with 1 Axes>"
            ]
          },
          "metadata": {
            "tags": [],
            "needs_background": "light"
          }
        },
        {
          "output_type": "execute_result",
          "data": {
            "image/png": "[encoded data removed]",
            "text/latex": "$\\displaystyle \\frac{s}{s^{2} - 1}$",
            "text/plain": [
              "  s   \n",
              "──────\n",
              " 2    \n",
              "s  - 1"
            ]
          },
          "metadata": {
            "tags": []
          },
          "execution_count": 45
        }
      ]
    },
    {
      "cell_type": "markdown",
      "metadata": {
        "id": "a4vGZFiu71tx"
      },
      "source": [
        "## Atividade 2:\n",
        "Encontre as transformadas inversas das funções, e mostre os graficos\n",
        "\n",
        "\n",
        "1. $\\ F(s) = \\frac{5}{s(s+2)}$\n",
        "2. $ \\ F(s) = \\frac{12}{s^{2}+7s+12}$\n",
        "3. $ \\ F(s) = s+2 - \\frac{s+3}{(s+1)(s+2)}$\n",
        "4. $ \\ F(s) = \\frac{10}{ s^{2}+2s+10 }$\n",
        "\n"
      ]
    },
    {
      "cell_type": "code",
      "metadata": {
        "colab": {
          "base_uri": "https://localhost:8080/"
        },
        "id": "ssrf-iVt2hGU",
        "outputId": "8267c283-7d22-41cd-a36b-b62f7b661955"
      },
      "source": [
        "print(\"ALUNO:\\n Bruno\")"
      ],
      "execution_count": null,
      "outputs": [
        {
          "output_type": "stream",
          "text": [
            "ALUNO:\n",
            " Bruno\n"
          ],
          "name": "stdout"
        }
      ]
    },
    {
      "cell_type": "code",
      "metadata": {
        "id": "AIi8Rn7KG2cE",
        "colab": {
          "base_uri": "https://localhost:8080/",
          "height": 384
        },
        "outputId": "5df7954f-4323-46aa-eabf-11fd882cf6d7"
      },
      "source": [
        "print ('\\tQuestão 1:\\n')\n",
        "F = 5/(s*(s+2))\n",
        "sympy.plot(invL(F), xlim=(-10, 10), ylim=(-10, 10))\n",
        "F,invL(F)\n"
      ],
      "execution_count": null,
      "outputs": [
        {
          "output_type": "stream",
          "text": [
            "\tQuestão 1:\n",
            "\n"
          ],
          "name": "stdout"
        },
        {
          "output_type": "display_data",
          "data": {
            "image/png": "[encoded data removed]",
            "text/plain": [
              "<Figure size 432x288 with 1 Axes>"
            ]
          },
          "metadata": {
            "tags": [],
            "needs_background": "light"
          }
        },
        {
          "output_type": "execute_result",
          "data": {
            "image/png": "[encoded data removed]",
            "text/latex": "$\\displaystyle \\left( \\frac{5}{s \\left(s + 2\\right)}, \\  \\frac{5 \\left(e^{2 t} - 1\\right) e^{- 2 t} \\theta\\left(t\\right)}{2}\\right)$",
            "text/plain": [
              "⎛             ⎛ 2⋅t    ⎞  -2⋅t     ⎞\n",
              "⎜    5      5⋅⎝ℯ    - 1⎠⋅ℯ    ⋅θ(t)⎟\n",
              "⎜─────────, ───────────────────────⎟\n",
              "⎝s⋅(s + 2)             2           ⎠"
            ]
          },
          "metadata": {
            "tags": []
          },
          "execution_count": 47
        }
      ]
    },
    {
      "cell_type": "code",
      "metadata": {
        "colab": {
          "base_uri": "https://localhost:8080/",
          "height": 338
        },
        "id": "_lr07NXPvcr8",
        "outputId": "4f9fab42-0632-4cb0-a142-f7bb7c52e9e9"
      },
      "source": [
        "# Inversa Laplace F2\n",
        "F = 12/((s**2)+(7*s)+12)\n",
        "sympy.plot(invL(F), xlim=(-2, 2), ylim=(-5, 5))\n",
        "F,invL(F)"
      ],
      "execution_count": null,
      "outputs": [
        {
          "output_type": "display_data",
          "data": {
            "image/png": "[encoded data removed]",
            "text/plain": [
              "<Figure size 432x288 with 1 Axes>"
            ]
          },
          "metadata": {
            "tags": [],
            "needs_background": "light"
          }
        },
        {
          "output_type": "execute_result",
          "data": {
            "image/png": "[encoded data removed]",
            "text/latex": "$\\displaystyle \\left( \\frac{12}{s^{2} + 7 s + 12}, \\  12 \\left(e^{t} - 1\\right) e^{- 4 t} \\theta\\left(t\\right)\\right)$",
            "text/plain": [
              "⎛      12          ⎛ t    ⎞  -4⋅t     ⎞\n",
              "⎜─────────────, 12⋅⎝ℯ  - 1⎠⋅ℯ    ⋅θ(t)⎟\n",
              "⎜ 2                                   ⎟\n",
              "⎝s  + 7⋅s + 12                        ⎠"
            ]
          },
          "metadata": {
            "tags": []
          },
          "execution_count": 48
        }
      ]
    },
    {
      "cell_type": "code",
      "metadata": {
        "colab": {
          "base_uri": "https://localhost:8080/",
          "height": 356
        },
        "id": "wZEyV9ndvc-o",
        "outputId": "ad8cf851-20f2-4a5c-d549-00d42a3a8807"
      },
      "source": [
        "# Inversa Laplace F3\n",
        "F= s + 2 - ((s+3)/((s+1)*(s+2)))\n",
        "sympy.plot(F,xlim=(-5, 5), ylim=(-500, 500))\n",
        "print( \"Devido a resposta ser um número complexo, não é possível plotar o gráfico da inversa\")\n",
        "F,invL(F)\n",
        "\n"
      ],
      "execution_count": null,
      "outputs": [
        {
          "output_type": "display_data",
          "data": {
            "image/png": "[encoded data removed]",
            "text/plain": [
              "<Figure size 432x288 with 1 Axes>"
            ]
          },
          "metadata": {
            "tags": [],
            "needs_background": "light"
          }
        },
        {
          "output_type": "stream",
          "text": [
            "Devido a resposta ser um número complexo, não é possível plotar o gráfico da inversa\n"
          ],
          "name": "stdout"
        },
        {
          "output_type": "execute_result",
          "data": {
            "image/png": "[encoded data removed]",
            "text/latex": "$\\displaystyle \\left( s + 2 - \\frac{s + 3}{\\left(s + 1\\right) \\left(s + 2\\right)}, \\  \\left(1 - 2 e^{t}\\right) e^{- 2 t} \\theta\\left(t\\right) + \\mathcal{L}^{-1}_{s}\\left[s\\right]\\left(t\\right) + 2 \\delta\\left(t\\right)\\right)$",
            "text/plain": [
              "⎛             s + 3       ⎛       t⎞  -2⋅t                                    \n",
              "⎜s + 2 - ───────────────, ⎝1 - 2⋅ℯ ⎠⋅ℯ    ⋅θ(t) + InverseLaplaceTransform(s, s\n",
              "⎝        (s + 1)⋅(s + 2)                                                      \n",
              "\n",
              "                   ⎞\n",
              ", t, None) + 2⋅δ(t)⎟\n",
              "                   ⎠"
            ]
          },
          "metadata": {
            "tags": []
          },
          "execution_count": 49
        }
      ]
    },
    {
      "cell_type": "code",
      "metadata": {
        "colab": {
          "base_uri": "https://localhost:8080/",
          "height": 338
        },
        "id": "XbW6hqvdvdJa",
        "outputId": "afe58232-3d32-4c55-f744-5052ed6b7866"
      },
      "source": [
        "# Inversa Laplace F4\n",
        "F = 10/((s**2)+(2*s)+10)\n",
        "sympy.plot(invL(F),xlim=(-5, 5), ylim=(-5, 5))\n",
        "F,invL(F)\n"
      ],
      "execution_count": null,
      "outputs": [
        {
          "output_type": "display_data",
          "data": {
            "image/png": "[encoded data removed]",
            "text/plain": [
              "<Figure size 432x288 with 1 Axes>"
            ]
          },
          "metadata": {
            "tags": [],
            "needs_background": "light"
          }
        },
        {
          "output_type": "execute_result",
          "data": {
            "image/png": "[encoded data removed]",
            "text/latex": "$\\displaystyle \\left( \\frac{10}{s^{2} + 2 s + 10}, \\  \\frac{10 e^{- t} \\sin{\\left(3 t \\right)} \\theta\\left(t\\right)}{3}\\right)$",
            "text/plain": [
              "⎛                   -t              ⎞\n",
              "⎜      10       10⋅ℯ  ⋅sin(3⋅t)⋅θ(t)⎟\n",
              "⎜─────────────, ────────────────────⎟\n",
              "⎜ 2                      3          ⎟\n",
              "⎝s  + 2⋅s + 10                      ⎠"
            ]
          },
          "metadata": {
            "tags": []
          },
          "execution_count": 50
        }
      ]
    },
    {
      "cell_type": "markdown",
      "metadata": {
        "id": "s4KaHFh6D9qp"
      },
      "source": [
        "## Atividade 3:\n",
        "*As respostas calculadas computacionalmente coincidiram com os valores calculados analiticamente ( nos videos ) ?* \n",
        "\n",
        "*Em que as respostas diferem e porque ?*\n",
        "\n",
        "\n"
      ]
    },
    {
      "cell_type": "markdown",
      "metadata": {
        "id": "OR_ZtT7Jz73y"
      },
      "source": [
        "A. Não. Nos videos, as funções representadas por meio da inversa de Laplace continuam com seus valores em t<0.\n",
        "\n",
        "\n",
        "B. Foi utilizada a função HEAVISIDE, sendo uma função matematica, na qual, quando em uso de simulações númericas, \"força\" todos os valores para t<0 a 0, e para todos os valores em t>0 a serem representados por um valor \"unitário\"."
      ]
    },
    {
      "cell_type": "code",
      "metadata": {
        "id": "kZibD-N5MSJq"
      },
      "source": [
        ""
      ],
      "execution_count": null,
      "outputs": []
    }
  ]
}