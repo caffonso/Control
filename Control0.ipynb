{
  "nbformat": 4,
  "nbformat_minor": 0,
  "metadata": {
    "kernelspec": {
      "display_name": "Python 3",
      "language": "python",
      "name": "python3"
    },
    "language_info": {
      "codemirror_mode": {
        "name": "ipython",
        "version": 3
      },
      "file_extension": ".py",
      "mimetype": "text/x-python",
      "name": "python",
      "nbconvert_exporter": "python",
      "pygments_lexer": "ipython3",
      "version": "3.8.6"
    },
    "colab": {
      "name": "Control0.ipynb",
      "provenance": [],
      "collapsed_sections": [],
      "include_colab_link": true
    }
  },
  "cells": [
    {
      "cell_type": "markdown",
      "metadata": {
        "id": "view-in-github",
        "colab_type": "text"
      },
      "source": [
        "<a href=\"https://colab.research.google.com/github/caffonso/Control/blob/main/Control0.ipynb\" target=\"_parent\"><img src=\"https://colab.research.google.com/assets/colab-badge.svg\" alt=\"Open In Colab\"/></a>"
      ]
    },
    {
      "cell_type": "code",
      "metadata": {
        "id": "GHngsUiI-7Gy"
      },
      "source": [
        "# Atividade: ICP Biblioteca Numpy"
      ],
      "execution_count": null,
      "outputs": []
    },
    {
      "cell_type": "code",
      "metadata": {
        "colab": {
          "base_uri": "https://localhost:8080/"
        },
        "id": "zP7psGUh-7HA",
        "outputId": "e9700b5b-05b9-4706-c759-8007ca9de56e"
      },
      "source": [
        "import numpy as np\n",
        "print(\"Hi !\")"
      ],
      "execution_count": null,
      "outputs": [
        {
          "output_type": "stream",
          "text": [
            "Hi !\n"
          ],
          "name": "stdout"
        }
      ]
    },
    {
      "cell_type": "markdown",
      "metadata": {
        "id": "yEvIYu8w-7HC"
      },
      "source": [
        "Atividade 1: Modifique o programa a seguir para escrever seu nome"
      ]
    },
    {
      "cell_type": "code",
      "metadata": {
        "id": "qtnSM3rF-7HD"
      },
      "source": [
        "def PrintName():\n",
        "# Modifique o programa para escrever seu nome    \n",
        "# Começe aqui\n",
        "  print(\"Carlla\")\n",
        "# termine aqui\n",
        "  return"
      ],
      "execution_count": null,
      "outputs": []
    },
    {
      "cell_type": "code",
      "metadata": {
        "id": "TKWHV2XR-7HE",
        "colab": {
          "base_uri": "https://localhost:8080/"
        },
        "outputId": "5a666cf4-508f-401b-82e9-5426197e5529"
      },
      "source": [
        "PrintName()"
      ],
      "execution_count": null,
      "outputs": [
        {
          "output_type": "stream",
          "text": [
            "Carlla\n"
          ],
          "name": "stdout"
        }
      ]
    },
    {
      "cell_type": "code",
      "metadata": {
        "id": "nJCZIjX3-7HE"
      },
      "source": [
        "def soma(a,b):    \n",
        "  result = a + b  \n",
        "  return(result)"
      ],
      "execution_count": null,
      "outputs": []
    },
    {
      "cell_type": "code",
      "metadata": {
        "id": "nZoyhYCw-7HF",
        "colab": {
          "base_uri": "https://localhost:8080/"
        },
        "outputId": "dc11af4c-7c7a-4dff-c49d-f4e2b286fa2f"
      },
      "source": [
        "print(soma(3,2))"
      ],
      "execution_count": null,
      "outputs": [
        {
          "output_type": "stream",
          "text": [
            "5\n"
          ],
          "name": "stdout"
        }
      ]
    },
    {
      "cell_type": "markdown",
      "metadata": {
        "id": "yMDJQaTk-7HF"
      },
      "source": [
        "Atividade 2: Modifique o programa a seguir para relizar a subtração de dois números"
      ]
    },
    {
      "cell_type": "code",
      "metadata": {
        "id": "Vsg4V4Yy-7HG"
      },
      "source": [
        "def subtract(a,b):\n",
        "# começe aqui \n",
        "  result = (a-b)\n",
        "# termine aqui     \n",
        "  return(result)  "
      ],
      "execution_count": null,
      "outputs": []
    },
    {
      "cell_type": "code",
      "metadata": {
        "id": "4cNSB-Ml-7HG",
        "colab": {
          "base_uri": "https://localhost:8080/"
        },
        "outputId": "471184e7-aec8-4b3f-e74c-8482162959d5"
      },
      "source": [
        "print(subtract(5,3))"
      ],
      "execution_count": null,
      "outputs": [
        {
          "output_type": "stream",
          "text": [
            "2\n"
          ],
          "name": "stdout"
        }
      ]
    },
    {
      "cell_type": "markdown",
      "metadata": {
        "id": "cZVW6Ej0-7HH"
      },
      "source": [
        "É possivel importar bibliotecas através do comando \"import\"\n",
        "A biblioteca numpy é utilizada para calculos com vetores e matrizes"
      ]
    },
    {
      "cell_type": "code",
      "metadata": {
        "id": "nzwUWnEP-7HH"
      },
      "source": [
        "import numpy as np\n",
        "a = np.array([1, 2, 3, 4, 5, 6])\n",
        "b = np.zeros((2,3))"
      ],
      "execution_count": null,
      "outputs": []
    },
    {
      "cell_type": "code",
      "metadata": {
        "id": "R4XDOL5e-7HH",
        "colab": {
          "base_uri": "https://localhost:8080/"
        },
        "outputId": "2b884ecf-643b-41f1-a544-2b6d9cecadf3"
      },
      "source": [
        "print(b)\n",
        "print(a)"
      ],
      "execution_count": null,
      "outputs": [
        {
          "output_type": "stream",
          "text": [
            "[[0. 0. 0.]\n",
            " [0. 0. 0.]]\n",
            "[1 2 3 4 5 6]\n"
          ],
          "name": "stdout"
        }
      ]
    },
    {
      "cell_type": "code",
      "metadata": {
        "id": "rsr8HsDM-7HI"
      },
      "source": [
        ""
      ],
      "execution_count": null,
      "outputs": []
    }
  ]
}