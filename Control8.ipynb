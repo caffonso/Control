{
  "nbformat": 4,
  "nbformat_minor": 0,
  "metadata": {
    "anaconda-cloud": {},
    "colab": {
      "name": "Control8.ipynb",
      "provenance": [],
      "collapsed_sections": [],
      "include_colab_link": true
    },
    "kernelspec": {
      "display_name": "Python 3",
      "language": "python",
      "name": "python3"
    },
    "language_info": {
      "codemirror_mode": {
        "name": "ipython",
        "version": 3
      },
      "file_extension": ".py",
      "mimetype": "text/x-python",
      "name": "python",
      "nbconvert_exporter": "python",
      "pygments_lexer": "ipython3",
      "version": "3.6.5"
    },
    "widgets": {
      "application/vnd.jupyter.widget-state+json": {
        "e9e3cb381fc74606b5ce515032f19f3b": {
          "model_module": "@jupyter-widgets/controls",
          "model_name": "VBoxModel",
          "state": {
            "_view_name": "VBoxView",
            "_dom_classes": [
              "widget-interact"
            ],
            "_model_name": "VBoxModel",
            "_view_module": "@jupyter-widgets/controls",
            "_model_module_version": "1.5.0",
            "_view_count": null,
            "_view_module_version": "1.5.0",
            "box_style": "",
            "layout": "IPY_MODEL_8e83bfa4078f4018aede9d920a637d01",
            "_model_module": "@jupyter-widgets/controls",
            "children": [
              "IPY_MODEL_3ac9f93fa7a943b985e78bf3948441f6",
              "IPY_MODEL_f5b2b8e59ded4eccb366eb6c5d0af487",
              "IPY_MODEL_7910eadf9ee643ac8d447f1a77e4ee6c"
            ]
          }
        },
        "8e83bfa4078f4018aede9d920a637d01": {
          "model_module": "@jupyter-widgets/base",
          "model_name": "LayoutModel",
          "state": {
            "_view_name": "LayoutView",
            "grid_template_rows": null,
            "right": null,
            "justify_content": null,
            "_view_module": "@jupyter-widgets/base",
            "overflow": null,
            "_model_module_version": "1.2.0",
            "_view_count": null,
            "flex_flow": null,
            "width": null,
            "min_width": null,
            "border": null,
            "align_items": null,
            "bottom": null,
            "_model_module": "@jupyter-widgets/base",
            "top": null,
            "grid_column": null,
            "overflow_y": null,
            "overflow_x": null,
            "grid_auto_flow": null,
            "grid_area": null,
            "grid_template_columns": null,
            "flex": null,
            "_model_name": "LayoutModel",
            "justify_items": null,
            "grid_row": null,
            "max_height": null,
            "align_content": null,
            "visibility": null,
            "align_self": null,
            "height": null,
            "min_height": null,
            "padding": null,
            "grid_auto_rows": null,
            "grid_gap": null,
            "max_width": null,
            "order": null,
            "_view_module_version": "1.2.0",
            "grid_template_areas": null,
            "object_position": null,
            "object_fit": null,
            "grid_auto_columns": null,
            "margin": null,
            "display": null,
            "left": null
          }
        },
        "3ac9f93fa7a943b985e78bf3948441f6": {
          "model_module": "@jupyter-widgets/controls",
          "model_name": "IntSliderModel",
          "state": {
            "_view_name": "IntSliderView",
            "style": "IPY_MODEL_fe27d6269baa4d0f93b8f80796fa2ccb",
            "_dom_classes": [],
            "description": "K",
            "step": 1,
            "_model_name": "IntSliderModel",
            "orientation": "horizontal",
            "max": 10,
            "_view_module": "@jupyter-widgets/controls",
            "_model_module_version": "1.5.0",
            "value": 5,
            "_view_count": null,
            "disabled": false,
            "_view_module_version": "1.5.0",
            "min": 0,
            "continuous_update": true,
            "readout_format": "d",
            "description_tooltip": null,
            "readout": true,
            "_model_module": "@jupyter-widgets/controls",
            "layout": "IPY_MODEL_3df0f728239144c1947039dfd4b9eb92"
          }
        },
        "f5b2b8e59ded4eccb366eb6c5d0af487": {
          "model_module": "@jupyter-widgets/controls",
          "model_name": "IntSliderModel",
          "state": {
            "_view_name": "IntSliderView",
            "style": "IPY_MODEL_0e63686a6e67495583ccdd28dcb498c9",
            "_dom_classes": [],
            "description": "tau",
            "step": 1,
            "_model_name": "IntSliderModel",
            "orientation": "horizontal",
            "max": 10,
            "_view_module": "@jupyter-widgets/controls",
            "_model_module_version": "1.5.0",
            "value": 1,
            "_view_count": null,
            "disabled": false,
            "_view_module_version": "1.5.0",
            "min": 0,
            "continuous_update": true,
            "readout_format": "d",
            "description_tooltip": null,
            "readout": true,
            "_model_module": "@jupyter-widgets/controls",
            "layout": "IPY_MODEL_eeb89e990c8f4134ba414f8a19b9cd87"
          }
        },
        "7910eadf9ee643ac8d447f1a77e4ee6c": {
          "model_module": "@jupyter-widgets/output",
          "model_name": "OutputModel",
          "state": {
            "_view_name": "OutputView",
            "msg_id": "",
            "_dom_classes": [],
            "_model_name": "OutputModel",
            "outputs": [
              {
                "output_type": "display_data",
                "metadata": {
                  "tags": [],
                  "needs_background": "light"
                },
                "image/png": "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\n",
                "text/plain": "<Figure size 432x288 with 1 Axes>"
              },
              {
                "output_type": "display_data",
                "metadata": {
                  "tags": []
                },
                "image/png": "iVBORw0KGgoAAAANSUhEUgAAAFAAAAAYCAYAAABtGnqsAAAABHNCSVQICAgIfAhkiAAABAtJREFUWIXt2FmolVUUB/BfDtfrEBYaTVQ+mJZIsxYlGWVF0otJUDZchJAgfWh4STANmgeKiFKhIEikMipCIn2JoqgIGzWjsmNJmtONBnOq08PaJz9P+zvnXL0X0+4fNvt8a62919p7r732WodeHPJ4GG8eaCPK0OdAG9ACxuPDA23EwYg27ES10FZl5AbhLqzGdvyA+9C/ZN7nsBGDu2DL2Un/Tc0EK3UGF9uGLijsDvSxx/DxOAZH1skci5Vio1/Ag+m7igWZOcfhL9xWovPWNHZahvcK1mNII6Mr+BnzMu2ORgN7CFfiFxyW4bXhI/yGCwr0IViLP8WmF7FMrG9gib7nxQaOzvDGJ97sRgZXUusp3KPcw2vtooL8HLxTMtfsJH9Lhvd44l1doI0S3rewgX1f4lf5A6vx12rwdlTs2wZOxRvYLK7T12KBfevkhuOUJm1QQf5lPJHRNxCd+FE+1s0RGzirQHsg0S7JyNd4uXZDQW5uol1eI/TLTDYA1+NE/I7P8La4EvXoK9z+GnyDl7ADV+BecRU6CvKbU2sVp4uDqccUHIFnsCvDb0/9zgJtkljD+xn5FeJx6cB7WF7gvVX4/W7qL1WSWlXkT2ENJmbkn0z8++19GP2TsirG5BS1iAoewXFiw2pYlOZeLB+vP0j8yUl+MHbj8wa6ZqQxMxrIDE0ypWnVXFyMo8VVGov5InZsEx5Rw7mJ/moTg6Y3MKgZrsO6pOfpAn2t5rG0ihFJflT6XtZA1/wkc04Tm/5QyEjqr/Dddd9f4Gbx0t0uTndK4s0SwXZbotdjbOr3J1lflFoRg0V4WVnQUcTh2CIWWUm0YanvbKDrLBEOGnkpbBUO1iWMFKezpUDbqDUvmNRVZU1Q86ay8m5q4s8v0M5ItNdKxvQTnvVJC/q3ipf6n4GtYFPqa9l7O44Sj0suNvYk2lK/o4RfCxnPFmgbUz9MHmPEmlY00d1HxOLvioRWcF7q16S+licNb3F8d6IWf+qTZMLOyeLlLgb69cIJcgky4aHwcRPdo8Xas556qnx9OELkdfVZ+KeJdlWJsgn+nQd2F1aJlOS0Au0k4Rmd9jweRSwR9o7M8GolXEeGV8T0JDczx5wn7vZSPCXqyiUiNlQTva0gf5kIulWRNz2Kx/AivsX3TYzZH0xLejclnQtFidaJ80vGXKu8crkw8daJv8/m2buKqWGxSIdOyCmYmARWJ2N2JQOX40b58mac2OQNSX6zeMUWyGf83YkO8RJvFwtfiOMbyLfhJ5Ej5jATX6X5qqIQKGKocKaytO1/gTvF5py5D2NnpbETutWigwztIgl/vYvjBoq6e0k9o6eC/H8Vu0WqMkD8FZaro3M4WaRND4nw1ote9OLQwN8dKCT0nFUvhAAAAABJRU5ErkJggg==\n",
                "text/latex": "$\\displaystyle 5 e^{- t} \\theta\\left(t\\right)$",
                "text/plain": "   -t     \n5⋅ℯ  ⋅θ(t)"
              }
            ],
            "_view_module": "@jupyter-widgets/output",
            "_model_module_version": "1.0.0",
            "_view_count": null,
            "_view_module_version": "1.0.0",
            "layout": "IPY_MODEL_35fa872748944fe0ae7f5de3e0bd61c3",
            "_model_module": "@jupyter-widgets/output"
          }
        },
        "fe27d6269baa4d0f93b8f80796fa2ccb": {
          "model_module": "@jupyter-widgets/controls",
          "model_name": "SliderStyleModel",
          "state": {
            "_view_name": "StyleView",
            "handle_color": null,
            "_model_name": "SliderStyleModel",
            "description_width": "",
            "_view_module": "@jupyter-widgets/base",
            "_model_module_version": "1.5.0",
            "_view_count": null,
            "_view_module_version": "1.2.0",
            "_model_module": "@jupyter-widgets/controls"
          }
        },
        "3df0f728239144c1947039dfd4b9eb92": {
          "model_module": "@jupyter-widgets/base",
          "model_name": "LayoutModel",
          "state": {
            "_view_name": "LayoutView",
            "grid_template_rows": null,
            "right": null,
            "justify_content": null,
            "_view_module": "@jupyter-widgets/base",
            "overflow": null,
            "_model_module_version": "1.2.0",
            "_view_count": null,
            "flex_flow": null,
            "width": null,
            "min_width": null,
            "border": null,
            "align_items": null,
            "bottom": null,
            "_model_module": "@jupyter-widgets/base",
            "top": null,
            "grid_column": null,
            "overflow_y": null,
            "overflow_x": null,
            "grid_auto_flow": null,
            "grid_area": null,
            "grid_template_columns": null,
            "flex": null,
            "_model_name": "LayoutModel",
            "justify_items": null,
            "grid_row": null,
            "max_height": null,
            "align_content": null,
            "visibility": null,
            "align_self": null,
            "height": null,
            "min_height": null,
            "padding": null,
            "grid_auto_rows": null,
            "grid_gap": null,
            "max_width": null,
            "order": null,
            "_view_module_version": "1.2.0",
            "grid_template_areas": null,
            "object_position": null,
            "object_fit": null,
            "grid_auto_columns": null,
            "margin": null,
            "display": null,
            "left": null
          }
        },
        "0e63686a6e67495583ccdd28dcb498c9": {
          "model_module": "@jupyter-widgets/controls",
          "model_name": "SliderStyleModel",
          "state": {
            "_view_name": "StyleView",
            "handle_color": null,
            "_model_name": "SliderStyleModel",
            "description_width": "",
            "_view_module": "@jupyter-widgets/base",
            "_model_module_version": "1.5.0",
            "_view_count": null,
            "_view_module_version": "1.2.0",
            "_model_module": "@jupyter-widgets/controls"
          }
        },
        "eeb89e990c8f4134ba414f8a19b9cd87": {
          "model_module": "@jupyter-widgets/base",
          "model_name": "LayoutModel",
          "state": {
            "_view_name": "LayoutView",
            "grid_template_rows": null,
            "right": null,
            "justify_content": null,
            "_view_module": "@jupyter-widgets/base",
            "overflow": null,
            "_model_module_version": "1.2.0",
            "_view_count": null,
            "flex_flow": null,
            "width": null,
            "min_width": null,
            "border": null,
            "align_items": null,
            "bottom": null,
            "_model_module": "@jupyter-widgets/base",
            "top": null,
            "grid_column": null,
            "overflow_y": null,
            "overflow_x": null,
            "grid_auto_flow": null,
            "grid_area": null,
            "grid_template_columns": null,
            "flex": null,
            "_model_name": "LayoutModel",
            "justify_items": null,
            "grid_row": null,
            "max_height": null,
            "align_content": null,
            "visibility": null,
            "align_self": null,
            "height": null,
            "min_height": null,
            "padding": null,
            "grid_auto_rows": null,
            "grid_gap": null,
            "max_width": null,
            "order": null,
            "_view_module_version": "1.2.0",
            "grid_template_areas": null,
            "object_position": null,
            "object_fit": null,
            "grid_auto_columns": null,
            "margin": null,
            "display": null,
            "left": null
          }
        },
        "35fa872748944fe0ae7f5de3e0bd61c3": {
          "model_module": "@jupyter-widgets/base",
          "model_name": "LayoutModel",
          "state": {
            "_view_name": "LayoutView",
            "grid_template_rows": null,
            "right": null,
            "justify_content": null,
            "_view_module": "@jupyter-widgets/base",
            "overflow": null,
            "_model_module_version": "1.2.0",
            "_view_count": null,
            "flex_flow": null,
            "width": null,
            "min_width": null,
            "border": null,
            "align_items": null,
            "bottom": null,
            "_model_module": "@jupyter-widgets/base",
            "top": null,
            "grid_column": null,
            "overflow_y": null,
            "overflow_x": null,
            "grid_auto_flow": null,
            "grid_area": null,
            "grid_template_columns": null,
            "flex": null,
            "_model_name": "LayoutModel",
            "justify_items": null,
            "grid_row": null,
            "max_height": null,
            "align_content": null,
            "visibility": null,
            "align_self": null,
            "height": null,
            "min_height": null,
            "padding": null,
            "grid_auto_rows": null,
            "grid_gap": null,
            "max_width": null,
            "order": null,
            "_view_module_version": "1.2.0",
            "grid_template_areas": null,
            "object_position": null,
            "object_fit": null,
            "grid_auto_columns": null,
            "margin": null,
            "display": null,
            "left": null
          }
        },
        "ffca38af587e43b7a83d02a6a84e2fd8": {
          "model_module": "@jupyter-widgets/controls",
          "model_name": "VBoxModel",
          "state": {
            "_view_name": "VBoxView",
            "_dom_classes": [
              "widget-interact"
            ],
            "_model_name": "VBoxModel",
            "_view_module": "@jupyter-widgets/controls",
            "_model_module_version": "1.5.0",
            "_view_count": null,
            "_view_module_version": "1.5.0",
            "box_style": "",
            "layout": "IPY_MODEL_0684798effd44953884d47381ff2209e",
            "_model_module": "@jupyter-widgets/controls",
            "children": [
              "IPY_MODEL_543620b2adb746b1b8707a47a79b62e8",
              "IPY_MODEL_88bbd00c169c4ddda96259c463ca2b26",
              "IPY_MODEL_35307b92176d45b8a0ad85c94e654c83"
            ]
          }
        },
        "0684798effd44953884d47381ff2209e": {
          "model_module": "@jupyter-widgets/base",
          "model_name": "LayoutModel",
          "state": {
            "_view_name": "LayoutView",
            "grid_template_rows": null,
            "right": null,
            "justify_content": null,
            "_view_module": "@jupyter-widgets/base",
            "overflow": null,
            "_model_module_version": "1.2.0",
            "_view_count": null,
            "flex_flow": null,
            "width": null,
            "min_width": null,
            "border": null,
            "align_items": null,
            "bottom": null,
            "_model_module": "@jupyter-widgets/base",
            "top": null,
            "grid_column": null,
            "overflow_y": null,
            "overflow_x": null,
            "grid_auto_flow": null,
            "grid_area": null,
            "grid_template_columns": null,
            "flex": null,
            "_model_name": "LayoutModel",
            "justify_items": null,
            "grid_row": null,
            "max_height": null,
            "align_content": null,
            "visibility": null,
            "align_self": null,
            "height": null,
            "min_height": null,
            "padding": null,
            "grid_auto_rows": null,
            "grid_gap": null,
            "max_width": null,
            "order": null,
            "_view_module_version": "1.2.0",
            "grid_template_areas": null,
            "object_position": null,
            "object_fit": null,
            "grid_auto_columns": null,
            "margin": null,
            "display": null,
            "left": null
          }
        },
        "543620b2adb746b1b8707a47a79b62e8": {
          "model_module": "@jupyter-widgets/controls",
          "model_name": "IntSliderModel",
          "state": {
            "_view_name": "IntSliderView",
            "style": "IPY_MODEL_79f4e1f7af7743a89bc798a1e9de80d0",
            "_dom_classes": [],
            "description": "K",
            "step": 1,
            "_model_name": "IntSliderModel",
            "orientation": "horizontal",
            "max": 10,
            "_view_module": "@jupyter-widgets/controls",
            "_model_module_version": "1.5.0",
            "value": 8,
            "_view_count": null,
            "disabled": false,
            "_view_module_version": "1.5.0",
            "min": 0,
            "continuous_update": true,
            "readout_format": "d",
            "description_tooltip": null,
            "readout": true,
            "_model_module": "@jupyter-widgets/controls",
            "layout": "IPY_MODEL_ca1df33767854c19b4e79e0d32df3da3"
          }
        },
        "88bbd00c169c4ddda96259c463ca2b26": {
          "model_module": "@jupyter-widgets/controls",
          "model_name": "IntSliderModel",
          "state": {
            "_view_name": "IntSliderView",
            "style": "IPY_MODEL_ada10ae5853a4e89838934118f04e6c0",
            "_dom_classes": [],
            "description": "tau",
            "step": 1,
            "_model_name": "IntSliderModel",
            "orientation": "horizontal",
            "max": 3,
            "_view_module": "@jupyter-widgets/controls",
            "_model_module_version": "1.5.0",
            "value": 1,
            "_view_count": null,
            "disabled": false,
            "_view_module_version": "1.5.0",
            "min": 0,
            "continuous_update": true,
            "readout_format": "d",
            "description_tooltip": null,
            "readout": true,
            "_model_module": "@jupyter-widgets/controls",
            "layout": "IPY_MODEL_ecc45a979a2b4fe59adfc9de05741fa8"
          }
        },
        "35307b92176d45b8a0ad85c94e654c83": {
          "model_module": "@jupyter-widgets/output",
          "model_name": "OutputModel",
          "state": {
            "_view_name": "OutputView",
            "msg_id": "",
            "_dom_classes": [],
            "_model_name": "OutputModel",
            "outputs": [
              {
                "output_type": "display_data",
                "metadata": {
                  "tags": [],
                  "needs_background": "light"
                },
                "image/png": "iVBORw0KGgoAAAANSUhEUgAAAagAAAEYCAYAAAAJeGK1AAAABHNCSVQICAgIfAhkiAAAAAlwSFlzAAALEgAACxIB0t1+/AAAADh0RVh0U29mdHdhcmUAbWF0cGxvdGxpYiB2ZXJzaW9uMy4yLjIsIGh0dHA6Ly9tYXRwbG90bGliLm9yZy+WH4yJAAAgAElEQVR4nO3de3TV5Z3v8fez986NXICYhGDCHSEERC5bgapUVCi2TK1KHRUcq3Vy6tiOvazTcewfTs/0tC477ZLTdjlNdbQjDra1zqlSoSC4Dl5A2Fy0BIkohBAgISEJ2bnvy3P+SEDkEtgh2b99+bzWytq33+W7d8L+8Ht+z+95jLUWERGRWONyugAREZFzUUCJiEhMUkCJiEhMUkCJiEhMUkCJiEhMUkCJiEhMUkCJiEhMUkCJiEhM8jhdgFOMMQXAtcDlQAewG/BZa8OOFiYiIgCYZBtJwhizAHgUyAV2AseAdGASMAF4GfiZtbbFsSJFRCQpA+qnwC+stdXneM0DLAHc1to/nmf97wAPAhb4K3C/tbZzEEsWEUlKSRdQJxljxllrD1zouTNeLwLeBkqttR3GmN8Dr1trnx/cakVEkk8yd5I41xHSyxexngfI6D3aGgIcGdCqREQEuHAniYQ7vNq7dy8VFRWMHz+eV1555dT7a2lpobS0FPp4z9ZaVqxYwQ9+8IPjGRkZLFq0iBdffPFLZy5XXl5OeXk5AB0dHVRUVAzCOxE5v+5gmPbuIG3dIdq7zrjtDtLW1XMbCIVp6wrRFQzRGQjTFQzRFQzTFQjTGQzRddpznYEQEwuyeP/QCQKhMN2hMMGQJRAKEwyf/6uiIDuNY/6ui6p70ogsPqprveBy3jHD8R1sOu/rEwsy+fhYGwAuA8aYnlsMxoAx4DKGVLchFAYMGE5bzpjex0DvOoVD06lv6Xkf5rTlObXcyecNBdlpNLSeXLZ3mZPFmU/vG2OYWJDJJ721mlML9WznzOcAxuVlUnW8/TPPnbHIZ9bxuAyhc7SUmbPWghS3Oe/v8uyle7YdvMiU+NPD155rE31Kul58lZWVrF69mubmZl577bVTz2dnZ/Ob3/ymz3Wbmpr405/+xIEDBxg2bBhf/epXWblyJcuXL//McmVlZZSVlQHg9XoH/k1IUgiEwjS2dVPv76KlI0BDWzcnOgK09P6c6P1p6fz0/oS8LN75pIFA6OK+NU5+kaanuEnzuEjzuElP6blNS3GR5nExJNVDbmbPc0XDMxiWkYrHbUhxu0j1uPC4eu6nuE/efnrf43aR6nbhcRtcxuBxGdzu3luXwW0MHrfB7erZjsuA2+XC7er58nabnuVcvcu6XD3BcnI5lzn52JwKHVdvALhc5lQ4SHxKuoC69dZbufXWW9m8eTPz5s2LaN033niDcePGkZ+fD8Dtt9/Ou+++e1ZAifSlMxDiSHMHNU0dNLR2cfREJ/X+LhpaT/50c7y1i6b2wKl1rh47nG1Vnx4xpHpcDM1IYWhGCjnpHvKz0piYn8WYy4Yw5fIcMlPdDEn1kJl2xm2qhyFp7lO36W4XqSluJz4GkQtKuoD60Y9+xMMPP3zecNq4cSPt7e0sWbLkrNdGjx7Nli1baG9vJyMjgw0bNugISc7S0R2kpqmDmt4QOtzUQU1Te8/95g7qT2vumlaUw+7DLWSlecjLSiWvN2jmjMslLyuNvOw08rNSyc9O6w2jFHIyUkhXqEgSSLqAuvLKK1myZAnp6enMmjWL/Px8Ojs72bdvH7t27eLmm2/mscceO+e6c+bMYenSpcyaNQuPx8PMmTNPNeVJ8ukOhjnQ0Mbe2hY+qvNTWdtKZV0LRUMz2HKg8dRyKW5D0bAMioZncOPkAoqH99wvHj6EwqFpFGSnK3BEzuFC3cwTrpPEvffeywsvvMCTTz5JQUEBR48eJSMjgylTpjB//nwyMjIGdH9erxefzzeg25TostZS09RBZa2fyjp/z22tn/0NrafO9bhdhvF5mUwqzGZ60VAKh6ZT3BtC+VlpuFw6FyJJT50kLmT79u0cOXKEF198kTfffPMzr3V0dAx4QEn8ae8O8v6hE+yobmL7wSZ2VDfhMobGtm4AioZlUFKYzY1TCigpzGbSiGzG52eS5tFRkMhASrqA+sY3vsFNN93E/v37P3P+yFqLMYb9+/c7WJ04oTMQYltVI2/ta6D6eDvrP6wj1NvVdmJBFl8oLcQ7djjj87OYNCKL7PQUhysWSQ5J18R30kMPPcTTTz896PtRE1/sCYfDVNa18ta+et7a18DWA410BcOkuA1fmVHEiJx0Zo8ZzszRwxg2JNXpckUSRcRNfEkbUNGigIoNobBl+8Em1uw+yl921xIIW+r9XVxRkMX1V+Rz/aQ85ozLZUhq0jUqiESLzkGJnBQOW7ZXN/F/dx7mLxV1NLR2kepxMf+KPL40fSTzxudRODTd6TJF5DwUUJJwDjd38MftNfxh+yHqW7rISHUzb8JlLJ42khtLCshK05+9SDzQv1RJCIFQmDcrj/HC5oO8/XED1sK1Ey/jewsns7C0gMw0dWwQiTcKKIlrLZ0BXtpazXPvVJGZ5qGjO8QjN13BHbOKGZU7xOnyROQSKKAkLtU0tfPcO1X8btshWruCzB2fy4PXjWPB5ALc7mSeRUYkcSigJK4cae5gxRv7+Li+lV2HmlkyfSR/f/14phUNdbo0ERlgCiiJC8dbu/jVm5+wcstBAB68fhy/uHsmlw/TyB8iiUoBJTGtrSvIM2/tp3zTfjoCIZbOLuaRmydRpGASSXgKKIlJ1lrW7K7lf722h1G5GXx+cj7fXTiZiQVZTpcmIlGigJKYc6ChjcdfrWDTR/WUjszhn24pwTsm1+myRCTKFFASM4KhMCu3VPPjNR+S5nbxL39TyvK5Y/CoV55IUlJASUw4eLyN7/xuFzuqm/m7eWP45oKJFORoGCKRZKaAEkdZa/nD9hp++GoFLpfh/9w9ky9fdbnTZYlIDFBAiWOa2rp57L//yprdtcwdn8vP7pyh3nkicooCShyx+/AJfvhaBZW1fh69pYS/v348bk2LLiKn0dnnCFRWVjJjxoxTPzk5OTz11FNOlxV3Xnv/CEv//V1qmjp44evX8I3PT1A4ichZdAQVgcmTJ7Nr1y4AQqEQRUVF3HbbbQ5XFT/CYcvP13/EL9/8GO+Y4Ty9fDb52WlOlyUiMUoB1U8bNmxgwoQJjBkzxulS4kJrZ4D/+fIHrNldy11Xj+KHt04lzeN2uiwRiWEKqH566aWXuPvuu8/5Wnl5OeXl5QDU19dHs6yY1NTWzf3Pb8PtMvzwy1P5u3ljMEZNeiLSN2Ot7ev1Pl9MVt3d3Vx++eVUVFQwYsSIPpf1er34fL4oVRZ76lo6uffZ96g63s6v7pnFwtK+Py8RSVgR/69UR1D9sGbNGmbNmnXBcEp2B4+3seyZ92hq6+b5+6/mcxPynC5JROKIAqofVq1add7mPemxr87Pd36/i7auIKvK5jK9eJjTJYlInFE38wi1tbWxfv16br/9dqdLiVnVx9tZ/ux7BEOW3ymcRKSfdAQVoczMTI4fP+50GTHr6IkO7nlmC13BME/dNYNJhTlOlyQicUpHUDJgGlq7WPbMezS3B/jt/ddQonASkUuggJIB4e8I8MBz2zjS3MGz93m5apSa9UTk0iig5JIFQ2H+4b92YIzh35fNZs74y5wuSUQSgAJKLom1ln95rYK39jWwbO5obigpcLokEUkQCii5JM+/W8XKLdX8j8+P507vKKfLEZEEooCSfntz7zH+dfUeFpWO4J++UOJ0OSKSYBRQ0i/Vx9v5+fpKPjfhMp66awYuTZchIgNM10FJxLqCIR7+rx0cPN7On//xeoak6s9IRAaevlkkYj95fS9/PXyCX987m1G5Q5wuR0QSlJr4JCJr/nqU59+t4oFrx/GFqYVOlyMiCUwBJRet+ng733/5A64qHsqjt6hThIgMLgWUXJRAKMyTf9mLMfDLe2aR6tGfjogMLp2DkotSvmk/qz84ytPLZ+m8k4hEhf4bLBf08TE/K97YxxevLOSWaSOdLkdEkoQCSvoUClu+//IHDElz88MvT3O6HBFJIgoo6dNv361iR3Uzj/9NKfnZaU6XIyJJRAEl51V9vJ2f/qWSBZPz+cqMIqfLEZEko4CSc7LW8ugrH+BxGX58+5UYo6GMRCS6FFByTq/sPMy7nxznn784hZFDM5wuR0SSkAJKznKiPcD/Xr2HO2YVcfc1mkJDRJyhgIpQc3MzS5cupaSkhClTprB582anSxpwKzbso7kjwIPXj1fTnog4RhfqRuiRRx5h8eLFvPzyy3R3d9Pe3u50SQPqk/pW/nNzFX979WimjMxxuhwRSWIKqAicOHGCTZs28fzzzwOQmppKamqqs0UNsB//+UMyUtx8b9Ekp0sRkSSnJr4IHDhwgPz8fO6//35mzpzJgw8+SFtb21nLlZeX4/V68Xq91NfXO1Bp/2z6qJ4Ne4/xrZsmkpela55ExFkKqAgEg0F27NjBQw89xM6dO8nMzOSJJ544a7mysjJ8Ph8+n4/8/HwHKo1cMBTmX1fvYcxlQ7jvc2OdLkdERAEVieLiYoqLi5kzZw4AS5cuZceOHQ5XNTBe2nqIfcdaeeyLU0jzuJ0uR0REARWJwsJCRo0aRWVlJQAbNmygtLTU4aouXXt3kGfe3s/S2cUsKh3hdDkiIoA6SUTsF7/4BcuWLaO7u5vx48fz3HPPOV3SJVu55SBVx9v5t69epW7lIhIzFFARmjFjBj6fz+kyBkxbV5Bf/7/9XH9FHt6xuU6XIyJyipr4ktx/bj7I8bZuvn2zupWLSGxRQCWx1q4g5Zs+4fOT8pk9ZrjT5YiIfIYCKon99t0qmtoDfGehjp5EJPYooJKUvzPAb97az4LJ+cwYNczpckREzqKASlIvbTtEc3tA555EJGYpoJJQdzDMM5v2c6e3mKt09CQiMUoBlYTW7amlzt/FLdNGOl2KiMh5KaCS0MotBykensH8SfExTqCIJCcFVJLZV+dny/5Gls0Zg9ulUSNEJHYpoJLMi+9Vk+p2cae32OlSRET6pIBKIm1dQf64vYYvXlnIZZrvSURinAIqibz6/hH8XUHunTfG6VJERC5IAZUkrLW8sPkgJYXZzBqtYY1EJPYpoJLEzkPN7Dnawr3zxmhKDRGJCwqoJLFy80Gy0jx8ZUaR06WIiFwUBVQSaGzrZvUHR7l9VhGZaZoCTETigwIqCfzBd4juUJjlc9U5QkTihwIqwYXDlhffq+aacblMGpHtdDkiIhdNAZXgNu2rp7qxXUdPIhJ3dEIiQmPHjiU7Oxu3243H48Hn8zldUp9WbjlIXlYqi6cWOl2KiEhEFFD98Oabb5KXl+d0GRdU09TOxr3HeOiGCaR6dLAsIvFF31oJbNXWagDuvma0w5WIiEROARUhYwyLFi1i9uzZlJeXn3OZ8vJyvF4vXq+X+vr6KFfYozsY5nfbDnFjyQiKhw9xpAYRkUuhJr4Ivf322xQVFXHs2DEWLlxISUkJ8+fP/8wyZWVllJWVAeD1ep0ok7UVtTS0drN8ro6eRCQ+6QgqQkVFPSMxFBQUcNttt7F161aHKzq3lZsPMjp3CPOv0KSEIhKfFFARaGtrw+/3n7q/bt06pk2b5nBVZ6us9bO1qpFlc0bj0qSEIhKn1MQXgbq6Om677TYAgsEg99xzD4sXL3a4qrO98WEt4/My+ap3lNOliIj0mwIqAuPHj+f99993uow+WWtZuaWaaUVDyc1MdbocEZF+UxNfgtl9uIWjJzpZVDrC6VJERC6JAirBrNtTi8vATVMUUCIS3xRQCWZdRR1Xj81V856IxD0FVAI5eLyNyjo/izTunogkAAVUAlm/pw5A559EJCEooBLIuoo6SgqzGZWroY1EJP4poBJEQ2sXvoONat4TkYShgEoQGz88RtiqeU9EEocCKkGs21NL0bAMpl6e43QpIiIDQgGVANq7g7y1r4GFpSMwRmPviUhiUEAlgE0fNdAVDKt5T0QSigIqAazbU8vQjBSuHpfrdCkiIgNGARXngqEwGz48xk0lBaS49esUkcShb7Q4t7WqkRMdARZNVfOeiCQWBVScW1dRR5rHxfxJmjlXRBKLAiqOWWtZv6eO6ybmMSRVU3uJSGJRQMWxPUdbONzcoeY9EUlICqg4tq6iDqO5n0QkQSmg4ti6PXV4xwwnLyvN6VJERAacAipOHWps58OjLSwq1eCwIpKYFFD9EAqFmDlzJkuWLHGshnW9cz8t1OgRIpKgFFD9sGLFCqZMmeJoDev31DJpRBZj8zIdrUNEZLAooCJUU1PDn//8Zx588EHHamhq62brgUY174lIQlNARejb3/42Tz75JC7X+T+68vJyvF4vXq+X+vr6Aa9hw97euZ/UvVxEEpgCKgKrV6+moKCA2bNn97lcWVkZPp8Pn89Hfv7Aj/CwrqKWwpx0riwaOuDbFhGJFQqoCLzzzju8+uqrjB07lrvuuouNGzeyfPnyqNbQ0R1i0756Fk3V3E8iktgUUBH4yU9+Qk1NDVVVVbz00kvceOONrFy5Mqo1vLWvns5AWOefRCThKaDizFv7GshO9zBnvOZ+EpHEphFG++mGG27ghhtuiPp+N3xYx+JphZr7SUQSnr7l4khNUztHTnQy7XJ1jhCRxKeAiiPbqhoBuHqsmvdEJPEpoOLI1gNNZKd5mFyY7XQpIiKDTgEVR3xVjcweOxy3S93LRSTxKaDiRFNbN/uOtap5T0SShgIqTpw8/3TNOAWUiCQHBVSc2FbVSKrHxfRi9eATkeSggIoTW6uamFE8jDSP2+lSRESiQgEVB9q7g1QcPsHV44Y7XYqISNQooOLAzupmgmGrDhIiklQUUHFg64FGXAZmj9ERlIgkDwVUHNhW1ciUkTlkp6c4XYqISNQooGJcIBRmZ3WzmvdEJOkooGLc7sMn6AiEdP2TiCQdBVSMO3mBrneszj+JSHJRQMW4rQeaGHvZEAqy050uRUQkqhRQMSwctmw/2KjzTyKSlBRQMeyT+laa2gNcrfNPIpKEFFAxbOvJAWJ1BCUiSUgBFaHOzk6uueYarrrqKqZOncrjjz8+aPvadqCR/Ow0xlw2ZND2ISISqzxOFxBv0tLS2LhxI1lZWQQCAa677jpuueUW5s6dO+D72lbVxDVjczFGExSKSPLREVSEjDFkZWUBEAgECAQCgxIgh5s7ONzcwdXqXi4iSUoB1Q+hUIgZM2ZQUFDAwoULmTNnzmdeLy8vx+v14vV6qa+v79c+th3oOf+kDhIikqwUUP3gdrvZtWsXNTU1bN26ld27d3/m9bKyMnw+Hz6fj/z8/H7tY2tVI9lpHkoKcwaiZBGRuKOAugTDhg1jwYIFrF27dsC3ve1AI7PHDsft0vknEUlOCqgI1dfX09zcDEBHRwfr16+npKRkQPfR1NbNvmOtukBXRJKaevFF6OjRo9x3332EQiHC4TB33nknS5YsGdB9nBx/TwPEikgyU0BFaPr06ezcuXNQ97GtqpFUt4sri4YO6n5ERGKZmvhi0NaqJq4aNZT0FLfTpYiIOEYBFWPau4NUHD6h808ikvQUUDFmV3UzwbDV9U8ikvQUUDFma1UjxsDsMRpBQkSSmwIqxmyramRKYQ456SlOlyIi4igFVAwJhMLsONis7uUiIiigYsq+Y34Kh6bj1QCxIiIKqFiy96ifAw1tTBqR7XQpIiKOU0DFkMpaPyluw7i8TKdLERFxnAIqhuyt9TMhP4sUt34tIiL6JowhlbV+SgrVvCciAgqomHGiPUBtSyeTNf+TiAiggIoZe2tbAHQEJSLSSwEVIyrr/ABMVkCJiAAKqJixt9ZPdrqHkUPTnS5FRCQmKKBixMkOEsZoincREVBAxQRrLR/V+tW8JyJyGgVUDDjc3IG/K6gefCIip1FAxYDK2p4OEurBJyLyKQVUDNhbqx58IiJnUkBF4NChQyxYsIDS0lKmTp3KihUrBmS7lbV+ioZlaA4oEZHTeJwuIJ54PB5+9rOfMWvWLPx+P7Nnz2bhwoWUlpZe0nYr1UFCROQsOoKKwMiRI5k1axYA2dnZTJkyhcOHD1/SNruDYT6pb1VAiYicQUdQ/VRVVcXOnTuZM2fOWa+Vl5dTXl4OQH19fZ/b2d/QSjBs1UFCROQMOoLqh9bWVu644w6eeuopcnLO7hpeVlaGz+fD5/ORn5/f57Yq1UFCROScFFARCgQC3HHHHSxbtozbb7/9kre3t9aPx2UYn5c1ANWJiCQOBVQErLV8/etfZ8qUKXz3u98dkG1W9k5SmOrRr0JE5HT6VozAO++8wwsvvMDGjRuZMWMGM2bM4PXXX7+kbaoHn4jIuamTRASuu+46rLUDtr2WzgCHmzu4Z87oAdumiEii0BGUgz7SEEciIuelgHKQhjgSETk/BZSDKmv9ZKd5KBqW4XQpIiIxRwHloMpaP5M0SaGIyDkpoBxirWVvbYua90REzkMB5ZDalk5aOoPqICEich4KKIec6iAxQgElInIuCiiHfDqLrqZ5FxE5FwWUQypr/RTmpDN0iCYpFBE5FwWUQ/ZqiCMRkT4poBwQCIX55FirOkiIiPRBAeWAAw1tdIfCOoISEemDAsoBGuJIROTCFFAOqKxtwe0yTCzQJIUiIuejgHJAZa2fcXmZpHncTpciIhKzFFAOUA8+EZELU0BFWWtXkJqmDko0goSISJ8UUFF2agSJkRpBQkSkLwqoKKvULLoiIhdFARWhBx54gIKCAqZNm9av9StrW8hMdWuSQhGRC1BARehrX/saa9eu7ff6e3snKXS5NEmhiEhfFFARmj9/Prm5uf1a11pLZZ1fzXsiIhfB43QBiai8vJzy8nIA6uvrTz1/zN9Fc3tAc0CJiFwEHUENgrKyMnw+Hz6fj/z8/FPPfzrEkXrwiYhciAIqiiprWwD14BMRuRgKqCjaW+unIDuN4ZmpTpciIhLzFFARuvvuu5k3bx6VlZUUFxfz7LPPXvS6lRriSETkoqmTRIRWrVrVr/WCoTD7jrVy37wxA1yRiEhi0hFUlFQdb6c7GFYHCRGRi6SAihINcSQiEhkFVJRU1rbgMmiSQhGRi6SAipK9tX7G5mWSnqJJCkVELoYCKko0xJGISGQUUFHQ3h2kurGdySPUQUJE5GIpoKLgo7pWrEXXQImIREABFQUa4khEJHIKqCjYW+snI8XN6NwhTpciIhI3FFBRUFnrZ9KILE1SKCISAQVUFGgMPhGRyGksvkEWDFvaOgMa4khEJEI6ghpkXYEQwZDlioJMp0sREYkrCqhB1hUMY4FxeRriSEQkEgqoQdYdDJPqdnH5sAynSxERiSsKqEHWFQwz+rIhuNWDT0QkIgqoQdYVDDEuT+efREQipYAaROGwpTsYVkCJiPSDAmoQHTnRgQXGXqaAEhGJlAJqEB1oaAPQEZSISD8ooCK0du1aJk+ezMSJE3niiSf6XPboiQ5S3S7G5WkMPhGRSCmgIhAKhXj44YdZs2YNe/bsYdWqVezZs+e8y+854icYtozISY9ilSIiicFYa8/74t/+evP5X0xCLS0tVFVVMX36dACqq6sBGD169DmXr25s5+Pyb1F/4PwhJiKSJCK+1qbPgDLGrAXyLqGgPKDhEtaPNcOBHOBg7+NcIAuoPmO5PCC/934K8EFUqotdifZ3EKlkf/+gzwD0GaRba6dFskKfAXWpjDE+a6130HYQZcaYpcBia+2DvY/vBeZYa7/ZxzoJ9Rn0R7J/Bsn+/kGfAegz6M/71zmoyBwGRp32uLj3ORERGWAKqMhsA64wxowzxqQCdwGvOlyTiEhCGuz5oMoHeftRZa0NGmO+CfwFcAP/Ya2tuMBqCfUZ9FOyfwbJ/v5BnwHoM4j4/Q/qOSgREZH+UhOfiIjEJAWUiIjEpEEPKGPMT40xe40xHxhj/tsYM2yw9xkrjDGLjTGVxpiPjTGPOl1PNBljRhlj3jTG7DHGVBhjHnG6JqcYY9zGmJ3GmNVO1+IEY8wwY8zLvd8DHxpj5jldUzQZY77T+29gtzFmlTEm4YeWMcb8hzHmmDFm92nP5Rpj1htj9vXeDr/QdqJxBLUemGatnQ58BPxzFPbpOGOMG/gVcAtQCtxtjCl1tqqoCgLfs9aWAnOBh5Ps/Z/uEeBDp4tw0ApgrbW2BLiKJPosjDFFwD8C3t6LVN309P5NdM8Di8947lFgg7X2CmBD7+M+DXpAWWvXWWuDvQ+30HPtUDK4BvjYWrvfWtsNvATc6nBNUWOtPWqt3dF730/Pl1KRs1VFnzGmGPgS8IzTtTjBGDMUmA88C2Ct7bbWNjtbVdR5gAxjjAcYAhxxuJ5BZ63dBDSe8fStwG977/8W+MqFthPtc1APAGuivE+nFAGHTntcQxJ+QQMYY8YCM4H3nK3EEU8B3wfCThfikHFAPfBcbzPnM8aYpJl/xlp7GPg3eoZDOwqcsNauc7Yqx4yw1h7tvV8LjLjQCgMSUMaYN3rbV8/8ufW0ZX5AT7PPiwOxT4kPxpgs4I/At621LU7XE03GmCXAMWvtdqdrcZAHmAU8ba2dCbRxEU07iaL3PMut9AT15UCmMWa5s1U5z/Zc33TBa5wG5EJda+3Nfb1ujPkasAS4ySbPhVdJPyySMSaFnnB60Vr7itP1OOBa4MvGmC8C6UCOMWaltTaZvqBqgBpr7cmj55dJooACbgYOWGvrAYwxrwCfA1Y6WpUz6owxI621R40xI4FjF1ohGr34FtPTxPFla237YO8vhiT1sEjGGEPPeYcPrbU/d7oeJ1hr/9laW2ytHUvP739jkoUT1tpa4JAxZnLvUzcByTT/TDUw1xgzpPffxE0kUSeRM7wK3Nd7/z7gTxdaYbCHOgL4JZAGrO/5/bDFWvuNKOzXUf0cFimRXAvcC/zVGLOr97nHrLWvO1iTOONbwIu9/1HbD9zvcD1RY619zxjzMrCDnlMcO0mCIY+MMauAG4A8Y0wN8DjwBPB7Y8zX6Zmy6M4Lbid5WtxERCSeaCQJERGJSQooERGJSQooERGJSQooERGJSQooERGJSQooEREZVL0j2qKOhMoAAACLSURBVP9DpOspoEREZLANAxRQIiISc54AJhhjdhljfnqxK+lCXRERGVS9Mxqs7p0T66LpCEpERGKSAkpERGKSAkpERAabH8iOdCUFlIiIDCpr7XHgnd6JbNVJQkRE4puOoEREJCYpoEREJCYpoEREJCYpoEREJCYpoEREJCYpoEREJCYpoEREJCb9f/GB1vwfl+vkAAAAAElFTkSuQmCC\n",
                "text/plain": "<Figure size 432x288 with 1 Axes>"
              },
              {
                "output_type": "display_data",
                "metadata": {
                  "tags": []
                },
                "image/png": "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\n",
                "text/latex": "$\\displaystyle 8 \\left(e^{t} - 1\\right) e^{- t} \\theta\\left(t\\right)$",
                "text/plain": "  ⎛ t    ⎞  -t     \n8⋅⎝ℯ  - 1⎠⋅ℯ  ⋅θ(t)"
              }
            ],
            "_view_module": "@jupyter-widgets/output",
            "_model_module_version": "1.0.0",
            "_view_count": null,
            "_view_module_version": "1.0.0",
            "layout": "IPY_MODEL_2af74919901b45fd85b7df4d187d6034",
            "_model_module": "@jupyter-widgets/output"
          }
        },
        "79f4e1f7af7743a89bc798a1e9de80d0": {
          "model_module": "@jupyter-widgets/controls",
          "model_name": "SliderStyleModel",
          "state": {
            "_view_name": "StyleView",
            "handle_color": null,
            "_model_name": "SliderStyleModel",
            "description_width": "",
            "_view_module": "@jupyter-widgets/base",
            "_model_module_version": "1.5.0",
            "_view_count": null,
            "_view_module_version": "1.2.0",
            "_model_module": "@jupyter-widgets/controls"
          }
        },
        "ca1df33767854c19b4e79e0d32df3da3": {
          "model_module": "@jupyter-widgets/base",
          "model_name": "LayoutModel",
          "state": {
            "_view_name": "LayoutView",
            "grid_template_rows": null,
            "right": null,
            "justify_content": null,
            "_view_module": "@jupyter-widgets/base",
            "overflow": null,
            "_model_module_version": "1.2.0",
            "_view_count": null,
            "flex_flow": null,
            "width": null,
            "min_width": null,
            "border": null,
            "align_items": null,
            "bottom": null,
            "_model_module": "@jupyter-widgets/base",
            "top": null,
            "grid_column": null,
            "overflow_y": null,
            "overflow_x": null,
            "grid_auto_flow": null,
            "grid_area": null,
            "grid_template_columns": null,
            "flex": null,
            "_model_name": "LayoutModel",
            "justify_items": null,
            "grid_row": null,
            "max_height": null,
            "align_content": null,
            "visibility": null,
            "align_self": null,
            "height": null,
            "min_height": null,
            "padding": null,
            "grid_auto_rows": null,
            "grid_gap": null,
            "max_width": null,
            "order": null,
            "_view_module_version": "1.2.0",
            "grid_template_areas": null,
            "object_position": null,
            "object_fit": null,
            "grid_auto_columns": null,
            "margin": null,
            "display": null,
            "left": null
          }
        },
        "ada10ae5853a4e89838934118f04e6c0": {
          "model_module": "@jupyter-widgets/controls",
          "model_name": "SliderStyleModel",
          "state": {
            "_view_name": "StyleView",
            "handle_color": null,
            "_model_name": "SliderStyleModel",
            "description_width": "",
            "_view_module": "@jupyter-widgets/base",
            "_model_module_version": "1.5.0",
            "_view_count": null,
            "_view_module_version": "1.2.0",
            "_model_module": "@jupyter-widgets/controls"
          }
        },
        "ecc45a979a2b4fe59adfc9de05741fa8": {
          "model_module": "@jupyter-widgets/base",
          "model_name": "LayoutModel",
          "state": {
            "_view_name": "LayoutView",
            "grid_template_rows": null,
            "right": null,
            "justify_content": null,
            "_view_module": "@jupyter-widgets/base",
            "overflow": null,
            "_model_module_version": "1.2.0",
            "_view_count": null,
            "flex_flow": null,
            "width": null,
            "min_width": null,
            "border": null,
            "align_items": null,
            "bottom": null,
            "_model_module": "@jupyter-widgets/base",
            "top": null,
            "grid_column": null,
            "overflow_y": null,
            "overflow_x": null,
            "grid_auto_flow": null,
            "grid_area": null,
            "grid_template_columns": null,
            "flex": null,
            "_model_name": "LayoutModel",
            "justify_items": null,
            "grid_row": null,
            "max_height": null,
            "align_content": null,
            "visibility": null,
            "align_self": null,
            "height": null,
            "min_height": null,
            "padding": null,
            "grid_auto_rows": null,
            "grid_gap": null,
            "max_width": null,
            "order": null,
            "_view_module_version": "1.2.0",
            "grid_template_areas": null,
            "object_position": null,
            "object_fit": null,
            "grid_auto_columns": null,
            "margin": null,
            "display": null,
            "left": null
          }
        },
        "2af74919901b45fd85b7df4d187d6034": {
          "model_module": "@jupyter-widgets/base",
          "model_name": "LayoutModel",
          "state": {
            "_view_name": "LayoutView",
            "grid_template_rows": null,
            "right": null,
            "justify_content": null,
            "_view_module": "@jupyter-widgets/base",
            "overflow": null,
            "_model_module_version": "1.2.0",
            "_view_count": null,
            "flex_flow": null,
            "width": null,
            "min_width": null,
            "border": null,
            "align_items": null,
            "bottom": null,
            "_model_module": "@jupyter-widgets/base",
            "top": null,
            "grid_column": null,
            "overflow_y": null,
            "overflow_x": null,
            "grid_auto_flow": null,
            "grid_area": null,
            "grid_template_columns": null,
            "flex": null,
            "_model_name": "LayoutModel",
            "justify_items": null,
            "grid_row": null,
            "max_height": null,
            "align_content": null,
            "visibility": null,
            "align_self": null,
            "height": null,
            "min_height": null,
            "padding": null,
            "grid_auto_rows": null,
            "grid_gap": null,
            "max_width": null,
            "order": null,
            "_view_module_version": "1.2.0",
            "grid_template_areas": null,
            "object_position": null,
            "object_fit": null,
            "grid_auto_columns": null,
            "margin": null,
            "display": null,
            "left": null
          }
        },
        "73a5eade7722494b8bb48fe06e735420": {
          "model_module": "@jupyter-widgets/controls",
          "model_name": "VBoxModel",
          "state": {
            "_view_name": "VBoxView",
            "_dom_classes": [
              "widget-interact"
            ],
            "_model_name": "VBoxModel",
            "_view_module": "@jupyter-widgets/controls",
            "_model_module_version": "1.5.0",
            "_view_count": null,
            "_view_module_version": "1.5.0",
            "box_style": "",
            "layout": "IPY_MODEL_9a288951333d460a97b3da37b478ad05",
            "_model_module": "@jupyter-widgets/controls",
            "children": [
              "IPY_MODEL_b74a8a8039e54379a962e371f2884ccb",
              "IPY_MODEL_d5c3f889ed46490bad7846d25f3bf203",
              "IPY_MODEL_01349820df924aaca868802c31196e55"
            ]
          }
        },
        "9a288951333d460a97b3da37b478ad05": {
          "model_module": "@jupyter-widgets/base",
          "model_name": "LayoutModel",
          "state": {
            "_view_name": "LayoutView",
            "grid_template_rows": null,
            "right": null,
            "justify_content": null,
            "_view_module": "@jupyter-widgets/base",
            "overflow": null,
            "_model_module_version": "1.2.0",
            "_view_count": null,
            "flex_flow": null,
            "width": null,
            "min_width": null,
            "border": null,
            "align_items": null,
            "bottom": null,
            "_model_module": "@jupyter-widgets/base",
            "top": null,
            "grid_column": null,
            "overflow_y": null,
            "overflow_x": null,
            "grid_auto_flow": null,
            "grid_area": null,
            "grid_template_columns": null,
            "flex": null,
            "_model_name": "LayoutModel",
            "justify_items": null,
            "grid_row": null,
            "max_height": null,
            "align_content": null,
            "visibility": null,
            "align_self": null,
            "height": null,
            "min_height": null,
            "padding": null,
            "grid_auto_rows": null,
            "grid_gap": null,
            "max_width": null,
            "order": null,
            "_view_module_version": "1.2.0",
            "grid_template_areas": null,
            "object_position": null,
            "object_fit": null,
            "grid_auto_columns": null,
            "margin": null,
            "display": null,
            "left": null
          }
        },
        "b74a8a8039e54379a962e371f2884ccb": {
          "model_module": "@jupyter-widgets/controls",
          "model_name": "IntSliderModel",
          "state": {
            "_view_name": "IntSliderView",
            "style": "IPY_MODEL_cdd84c632a0145c99cc10f99160ecf61",
            "_dom_classes": [],
            "description": "K",
            "step": 1,
            "_model_name": "IntSliderModel",
            "orientation": "horizontal",
            "max": 10,
            "_view_module": "@jupyter-widgets/controls",
            "_model_module_version": "1.5.0",
            "value": 5,
            "_view_count": null,
            "disabled": false,
            "_view_module_version": "1.5.0",
            "min": 0,
            "continuous_update": true,
            "readout_format": "d",
            "description_tooltip": null,
            "readout": true,
            "_model_module": "@jupyter-widgets/controls",
            "layout": "IPY_MODEL_21d08e9373e141bfa84eedfd324331da"
          }
        },
        "d5c3f889ed46490bad7846d25f3bf203": {
          "model_module": "@jupyter-widgets/controls",
          "model_name": "IntSliderModel",
          "state": {
            "_view_name": "IntSliderView",
            "style": "IPY_MODEL_1ba106f8871246dfa2782d21bc7d6a8d",
            "_dom_classes": [],
            "description": "tau",
            "step": 1,
            "_model_name": "IntSliderModel",
            "orientation": "horizontal",
            "max": 3,
            "_view_module": "@jupyter-widgets/controls",
            "_model_module_version": "1.5.0",
            "value": 1,
            "_view_count": null,
            "disabled": false,
            "_view_module_version": "1.5.0",
            "min": 0,
            "continuous_update": true,
            "readout_format": "d",
            "description_tooltip": null,
            "readout": true,
            "_model_module": "@jupyter-widgets/controls",
            "layout": "IPY_MODEL_7780c4f19bb044709ed5832350b1b404"
          }
        },
        "01349820df924aaca868802c31196e55": {
          "model_module": "@jupyter-widgets/output",
          "model_name": "OutputModel",
          "state": {
            "_view_name": "OutputView",
            "msg_id": "",
            "_dom_classes": [],
            "_model_name": "OutputModel",
            "outputs": [
              {
                "output_type": "display_data",
                "metadata": {
                  "tags": [],
                  "needs_background": "light"
                },
                "image/png": "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\n",
                "text/plain": "<Figure size 432x288 with 1 Axes>"
              },
              {
                "output_type": "display_data",
                "metadata": {
                  "tags": []
                },
                "image/png": "iVBORw0KGgoAAAANSUhEUgAAANQAAAAZCAYAAABJqAByAAAABHNCSVQICAgIfAhkiAAABuVJREFUeJztm2mMFEUUx38ssOwCigpG0QRIlGM3qCiCGhFWBYxooije6K7GEKPywYMPYlRMQPH4gGgikHiQYJQAKiGiAmYJRuOBgAKCQXGICogosAjLPX541WxNT1VPTU/39I7MP+lUps73qv9V9d6rHiijjDLK+J/hJeDTpIUoEbTquaqIsK8xQIcI+zuRMBj4JmkhHHAr0D5hGUplrgrCUODupIUoQVQCh4C09vyYqETBOB2YmtDYpTZXodEWeB9oE1BnNrAD6FQUieLDQORF3h9RfxVan4OBM4FTI+o7LkwArkhgXNe56gg8DWwEDgC/Ac9hP1nDcNOZBykydwD92W5pUw88EdDnIOAY8Kih7BHV9525BIsJY4BXgc+BJiXLnBxtPgC2AZ0jkuF6NXbQhhQXwujfHVger1hW5Jqr7sB65CSbC7ygfqeBmYb6QdyEYH468SAF7AYmGZ7HLW3WAb0D+lyi+qw2lM1RAvcNEipGrFHj7wU24EaowarexIhkeAohdBIIoz9AI3B5BONPxr6Be0+dVj9oriqBlcC/Ptk6A1uAo8ippiOImxDMTycepNTjilpgD/Ydow+yA8yylG9AXmYSuzPAlchm0AZ5ca6E2oC8pCiCOguA6SHbNpBNunwQVv+XgVdCjqmjG9Avx9NRqx80VxMR+R8ylE1TZbdoebm4Cbn5mcWDQgkxDPgeEdaE+5Qwc335U1WbfsgOcoyWHamYwY1GYBN2+W14D+gBjLCU3wx8DOxEzI9NyAtva6h7AfBDnuNHhbD6ryZ4EbvqvxPxdYKe/Vp921xVI77dNswL5G+V6ieUjZvgzs8sHrQzdNYBGKsq7lMKrECOTD/6A38Y8j0MV+2+8uWvQpzBeuBLYKlWtjygv9aCL1Q6gsw7kbbIDn878DMwDzgIXAtMQUyHel9f7ZAXdxZCnt2xSR0dtiIyVyBk8xBG/3xgm6vRwCnAG8BhQ7sqlR7S8mzcBHd+2nhwHCnMduxm5DTyYyFmZw8kanIEWGspH6f6HmcpLzbqcDd5uqi6/vuQ11T+82RuVu2RyU8jZrKOu4DfEWK+nqfMDRRm8umow11/L8rl90nC6J8PbHP1jur7Xcz+/9eqfJSqn4ub4MZPGw+O4xngKuAMxHbtD8xQCuxHjlwdyxB72oQ+arAllvIZqvziAIGLiTrcCQXQTGbk8xJknj601Pde0L0h5TOhgWQWVG9V91wtLwn9PWwhd3AjDfRS9XNxE9z5mcEDv8n3rO/3OuABJHLyGLLaR2vlR7HH97uqdJel/CLkeA7aJXSkgJ6OdUF2rbF51M8X/yAbj4fxiE2+H5knP/qrNKzfmsKuf6Mhbzay4OJApUp18ypu/W3ohLgn67UxdJyE+FDbaQm45eImuPMzgwcmH8qEGciCGurL3wWcbGnTrNIqQ1k74Dzkpvugowy/IBd1rtiaR90wqKZFR4CRKr0jR7stIcebhvgJOgYANyCLJ+UrWxNyHBd471wnZNz623C2Sm2+/Ehk01+s5QVxE/LjZwYPXBfUXyr13yZvRpxEE3aotKuhrBZRZpXj+ABX51E3blQg5P5V/a5CPstZgdnXjALTDHkNyIJ6m+IGc7ogEbom9bsY+tvgnZY24nsm5ptaXhA3wZ2ffh44H7+XqnSzL38lUGNpsw1ZiKZLsQEqXe04fmtDX8S88U4B756iWzLiFB01ZDriServ+S/+AAkIb0chIXxd3iBugjs//TzIWFA1mL9n6oVEbyDbYW1E7HrTTXMa2bG6kem8QsvO0ERpwttgPN+lGbleqAVusrQZgvkeqhQxAPhE+52k/juRC9aBwPlafk8k6rcHeNDXJoib4M5PPw8yTL7bED9pBWLn7gXOAa5Djr/FZEf0dgGLkMlaSjYWIJd81yD3Eh6+U+kUxJHchziV83IoEDVuVA+07HCXISYUyMsyfXI1EgnILNTyJgAfITovQwhWgdj4AxE7vkd0okeCMPq3QSJf/vwk9Z+MBKE+Qzb9TshfTdIIf1OGNjZugjs/TTw4jmHIit6IXJgdRo7FpcA92D+/qAXespRVAn8i9wB+PAz8hAQa0kr4YmMSwWHWlKFNF2RHNoWHBwHzETPkMELItchdXRw+YAOFhc0nkb/+w5CPTk0otv466hHSH0DuqmbRErAwIYibkJufQTwoGNMx27AgX6KngQvjGDgBjEf0GZK0IAlhJnBa0kJEhEK4GSsPOgNPWsqqEBNyURwDFxnVSDh+ftKCJIThtK5oa6EIy00rD6JyEg8hf+RqJvubvyNI+LEDEhU0fWtVKuiNhGdfpDS+uYsalcC3SQsRIcJy80TnQRlllFFGGWWUUcaJjP8AifYcVHCUOXcAAAAASUVORK5CYII=\n",
                "text/latex": "$\\displaystyle 5 \\left(\\left(t - 1\\right) e^{t} + 1\\right) e^{- t} \\theta\\left(t\\right)$",
                "text/plain": "  ⎛         t    ⎞  -t     \n5⋅⎝(t - 1)⋅ℯ  + 1⎠⋅ℯ  ⋅θ(t)"
              }
            ],
            "_view_module": "@jupyter-widgets/output",
            "_model_module_version": "1.0.0",
            "_view_count": null,
            "_view_module_version": "1.0.0",
            "layout": "IPY_MODEL_6e2b81da2d8f4a549c2310f7d7c5291e",
            "_model_module": "@jupyter-widgets/output"
          }
        },
        "cdd84c632a0145c99cc10f99160ecf61": {
          "model_module": "@jupyter-widgets/controls",
          "model_name": "SliderStyleModel",
          "state": {
            "_view_name": "StyleView",
            "handle_color": null,
            "_model_name": "SliderStyleModel",
            "description_width": "",
            "_view_module": "@jupyter-widgets/base",
            "_model_module_version": "1.5.0",
            "_view_count": null,
            "_view_module_version": "1.2.0",
            "_model_module": "@jupyter-widgets/controls"
          }
        },
        "21d08e9373e141bfa84eedfd324331da": {
          "model_module": "@jupyter-widgets/base",
          "model_name": "LayoutModel",
          "state": {
            "_view_name": "LayoutView",
            "grid_template_rows": null,
            "right": null,
            "justify_content": null,
            "_view_module": "@jupyter-widgets/base",
            "overflow": null,
            "_model_module_version": "1.2.0",
            "_view_count": null,
            "flex_flow": null,
            "width": null,
            "min_width": null,
            "border": null,
            "align_items": null,
            "bottom": null,
            "_model_module": "@jupyter-widgets/base",
            "top": null,
            "grid_column": null,
            "overflow_y": null,
            "overflow_x": null,
            "grid_auto_flow": null,
            "grid_area": null,
            "grid_template_columns": null,
            "flex": null,
            "_model_name": "LayoutModel",
            "justify_items": null,
            "grid_row": null,
            "max_height": null,
            "align_content": null,
            "visibility": null,
            "align_self": null,
            "height": null,
            "min_height": null,
            "padding": null,
            "grid_auto_rows": null,
            "grid_gap": null,
            "max_width": null,
            "order": null,
            "_view_module_version": "1.2.0",
            "grid_template_areas": null,
            "object_position": null,
            "object_fit": null,
            "grid_auto_columns": null,
            "margin": null,
            "display": null,
            "left": null
          }
        },
        "1ba106f8871246dfa2782d21bc7d6a8d": {
          "model_module": "@jupyter-widgets/controls",
          "model_name": "SliderStyleModel",
          "state": {
            "_view_name": "StyleView",
            "handle_color": null,
            "_model_name": "SliderStyleModel",
            "description_width": "",
            "_view_module": "@jupyter-widgets/base",
            "_model_module_version": "1.5.0",
            "_view_count": null,
            "_view_module_version": "1.2.0",
            "_model_module": "@jupyter-widgets/controls"
          }
        },
        "7780c4f19bb044709ed5832350b1b404": {
          "model_module": "@jupyter-widgets/base",
          "model_name": "LayoutModel",
          "state": {
            "_view_name": "LayoutView",
            "grid_template_rows": null,
            "right": null,
            "justify_content": null,
            "_view_module": "@jupyter-widgets/base",
            "overflow": null,
            "_model_module_version": "1.2.0",
            "_view_count": null,
            "flex_flow": null,
            "width": null,
            "min_width": null,
            "border": null,
            "align_items": null,
            "bottom": null,
            "_model_module": "@jupyter-widgets/base",
            "top": null,
            "grid_column": null,
            "overflow_y": null,
            "overflow_x": null,
            "grid_auto_flow": null,
            "grid_area": null,
            "grid_template_columns": null,
            "flex": null,
            "_model_name": "LayoutModel",
            "justify_items": null,
            "grid_row": null,
            "max_height": null,
            "align_content": null,
            "visibility": null,
            "align_self": null,
            "height": null,
            "min_height": null,
            "padding": null,
            "grid_auto_rows": null,
            "grid_gap": null,
            "max_width": null,
            "order": null,
            "_view_module_version": "1.2.0",
            "grid_template_areas": null,
            "object_position": null,
            "object_fit": null,
            "grid_auto_columns": null,
            "margin": null,
            "display": null,
            "left": null
          }
        },
        "6e2b81da2d8f4a549c2310f7d7c5291e": {
          "model_module": "@jupyter-widgets/base",
          "model_name": "LayoutModel",
          "state": {
            "_view_name": "LayoutView",
            "grid_template_rows": null,
            "right": null,
            "justify_content": null,
            "_view_module": "@jupyter-widgets/base",
            "overflow": null,
            "_model_module_version": "1.2.0",
            "_view_count": null,
            "flex_flow": null,
            "width": null,
            "min_width": null,
            "border": null,
            "align_items": null,
            "bottom": null,
            "_model_module": "@jupyter-widgets/base",
            "top": null,
            "grid_column": null,
            "overflow_y": null,
            "overflow_x": null,
            "grid_auto_flow": null,
            "grid_area": null,
            "grid_template_columns": null,
            "flex": null,
            "_model_name": "LayoutModel",
            "justify_items": null,
            "grid_row": null,
            "max_height": null,
            "align_content": null,
            "visibility": null,
            "align_self": null,
            "height": null,
            "min_height": null,
            "padding": null,
            "grid_auto_rows": null,
            "grid_gap": null,
            "max_width": null,
            "order": null,
            "_view_module_version": "1.2.0",
            "grid_template_areas": null,
            "object_position": null,
            "object_fit": null,
            "grid_auto_columns": null,
            "margin": null,
            "display": null,
            "left": null
          }
        },
        "276a43ba18654d1da6ce82f8a2c1fdc8": {
          "model_module": "@jupyter-widgets/controls",
          "model_name": "VBoxModel",
          "state": {
            "_view_name": "VBoxView",
            "_dom_classes": [
              "widget-interact"
            ],
            "_model_name": "VBoxModel",
            "_view_module": "@jupyter-widgets/controls",
            "_model_module_version": "1.5.0",
            "_view_count": null,
            "_view_module_version": "1.5.0",
            "box_style": "",
            "layout": "IPY_MODEL_c320563bac0344c3b81693bc4d34f526",
            "_model_module": "@jupyter-widgets/controls",
            "children": [
              "IPY_MODEL_306c70aa7f054120a56add7489808895",
              "IPY_MODEL_e7c92ce6ad444ae09361dfc79d1edde4",
              "IPY_MODEL_4cefd06ff3034c89bddb55eff38ee4bb"
            ]
          }
        },
        "c320563bac0344c3b81693bc4d34f526": {
          "model_module": "@jupyter-widgets/base",
          "model_name": "LayoutModel",
          "state": {
            "_view_name": "LayoutView",
            "grid_template_rows": null,
            "right": null,
            "justify_content": null,
            "_view_module": "@jupyter-widgets/base",
            "overflow": null,
            "_model_module_version": "1.2.0",
            "_view_count": null,
            "flex_flow": null,
            "width": null,
            "min_width": null,
            "border": null,
            "align_items": null,
            "bottom": null,
            "_model_module": "@jupyter-widgets/base",
            "top": null,
            "grid_column": null,
            "overflow_y": null,
            "overflow_x": null,
            "grid_auto_flow": null,
            "grid_area": null,
            "grid_template_columns": null,
            "flex": null,
            "_model_name": "LayoutModel",
            "justify_items": null,
            "grid_row": null,
            "max_height": null,
            "align_content": null,
            "visibility": null,
            "align_self": null,
            "height": null,
            "min_height": null,
            "padding": null,
            "grid_auto_rows": null,
            "grid_gap": null,
            "max_width": null,
            "order": null,
            "_view_module_version": "1.2.0",
            "grid_template_areas": null,
            "object_position": null,
            "object_fit": null,
            "grid_auto_columns": null,
            "margin": null,
            "display": null,
            "left": null
          }
        },
        "306c70aa7f054120a56add7489808895": {
          "model_module": "@jupyter-widgets/controls",
          "model_name": "IntSliderModel",
          "state": {
            "_view_name": "IntSliderView",
            "style": "IPY_MODEL_b44aab4346124827837d6a5ec28a7b8f",
            "_dom_classes": [],
            "description": "K",
            "step": 1,
            "_model_name": "IntSliderModel",
            "orientation": "horizontal",
            "max": 1,
            "_view_module": "@jupyter-widgets/controls",
            "_model_module_version": "1.5.0",
            "value": 1,
            "_view_count": null,
            "disabled": false,
            "_view_module_version": "1.5.0",
            "min": 1,
            "continuous_update": true,
            "readout_format": "d",
            "description_tooltip": null,
            "readout": true,
            "_model_module": "@jupyter-widgets/controls",
            "layout": "IPY_MODEL_1a0739ad0afe407ba194408476b6a791"
          }
        },
        "e7c92ce6ad444ae09361dfc79d1edde4": {
          "model_module": "@jupyter-widgets/controls",
          "model_name": "IntSliderModel",
          "state": {
            "_view_name": "IntSliderView",
            "style": "IPY_MODEL_5f5a21e00b334fe09f73a1fd3bd8501d",
            "_dom_classes": [],
            "description": "tau",
            "step": 1,
            "_model_name": "IntSliderModel",
            "orientation": "horizontal",
            "max": 10,
            "_view_module": "@jupyter-widgets/controls",
            "_model_module_version": "1.5.0",
            "value": 2,
            "_view_count": null,
            "disabled": false,
            "_view_module_version": "1.5.0",
            "min": 0,
            "continuous_update": true,
            "readout_format": "d",
            "description_tooltip": null,
            "readout": true,
            "_model_module": "@jupyter-widgets/controls",
            "layout": "IPY_MODEL_5b1552d5dcb64f1282dea8332a72ab28"
          }
        },
        "4cefd06ff3034c89bddb55eff38ee4bb": {
          "model_module": "@jupyter-widgets/output",
          "model_name": "OutputModel",
          "state": {
            "_view_name": "OutputView",
            "msg_id": "",
            "_dom_classes": [],
            "_model_name": "OutputModel",
            "outputs": [
              {
                "output_type": "display_data",
                "metadata": {
                  "tags": [],
                  "needs_background": "light"
                },
                "image/png": "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\n",
                "text/plain": "<Figure size 432x288 with 1 Axes>"
              },
              {
                "output_type": "display_data",
                "metadata": {
                  "tags": []
                },
                "image/png": "iVBORw0KGgoAAAANSUhEUgAAAGMAAAAYCAYAAADu3kOXAAAABHNCSVQICAgIfAhkiAAABPdJREFUaIHt2XmsX0MUB/BP17SKWkqLoERsaWptCSKUEnsQe3ixpJFoxRZCgv5BEWKvLVFLlKBSu1j+IJaUNPZqBdFaq2rfa3n+OHO92/vm3t+r5bV432Ry3++cMzNnZs428+jBMoNe3TzfxRiJ3TO86/AjPsEB2Ag/YQbOxOvdpONSQ+9unm80XsjQe2Ff3IudcA22wxj8giewSveo+N9HfyxCe6m9UeKPxmfom+m7PH7FPg3jL4dzMEd41/uYhH418rdgAQZ1Uf+tks7HdVF+mUZvHQsajWFYucSfhFtr+q6R+u3QwJ8lDvtOXJR+t+P6jPwo/IZTasY7OfU9vEKfjo+FcTRhqDCeq7CqOMDpeBs/4Cs8g2N1f2T6A3vja/k8NUvkiRzuwkvok+H1x0x8i+1L9OUxT2zKsEqfx/AlBtbMd5s4jI0q9NGJflZNvwLjktzOOD79/RGm4gJMSfO3Y5q/MW+fZ/HQk2s7Jdmz8XRmjA2ExeRCxqViIevXzH9WmuOEDO/yxDuoRNtQeMUNNePBbHwjv0mzxSE3WfQjWCiMZ4wIr1X5YXgv6Xdgw1gkgWLQRXhLLLxqnUOwcYu2XJK9B1dm5joND2bol4mwsHGNjgPxhTisXG44Wyx2Qol2YaLtkpEveLl2ZJI5N/3OVYOwoqgAb6rhl1EY0lUFoZow+wg3PVTEuLvT4HvgfOG6bSX5hal1BZuJA65iP5FQy7gChwhXn1Mz3v5YCTfi5wx/QPouKtF2FaFrRkb+xaRHG57D4yXek+n7bPqOxaOZMfYWoXN6jc5lFDr/UidwtTitCyx+UP2SIu3YtAsT5TAXl2BNsYmwWlJqaElussgtY4Q7F62aOKcmfe7AxEx7PvH3TPKDxMJfa9CxiPfjaviDEz9XnhPG+60OQ6hD36RHrZdtI+LpvS0UPbrFRHU4Ah+kOa5NtGOEFZZRFyomVuTmNciW2/Akv2H6/ViDjtclma0bZH7A/Ax9gMg1dzf0LXBJmuehMrFs/RNE0vpe54XDiPT9s+XY1NTK2E/nw+9KdTEI64gqbESGv4K4t8wXHkmUmUSeqcOWwlObvOdzi3tygbHCe1uFqBNxqgi/R9YJLdA1S9u1xWRLgtOx9p/oV1h5Lm4TBUi7sPQCmyfafTV9+gqrf7nF3J8LD6jiJpFfBzf0HZ90mKVzyf0HBiShp1oosqxghND3/hr+gzoumAXWTLRnavqMTPwpDfP2FmH2nQq9jyhkcgVKgZPS+K9h9QY5A3Wc2L8BQ9Qn0m3Fhj1cofcS3v9pzZhH6VwKV7FJkrmnQt9Zc+I/I/FfSrq3xCupQ91NeAf5W/DSwhuiTB1Zoq2Ld0VeGJ7pM02scYMMr3gGacvwChydZMZX6FcmXXK5pLjvzNTisbOcLHcT2b2veCV9VbjlWuJdqZ9ImssKDhcFwUJxNxqEg8XC99K5SoPDcLvYzMkV3o4iTH8oyuXvRKQoV0d3iBv9euIxktjDeeJGXX0/a8PNOt6qvsroNDfJdMIoYT3zRVWxUMS46+VvrUsbbWLDfhRl8w3CeOrQX/y/5Pka/ni8mcZrFxfdAoNFgq9Wf6OSbO7hcaLWBdGTDfr+53Gm2IQtlrDfBPnX40mJvt5fV+3/hwEirDywBH0GijewaRnebK3L4R40YEfx6NfVfy5tIkLO8H9Inx70oAc9+Dfgd4l5Yg0m4MyeAAAAAElFTkSuQmCC\n",
                "text/latex": "$\\displaystyle \\frac{e^{- \\frac{t}{2}} \\theta\\left(t\\right)}{2}$",
                "text/plain": " -t      \n ───     \n  2      \nℯ   ⋅θ(t)\n─────────\n    2    "
              }
            ],
            "_view_module": "@jupyter-widgets/output",
            "_model_module_version": "1.0.0",
            "_view_count": null,
            "_view_module_version": "1.0.0",
            "layout": "IPY_MODEL_85d48b453e274397b2907768b809f380",
            "_model_module": "@jupyter-widgets/output"
          }
        },
        "b44aab4346124827837d6a5ec28a7b8f": {
          "model_module": "@jupyter-widgets/controls",
          "model_name": "SliderStyleModel",
          "state": {
            "_view_name": "StyleView",
            "handle_color": null,
            "_model_name": "SliderStyleModel",
            "description_width": "",
            "_view_module": "@jupyter-widgets/base",
            "_model_module_version": "1.5.0",
            "_view_count": null,
            "_view_module_version": "1.2.0",
            "_model_module": "@jupyter-widgets/controls"
          }
        },
        "1a0739ad0afe407ba194408476b6a791": {
          "model_module": "@jupyter-widgets/base",
          "model_name": "LayoutModel",
          "state": {
            "_view_name": "LayoutView",
            "grid_template_rows": null,
            "right": null,
            "justify_content": null,
            "_view_module": "@jupyter-widgets/base",
            "overflow": null,
            "_model_module_version": "1.2.0",
            "_view_count": null,
            "flex_flow": null,
            "width": null,
            "min_width": null,
            "border": null,
            "align_items": null,
            "bottom": null,
            "_model_module": "@jupyter-widgets/base",
            "top": null,
            "grid_column": null,
            "overflow_y": null,
            "overflow_x": null,
            "grid_auto_flow": null,
            "grid_area": null,
            "grid_template_columns": null,
            "flex": null,
            "_model_name": "LayoutModel",
            "justify_items": null,
            "grid_row": null,
            "max_height": null,
            "align_content": null,
            "visibility": null,
            "align_self": null,
            "height": null,
            "min_height": null,
            "padding": null,
            "grid_auto_rows": null,
            "grid_gap": null,
            "max_width": null,
            "order": null,
            "_view_module_version": "1.2.0",
            "grid_template_areas": null,
            "object_position": null,
            "object_fit": null,
            "grid_auto_columns": null,
            "margin": null,
            "display": null,
            "left": null
          }
        },
        "5f5a21e00b334fe09f73a1fd3bd8501d": {
          "model_module": "@jupyter-widgets/controls",
          "model_name": "SliderStyleModel",
          "state": {
            "_view_name": "StyleView",
            "handle_color": null,
            "_model_name": "SliderStyleModel",
            "description_width": "",
            "_view_module": "@jupyter-widgets/base",
            "_model_module_version": "1.5.0",
            "_view_count": null,
            "_view_module_version": "1.2.0",
            "_model_module": "@jupyter-widgets/controls"
          }
        },
        "5b1552d5dcb64f1282dea8332a72ab28": {
          "model_module": "@jupyter-widgets/base",
          "model_name": "LayoutModel",
          "state": {
            "_view_name": "LayoutView",
            "grid_template_rows": null,
            "right": null,
            "justify_content": null,
            "_view_module": "@jupyter-widgets/base",
            "overflow": null,
            "_model_module_version": "1.2.0",
            "_view_count": null,
            "flex_flow": null,
            "width": null,
            "min_width": null,
            "border": null,
            "align_items": null,
            "bottom": null,
            "_model_module": "@jupyter-widgets/base",
            "top": null,
            "grid_column": null,
            "overflow_y": null,
            "overflow_x": null,
            "grid_auto_flow": null,
            "grid_area": null,
            "grid_template_columns": null,
            "flex": null,
            "_model_name": "LayoutModel",
            "justify_items": null,
            "grid_row": null,
            "max_height": null,
            "align_content": null,
            "visibility": null,
            "align_self": null,
            "height": null,
            "min_height": null,
            "padding": null,
            "grid_auto_rows": null,
            "grid_gap": null,
            "max_width": null,
            "order": null,
            "_view_module_version": "1.2.0",
            "grid_template_areas": null,
            "object_position": null,
            "object_fit": null,
            "grid_auto_columns": null,
            "margin": null,
            "display": null,
            "left": null
          }
        },
        "85d48b453e274397b2907768b809f380": {
          "model_module": "@jupyter-widgets/base",
          "model_name": "LayoutModel",
          "state": {
            "_view_name": "LayoutView",
            "grid_template_rows": null,
            "right": null,
            "justify_content": null,
            "_view_module": "@jupyter-widgets/base",
            "overflow": null,
            "_model_module_version": "1.2.0",
            "_view_count": null,
            "flex_flow": null,
            "width": null,
            "min_width": null,
            "border": null,
            "align_items": null,
            "bottom": null,
            "_model_module": "@jupyter-widgets/base",
            "top": null,
            "grid_column": null,
            "overflow_y": null,
            "overflow_x": null,
            "grid_auto_flow": null,
            "grid_area": null,
            "grid_template_columns": null,
            "flex": null,
            "_model_name": "LayoutModel",
            "justify_items": null,
            "grid_row": null,
            "max_height": null,
            "align_content": null,
            "visibility": null,
            "align_self": null,
            "height": null,
            "min_height": null,
            "padding": null,
            "grid_auto_rows": null,
            "grid_gap": null,
            "max_width": null,
            "order": null,
            "_view_module_version": "1.2.0",
            "grid_template_areas": null,
            "object_position": null,
            "object_fit": null,
            "grid_auto_columns": null,
            "margin": null,
            "display": null,
            "left": null
          }
        }
      }
    }
  },
  "cells": [
    {
      "cell_type": "markdown",
      "metadata": {
        "id": "view-in-github",
        "colab_type": "text"
      },
      "source": [
        "<a href=\"https://colab.research.google.com/github/caffonso/Control/blob/main/Control8.ipynb\" target=\"_parent\"><img src=\"https://colab.research.google.com/assets/colab-badge.svg\" alt=\"Open In Colab\"/></a>"
      ]
    },
    {
      "cell_type": "markdown",
      "metadata": {
        "id": "1pnK35D9q-XT"
      },
      "source": [
        "## Fisrt order system\n"
      ]
    },
    {
      "cell_type": "markdown",
      "metadata": {
        "id": "Y3gvIF95sO0R"
      },
      "source": [
        "## 1  Electrical system"
      ]
    },
    {
      "cell_type": "markdown",
      "metadata": {
        "id": "kyroYW7CL_qf"
      },
      "source": [
        "![image.png](data:image/png;base64,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)"
      ]
    },
    {
      "cell_type": "markdown",
      "metadata": {
        "id": "-YmYvkz2sSox"
      },
      "source": [
        "$v_{1}: input$\n",
        "\n",
        "$v_{2}: output$\n",
        "\n",
        "*Kirchhof law*\n",
        "\n",
        "$ v_{1} = r.i(t) + \\frac{1}{c}\\int \\! i(t) \\, \\mathrm{d}t$\n",
        "\n",
        "$ v_{2} =  \\frac{1}{c}\\int \\! i(t) \\, \\mathrm{d}t$\n",
        "\n",
        "but\n",
        "\n",
        "$V(s) = \\mathcal{L}(v(t))$ ; $  I(s) = \\mathcal{L}(i(t)) $\n",
        "\n",
        "$\\mathcal{L}(\\int \\! i(t) \\, \\mathrm{d}t) = \\frac{1}{s}I$\n",
        "\n",
        "then\n",
        "\n",
        "$ V_{1} =  rI + \\frac{1}{sc}I = I(r + \\frac{1}{sc} )$\n",
        "\n",
        "$ V_{2} =  \\frac{1}{sc}I$\n",
        "\n",
        "Transfer function\n",
        "\n",
        "$ G(s) = \\frac{V_{2}}{V_{1}} = \\frac {1}{RCs + 1}$\n",
        "\n",
        "Output\n",
        "\n",
        "$ V_{2}(s) = G(s).V_{1}(s) $\n",
        "\n",
        "back to time:\n",
        "\n",
        "$v_{2}(t) =  \\mathcal{L}^{-1}(G(s).V_{1}(s))$"
      ]
    },
    {
      "cell_type": "code",
      "metadata": {
        "id": "Ci7PXPYUq-XZ"
      },
      "source": [
        "import sympy\n",
        "import matplotlib.pyplot as plt\n",
        "import numpy\n",
        "sympy.init_printing()\n",
        "%matplotlib inline"
      ],
      "execution_count": null,
      "outputs": []
    },
    {
      "cell_type": "code",
      "metadata": {
        "id": "2gCvT_lHq-Xb"
      },
      "source": [
        "R, C, = sympy.symbols('R,C',real=True, positive=True)\n",
        "t, s = sympy.symbols('t, s')"
      ],
      "execution_count": null,
      "outputs": []
    },
    {
      "cell_type": "code",
      "metadata": {
        "id": "R_qXmplBhKbJ",
        "colab": {
          "base_uri": "https://localhost:8080/",
          "height": 53
        },
        "outputId": "c1e15238-0e35-4691-828a-ce1c71abbbeb"
      },
      "source": [
        "# trnafer function\n",
        "G = 1/(R*C*s + 1)\n",
        "G"
      ],
      "execution_count": null,
      "outputs": [
        {
          "output_type": "execute_result",
          "data": {
            "image/png": "[encoded data removed]",
            "text/latex": "$\\displaystyle \\frac{1}{C R s + 1}$",
            "text/plain": [
              "    1    \n",
              "─────────\n",
              "C⋅R⋅s + 1"
            ]
          },
          "metadata": {
            "tags": []
          },
          "execution_count": 3
        }
      ]
    },
    {
      "cell_type": "code",
      "metadata": {
        "colab": {
          "base_uri": "https://localhost:8080/",
          "height": 58
        },
        "id": "I6COPGLuHCgw",
        "outputId": "11656ab1-9d2c-477a-81a2-1e77e82f6538"
      },
      "source": [
        "sympy.solve(R*C*s + 1,s)"
      ],
      "execution_count": null,
      "outputs": [
        {
          "output_type": "execute_result",
          "data": {
            "image/png": "[encoded data removed]",
            "text/latex": "$\\displaystyle \\left[ - \\frac{1}{C R}\\right]$",
            "text/plain": [
              "⎡-1 ⎤\n",
              "⎢───⎥\n",
              "⎣C⋅R⎦"
            ]
          },
          "metadata": {
            "tags": []
          },
          "execution_count": 4
        }
      ]
    },
    {
      "cell_type": "code",
      "metadata": {
        "id": "RpYPyMnFq-Xc"
      },
      "source": [
        "def L(f):\n",
        "    return sympy.laplace_transform(f, t, s, noconds=True)\n",
        "def invL(F):\n",
        "    return sympy.inverse_laplace_transform(F, s, t)"
      ],
      "execution_count": null,
      "outputs": []
    },
    {
      "cell_type": "markdown",
      "metadata": {
        "id": "1PHRbEMsyETl"
      },
      "source": [
        "## 2. Roots: Pols and zeros\n",
        "\n",
        "$ G(s) = \\frac{A(s)}{B(s)}$\n",
        "\n",
        "$A(s) = K(s-z_{1})(s-z_{2})...(s-z_{m})$\n",
        "\n",
        "$B(s) = (s-p_{1})(s-p_{2})...(s-p_{n})$\n",
        "\n",
        "$zeros: z_{1},z_{2},...,z_{m}$\n",
        "\n",
        "$polos: p_{1},p_{2},...,p_{m}$\n",
        "\n",
        "Example:\n",
        "\n",
        "$ G(s) = \\frac{4(s+5)}{s^{2}+2s+10}$\n",
        "\n"
      ]
    },
    {
      "cell_type": "code",
      "metadata": {
        "colab": {
          "base_uri": "https://localhost:8080/",
          "height": 58
        },
        "id": "PZh_hU-FGlpw",
        "outputId": "c9cd1741-cfe8-4052-b46f-00d84d05e94e"
      },
      "source": [
        "G = 4*(s+5)/(s**2+2*s+10)\n",
        "A = sympy.numer(G)\n",
        "B = sympy.denom(G)\n",
        "G,A,B"
      ],
      "execution_count": null,
      "outputs": [
        {
          "output_type": "execute_result",
          "data": {
            "image/png": "[encoded data removed]",
            "text/latex": "$\\displaystyle \\left( \\frac{4 s + 20}{s^{2} + 2 s + 10}, \\  4 s + 20, \\  s^{2} + 2 s + 10\\right)$",
            "text/plain": [
              "⎛   4⋅s + 20               2           ⎞\n",
              "⎜─────────────, 4⋅s + 20, s  + 2⋅s + 10⎟\n",
              "⎜ 2                                    ⎟\n",
              "⎝s  + 2⋅s + 10                         ⎠"
            ]
          },
          "metadata": {
            "tags": []
          },
          "execution_count": 6
        }
      ]
    },
    {
      "cell_type": "code",
      "metadata": {
        "colab": {
          "base_uri": "https://localhost:8080/",
          "height": 38
        },
        "id": "DSa-cOOd4OGP",
        "outputId": "b82a23d5-c08c-4968-f3dc-41c02a9cf99c"
      },
      "source": [
        "## roots\n",
        "z = sympy.solve(A,s)\n",
        "p = sympy.solve(B,s)\n",
        "z,p"
      ],
      "execution_count": null,
      "outputs": [
        {
          "output_type": "execute_result",
          "data": {
            "image/png": "[encoded data removed]",
            "text/latex": "$\\displaystyle \\left( \\left[ -5\\right], \\  \\left[ -1 - 3 i, \\  -1 + 3 i\\right]\\right)$",
            "text/plain": [
              "([-5], [-1 - 3⋅ⅈ, -1 + 3⋅ⅈ])"
            ]
          },
          "metadata": {
            "tags": []
          },
          "execution_count": 7
        }
      ]
    },
    {
      "cell_type": "code",
      "metadata": {
        "colab": {
          "base_uri": "https://localhost:8080/",
          "height": 37
        },
        "id": "lQMTlo-g_7BW",
        "outputId": "7321fb23-2326-46e1-ab2f-77b8392a9e96"
      },
      "source": [
        "sympy.re(p[0]),sympy.im(p[0])"
      ],
      "execution_count": null,
      "outputs": [
        {
          "output_type": "execute_result",
          "data": {
            "image/png": "[encoded data removed]",
            "text/latex": "$\\displaystyle \\left( -1, \\  -3\\right)$",
            "text/plain": [
              "(-1, -3)"
            ]
          },
          "metadata": {
            "tags": []
          },
          "execution_count": 8
        }
      ]
    },
    {
      "cell_type": "code",
      "metadata": {
        "id": "Jx-DOX_Q0le1"
      },
      "source": [
        "def showRoots(z,p):\n",
        "  plt.title(\"Complex Roots\")\n",
        "  for i in range(len(z)):\n",
        "    plt.scatter(sympy.re(z[i]),sympy.im(z[i]), marker='o',color = \"blue\")\n",
        "  for i in range(len(p)): \n",
        "    plt.scatter(sympy.re(p[i]),sympy.im(p[i]), marker='X', color = \"red\")\n",
        "  plt.ylabel(\"j\") \n",
        "  plt.xlabel('R')  \n",
        "  plt.axhline(0, color='black')\n",
        "  plt.axvline(0, color='black')\n",
        "  plt.show()"
      ],
      "execution_count": null,
      "outputs": []
    },
    {
      "cell_type": "code",
      "metadata": {
        "colab": {
          "base_uri": "https://localhost:8080/",
          "height": 295
        },
        "id": "Otnuklnz0oJL",
        "outputId": "f520702a-769d-438d-ee41-13d447396981"
      },
      "source": [
        "showRoots(z,p)"
      ],
      "execution_count": null,
      "outputs": [
        {
          "output_type": "display_data",
          "data": {
            "image/png": "[encoded data removed]",
            "text/plain": [
              "<Figure size 432x288 with 1 Axes>"
            ]
          },
          "metadata": {
            "tags": [],
            "needs_background": "light"
          }
        }
      ]
    },
    {
      "cell_type": "markdown",
      "metadata": {
        "id": "ygl7J2ifrnbp"
      },
      "source": [
        "## 2 Input"
      ]
    },
    {
      "cell_type": "markdown",
      "metadata": {
        "id": "AIxVw7dBrJn8"
      },
      "source": [
        "![lab7_1.png](data:image/png;base64,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)"
      ]
    },
    {
      "cell_type": "markdown",
      "metadata": {
        "id": "lX2brTG7xtNP"
      },
      "source": [
        "### 2.1 Imput: *Step Unit*\n",
        "\n",
        "$ f(t) = \\theta(t) $ \n",
        "\n",
        "$F(s) = 1/s$\n"
      ]
    },
    {
      "cell_type": "code",
      "metadata": {
        "colab": {
          "base_uri": "https://localhost:8080/",
          "height": 337
        },
        "id": "QILatdXDibo9",
        "outputId": "d131614f-b89f-401e-f96e-854a47ebed8e"
      },
      "source": [
        "# Input: \n",
        "f = sympy.Heaviside(t)\n",
        "sympy.plot(f)\n",
        "F = L(f)\n",
        "f,F"
      ],
      "execution_count": null,
      "outputs": [
        {
          "output_type": "display_data",
          "data": {
            "image/png": "[encoded data removed]",
            "text/plain": [
              "<Figure size 432x288 with 1 Axes>"
            ]
          },
          "metadata": {
            "tags": [],
            "needs_background": "light"
          }
        },
        {
          "output_type": "execute_result",
          "data": {
            "image/png": "[encoded data removed]",
            "text/latex": "$\\displaystyle \\left( \\theta\\left(t\\right), \\  \\frac{1}{s}\\right)$",
            "text/plain": [
              "⎛      1⎞\n",
              "⎜θ(t), ─⎟\n",
              "⎝      s⎠"
            ]
          },
          "metadata": {
            "tags": []
          },
          "execution_count": 11
        }
      ]
    },
    {
      "cell_type": "markdown",
      "metadata": {
        "id": "9xWmtoFt0QNW"
      },
      "source": [
        "Output:\n",
        "\n",
        "$V(s) = G(s).F(s) = \\frac{\\mathrm{1}}{\\mathrm{s(1 + RC.s)}}$"
      ]
    },
    {
      "cell_type": "code",
      "metadata": {
        "colab": {
          "base_uri": "https://localhost:8080/",
          "height": 55
        },
        "id": "ZcN4mbdljXvU",
        "outputId": "648e6d12-4414-4103-834f-ab9322908dcd"
      },
      "source": [
        "G = 1/(R*C*s+1)\n",
        "F = 1/s\n",
        "V = G*F\n",
        "V"
      ],
      "execution_count": null,
      "outputs": [
        {
          "output_type": "execute_result",
          "data": {
            "image/png": "[encoded data removed]",
            "text/latex": "$\\displaystyle \\frac{1}{s \\left(C R s + 1\\right)}$",
            "text/plain": [
              "      1      \n",
              "─────────────\n",
              "s⋅(C⋅R⋅s + 1)"
            ]
          },
          "metadata": {
            "tags": []
          },
          "execution_count": 12
        }
      ]
    },
    {
      "cell_type": "code",
      "metadata": {
        "colab": {
          "base_uri": "https://localhost:8080/",
          "height": 380
        },
        "id": "3rkSJe33WoXD",
        "outputId": "a1aad9fc-399d-4385-c7cb-dd1a70062e8f"
      },
      "source": [
        "R = 2\n",
        "C = 5\n",
        "G = 1/(1+R*C*s)\n",
        "V = G*F\n",
        "v = invL(V)\n",
        "sympy.plot(v)\n",
        "V,v"
      ],
      "execution_count": null,
      "outputs": [
        {
          "output_type": "display_data",
          "data": {
            "image/png": "[encoded data removed]",
            "text/plain": [
              "<Figure size 432x288 with 1 Axes>"
            ]
          },
          "metadata": {
            "tags": [],
            "needs_background": "light"
          }
        },
        {
          "output_type": "execute_result",
          "data": {
            "image/png": "[encoded data removed]",
            "text/latex": "$\\displaystyle \\left( \\frac{1}{s \\left(10 s + 1\\right)}, \\  \\frac{\\left(-1 + \\sqrt{5}\\right) \\left(e^{\\frac{t}{10}} \\Gamma\\left(\\frac{9}{10}\\right) + \\frac{\\Gamma\\left(- \\frac{1}{10}\\right)}{10}\\right) e^{- \\frac{t}{10}} \\theta\\left(t\\right) \\Gamma\\left(\\frac{1}{10}\\right)}{4 \\pi}\\right)$",
            "text/plain": [
              "⎛                        ⎛ t                    ⎞  -t              ⎞\n",
              "⎜                        ⎜ ──                   ⎟  ───             ⎟\n",
              "⎜                        ⎜ 10           Γ(-1/10)⎟   10             ⎟\n",
              "⎜              (-1 + √5)⋅⎜ℯ  ⋅Γ(9/10) + ────────⎟⋅ℯ   ⋅θ(t)⋅Γ(1/10)⎟\n",
              "⎜     1                  ⎝                 10   ⎠                  ⎟\n",
              "⎜────────────, ────────────────────────────────────────────────────⎟\n",
              "⎝s⋅(10⋅s + 1)                          4⋅π                         ⎠"
            ]
          },
          "metadata": {
            "tags": []
          },
          "execution_count": 13
        }
      ]
    },
    {
      "cell_type": "markdown",
      "metadata": {
        "id": "jqJIVsWV45W-"
      },
      "source": [
        "### 2.2 Imput: *impult unit*\n",
        "\n",
        "$ f(t) = \\delta(t) $ \n",
        "\n",
        "$F(s) = 1$\n"
      ]
    },
    {
      "cell_type": "markdown",
      "metadata": {
        "id": "LtUKylG_5JxC"
      },
      "source": [
        "Output:\n",
        "\n",
        "$V(s) = G(s).F(s) = \\frac{\\mathrm{1}}{\\mathrm{1 + RC.s}}$"
      ]
    },
    {
      "cell_type": "code",
      "metadata": {
        "colab": {
          "base_uri": "https://localhost:8080/",
          "height": 347
        },
        "id": "Yn0X4bRMEfUW",
        "outputId": "6d61185d-3d0d-41a3-8387-d375fe3ee82f"
      },
      "source": [
        "R = 2\n",
        "C = 5\n",
        "G = 1/(1+R*C*s)\n",
        "F = 1\n",
        "V = G*F\n",
        "v = invL(V)\n",
        "sympy.plot(v)\n",
        "V,v"
      ],
      "execution_count": null,
      "outputs": [
        {
          "output_type": "display_data",
          "data": {
            "image/png": "[encoded data removed]",
            "text/plain": [
              "<Figure size 432x288 with 1 Axes>"
            ]
          },
          "metadata": {
            "tags": [],
            "needs_background": "light"
          }
        },
        {
          "output_type": "execute_result",
          "data": {
            "image/png": "[encoded data removed]",
            "text/latex": "$\\displaystyle \\left( \\frac{1}{10 s + 1}, \\  \\frac{e^{- \\frac{t}{10}} \\theta\\left(t\\right)}{10}\\right)$",
            "text/plain": [
              "⎛           -t      ⎞\n",
              "⎜           ───     ⎟\n",
              "⎜            10     ⎟\n",
              "⎜   1      ℯ   ⋅θ(t)⎟\n",
              "⎜────────, ─────────⎟\n",
              "⎝10⋅s + 1      10   ⎠"
            ]
          },
          "metadata": {
            "tags": []
          },
          "execution_count": 14
        }
      ]
    },
    {
      "cell_type": "markdown",
      "metadata": {
        "id": "H45QtBOS7vrn"
      },
      "source": [
        "### 2.3 Input: *ramp*"
      ]
    },
    {
      "cell_type": "code",
      "metadata": {
        "colab": {
          "base_uri": "https://localhost:8080/",
          "height": 337
        },
        "id": "6VkVGADv77M9",
        "outputId": "b60b18d7-23a8-49bc-835a-6066860eeff4"
      },
      "source": [
        "f = t\n",
        "F = L(f)\n",
        "sympy.plot(f)\n",
        "f,F"
      ],
      "execution_count": null,
      "outputs": [
        {
          "output_type": "display_data",
          "data": {
            "image/png": "[encoded data removed]",
            "text/plain": [
              "<Figure size 432x288 with 1 Axes>"
            ]
          },
          "metadata": {
            "tags": [],
            "needs_background": "light"
          }
        },
        {
          "output_type": "execute_result",
          "data": {
            "image/png": "[encoded data removed]",
            "text/latex": "$\\displaystyle \\left( t, \\  \\frac{1}{s^{2}}\\right)$",
            "text/plain": [
              "⎛   1 ⎞\n",
              "⎜t, ──⎟\n",
              "⎜    2⎟\n",
              "⎝   s ⎠"
            ]
          },
          "metadata": {
            "tags": []
          },
          "execution_count": 19
        }
      ]
    },
    {
      "cell_type": "code",
      "metadata": {
        "colab": {
          "base_uri": "https://localhost:8080/",
          "height": 347
        },
        "id": "VgACHerab29D",
        "outputId": "9324ee32-f014-4874-9433-069521b22ce4"
      },
      "source": [
        "\n",
        "V = G*F\n",
        "v = invL(V)\n",
        "sympy.plot(v)\n",
        "V,v"
      ],
      "execution_count": null,
      "outputs": [
        {
          "output_type": "display_data",
          "data": {
            "image/png": "[encoded data removed]",
            "text/plain": [
              "<Figure size 432x288 with 1 Axes>"
            ]
          },
          "metadata": {
            "tags": [],
            "needs_background": "light"
          }
        },
        {
          "output_type": "execute_result",
          "data": {
            "image/png": "[encoded data removed]",
            "text/latex": "$\\displaystyle \\left( \\frac{1}{s^{2} \\left(10 s + 1\\right)}, \\  t \\theta\\left(t\\right) - 10 \\theta\\left(t\\right) + \\frac{e^{- \\frac{t}{10}} \\theta\\left(t\\right) \\Gamma^{2}\\left(- \\frac{1}{10}\\right)}{10 \\Gamma^{2}\\left(\\frac{9}{10}\\right)}\\right)$",
            "text/plain": [
              "⎛                                   -t                ⎞\n",
              "⎜                                   ───               ⎟\n",
              "⎜                                    10       2       ⎟\n",
              "⎜      1                           ℯ   ⋅θ(t)⋅Γ (-1/10)⎟\n",
              "⎜─────────────, t⋅θ(t) - 10⋅θ(t) + ───────────────────⎟\n",
              "⎜ 2                                        2          ⎟\n",
              "⎝s ⋅(10⋅s + 1)                         10⋅Γ (9/10)    ⎠"
            ]
          },
          "metadata": {
            "tags": []
          },
          "execution_count": 20
        }
      ]
    },
    {
      "cell_type": "markdown",
      "metadata": {
        "id": "kcFRvnqOIePE"
      },
      "source": [
        "## 3 General Form"
      ]
    },
    {
      "cell_type": "markdown",
      "metadata": {
        "id": "9WP-tvlKq-Xh"
      },
      "source": [
        "By convention, we usually rewrite the above in the following form, for reasons which will become apparent soon:"
      ]
    },
    {
      "cell_type": "markdown",
      "metadata": {
        "id": "kfS3GcpQ6yMJ"
      },
      "source": [
        "$ G(s) = \\frac{\\mathrm{K}}{\\mathrm{1 + \\tau.s}} $ "
      ]
    },
    {
      "cell_type": "code",
      "metadata": {
        "colab": {
          "base_uri": "https://localhost:8080/",
          "height": 53
        },
        "id": "kIZSmmc8q-Xk",
        "outputId": "f0caa7ff-eccc-4b81-bacb-54ef9a46a182"
      },
      "source": [
        "K, tau, = sympy.symbols('K,tau',real=True, positive=True)\n",
        "G = K/(tau*s + 1)\n",
        "G"
      ],
      "execution_count": null,
      "outputs": [
        {
          "output_type": "execute_result",
          "data": {
            "image/png": "[encoded data removed]",
            "text/latex": "$\\displaystyle \\frac{K}{s \\tau + 1}$",
            "text/plain": [
              "   K   \n",
              "───────\n",
              "s⋅τ + 1"
            ]
          },
          "metadata": {
            "tags": []
          },
          "execution_count": 21
        }
      ]
    },
    {
      "cell_type": "markdown",
      "metadata": {
        "id": "HSrOIn4Eq-Xl"
      },
      "source": [
        "The inverse laplace of a transfer function is its impulse response"
      ]
    },
    {
      "cell_type": "code",
      "metadata": {
        "id": "oc1ass4Leu6d"
      },
      "source": [
        "from ipywidgets import interact\n",
        "\n",
        "def impulse(K,tau):\n",
        "  G = K/(1+tau*s)\n",
        "  v = invL(G*1)\n",
        "  sympy.plot(v,xlim=(-2.5, 10), ylim=(0, 2))\n",
        "  return v\n",
        "\n",
        "def step(K,tau):\n",
        "  G = K/((1+tau*s))\n",
        "  v = invL(G/s)\n",
        "  sympy.plot(v,xlim=(-2.5, 10), ylim=(0, 8))\n",
        "  return v  \n",
        "  \n",
        "def ramp(K,tau):\n",
        "  G = K/(1+tau*s)\n",
        "  v = invL(G/s**2)\n",
        "  sympy.plot(v,xlim=(-2.5, 10), ylim=(0, 8))\n",
        "  return v   "
      ],
      "execution_count": null,
      "outputs": []
    },
    {
      "cell_type": "code",
      "metadata": {
        "colab": {
          "base_uri": "https://localhost:8080/",
          "height": 395,
          "referenced_widgets": [
            "e9e3cb381fc74606b5ce515032f19f3b",
            "8e83bfa4078f4018aede9d920a637d01",
            "3ac9f93fa7a943b985e78bf3948441f6",
            "f5b2b8e59ded4eccb366eb6c5d0af487",
            "7910eadf9ee643ac8d447f1a77e4ee6c",
            "fe27d6269baa4d0f93b8f80796fa2ccb",
            "3df0f728239144c1947039dfd4b9eb92",
            "0e63686a6e67495583ccdd28dcb498c9",
            "eeb89e990c8f4134ba414f8a19b9cd87",
            "35fa872748944fe0ae7f5de3e0bd61c3"
          ]
        },
        "id": "h75x4noQgAnt",
        "outputId": "db2f4d6c-92c9-4744-ca90-aea15e703dec"
      },
      "source": [
        "interact(impulse, K =(0, 10), tau =(0, 10))\n"
      ],
      "execution_count": null,
      "outputs": [
        {
          "output_type": "display_data",
          "data": {
            "application/vnd.jupyter.widget-view+json": {
              "model_id": "e9e3cb381fc74606b5ce515032f19f3b",
              "version_minor": 0,
              "version_major": 2
            },
            "text/plain": [
              "interactive(children=(IntSlider(value=5, description='K', max=10), IntSlider(value=5, description='tau', max=1…"
            ]
          },
          "metadata": {
            "tags": []
          }
        },
        {
          "output_type": "execute_result",
          "data": {
            "text/plain": [
              "<function __main__.impulse>"
            ]
          },
          "metadata": {
            "tags": []
          },
          "execution_count": 23
        }
      ]
    },
    {
      "cell_type": "code",
      "metadata": {
        "colab": {
          "base_uri": "https://localhost:8080/",
          "height": 395,
          "referenced_widgets": [
            "ffca38af587e43b7a83d02a6a84e2fd8",
            "0684798effd44953884d47381ff2209e",
            "543620b2adb746b1b8707a47a79b62e8",
            "88bbd00c169c4ddda96259c463ca2b26",
            "35307b92176d45b8a0ad85c94e654c83",
            "79f4e1f7af7743a89bc798a1e9de80d0",
            "ca1df33767854c19b4e79e0d32df3da3",
            "ada10ae5853a4e89838934118f04e6c0",
            "ecc45a979a2b4fe59adfc9de05741fa8",
            "2af74919901b45fd85b7df4d187d6034"
          ]
        },
        "id": "8CnLTDAillcF",
        "outputId": "3095dab2-d5ea-41c0-9491-a169f68118b9"
      },
      "source": [
        "interact(step, K =(0, 10), tau =(0, 3))\n"
      ],
      "execution_count": null,
      "outputs": [
        {
          "output_type": "display_data",
          "data": {
            "application/vnd.jupyter.widget-view+json": {
              "model_id": "ffca38af587e43b7a83d02a6a84e2fd8",
              "version_minor": 0,
              "version_major": 2
            },
            "text/plain": [
              "interactive(children=(IntSlider(value=5, description='K', max=10), IntSlider(value=1, description='tau', max=3…"
            ]
          },
          "metadata": {
            "tags": []
          }
        },
        {
          "output_type": "execute_result",
          "data": {
            "text/plain": [
              "<function __main__.step>"
            ]
          },
          "metadata": {
            "tags": []
          },
          "execution_count": 24
        }
      ]
    },
    {
      "cell_type": "code",
      "metadata": {
        "colab": {
          "base_uri": "https://localhost:8080/",
          "height": 395,
          "referenced_widgets": [
            "73a5eade7722494b8bb48fe06e735420",
            "9a288951333d460a97b3da37b478ad05",
            "b74a8a8039e54379a962e371f2884ccb",
            "d5c3f889ed46490bad7846d25f3bf203",
            "01349820df924aaca868802c31196e55",
            "cdd84c632a0145c99cc10f99160ecf61",
            "21d08e9373e141bfa84eedfd324331da",
            "1ba106f8871246dfa2782d21bc7d6a8d",
            "7780c4f19bb044709ed5832350b1b404",
            "6e2b81da2d8f4a549c2310f7d7c5291e"
          ]
        },
        "id": "vbKgH4OEgnuw",
        "outputId": "6dda9f9b-b955-47bd-fd00-3dfbb3382300"
      },
      "source": [
        "interact(ramp, K =(0, 10), tau =(0, 3))\n"
      ],
      "execution_count": null,
      "outputs": [
        {
          "output_type": "display_data",
          "data": {
            "application/vnd.jupyter.widget-view+json": {
              "model_id": "73a5eade7722494b8bb48fe06e735420",
              "version_minor": 0,
              "version_major": 2
            },
            "text/plain": [
              "interactive(children=(IntSlider(value=5, description='K', max=10), IntSlider(value=1, description='tau', max=3…"
            ]
          },
          "metadata": {
            "tags": []
          }
        },
        {
          "output_type": "execute_result",
          "data": {
            "text/plain": [
              "<function __main__.ramp>"
            ]
          },
          "metadata": {
            "tags": []
          },
          "execution_count": 25
        }
      ]
    },
    {
      "cell_type": "markdown",
      "metadata": {
        "id": "_e59Kbzoq-Xy"
      },
      "source": [
        "Exploration of the above interaction allows us to see the following:\n",
        "\n",
        "* $K$ scales the response in the $y$ direction\n",
        "* $\\tau$ scales the response in the $t$ direction\n",
        "* The response of the system is always $0.63K$ when $t=\\tau$"
      ]
    },
    {
      "cell_type": "markdown",
      "metadata": {
        "id": "bCKa3qarq-Xz"
      },
      "source": [
        "We get the \"magic number\" 0.63 by substituting $t=\\tau$ into the response:"
      ]
    },
    {
      "cell_type": "markdown",
      "metadata": {
        "id": "AteR-8me2J_m"
      },
      "source": [
        "## Atividades\n",
        "\n",
        "1. Considere quadripolo a seguir, onde \n",
        "\n",
        "$ R = 500k \\Omega $\n",
        "\n",
        "$ C = 1.5\\mu  F$"
      ]
    },
    {
      "cell_type": "markdown",
      "metadata": {
        "id": "BLe-csbb16Er"
      },
      "source": [
        "![image.png](data:image/png;base64,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)"
      ]
    },
    {
      "cell_type": "markdown",
      "metadata": {
        "id": "o87_Iouj4vmE"
      },
      "source": [
        "Encontre a tensão $v_{2}(t)$ para uma entrada $v_{1}(t)$ impulso unitário:"
      ]
    },
    {
      "cell_type": "markdown",
      "metadata": {
        "id": "lmXjx7e_YHRw"
      },
      "source": [
        "*Equacionamento:*\n",
        "\n",
        "$ R = 500K \\Omega$\n",
        "\n",
        "$ C = 1.5 \\mu F $\n",
        "\n",
        "$ F  = 1$\n",
        "\n",
        "$ G = \\frac{\\mathrm{1}}{\\mathrm{1 + RC.s}} $ \n",
        "\n",
        "\n",
        "$ V = G.F$\n",
        "\n",
        "\n",
        "$v =  \\mathcal{L}^{-1}(G.F)$\n",
        "\n",
        "*plotat v*\n"
      ]
    },
    {
      "cell_type": "code",
      "metadata": {
        "id": "WPjl7tYvFDj7"
      },
      "source": [
        "## coloque seu codigo aqui\n"
      ],
      "execution_count": null,
      "outputs": []
    },
    {
      "cell_type": "markdown",
      "metadata": {
        "id": "1JSDZVLI908R"
      },
      "source": [
        "*saida esperda*\n",
        "\n",
        "![image.png](data:image/png;base64,iVBORw0KGgoAAAANSUhEUgAAAagAAAEXCAYAAAD4LtBgAAAgAElEQVR4Ae2dCXhV1dnvV7968d7eam0tioJCEhKGTGgqFJ46UQsodahX+dBrrZiKXimtWqw4RIvEICCCikAUBcGCGkAjCWGGMCRCSGRIGAJJGMMMMYwhCe993sXZx312zpScc/b438+zn73X2mt439+7Tv45e6+zthDYQAAEQAAEQAAEQAAEQAAEQAAEQAAEQAAEQAAEQAAEQAAEQAAEQAAEQAAEQAAEQAAEQAAEQAAEQAAEQAAEQAAEQAAEQAAEQAAEQAAEQAAEQAAEQAAEQAAEQAAEHEfgGiHEn4QQQ4QQTwohugsh/stxFOAwCIAACICAaQjcKYRYJIQoEkJ8JIRIF0K8I4T4VghRJoQYIYS40jTWwhAQAAEQAAHHEBgrhLjRh7eXCSEeEEL8Hx/XkQ0CIAACIAACEScQ5aUHb3leiiELBEAABEAABCJHoMRL08Ve8pAFAiBgJwKEDQRMSmDbtm00Z84cio6Oprlz57r3adOmUdeuXQ2xum/fvob0i05BwKoEQtJLqzoNu+1P4JtvvqEnnniCfvWrX8kjn/M+dOhQWrt2rSEAUlJSDOkXnYKAVQlAoKwaOdgdFIGCgoKgyulRCAKlB2X0YScCECg7RRO+uAmMHDmSTpw44U5rT5YtW0bz58/XZkc0DYGKKF40bkMCECgbBhUuEfEtvl69elHv3r1p2LBhNHr0aBoxYgQ99thjlJCQQM899xwdOXJEV1QQKF1xozMbEIBA2SCIcKEpARYi3liYeGJERkYGjR8/nhYuXEhnz55tWkGHHAiUDpDRha0IQKBsFU44oxDo0qULHThwgJKSkuj48eNNdqWcnkcIlJ600ZcdCECg7BBF+NCEwHvvvUedO3emVq1aUVRUlHvv0KGDPG9SQYcMCJQOkNGFrQhAoGwVTjijJfDMM89oswxLQ6AMQ4+OLUoAAmXRwMFs6xGAQFkvZrDYWAIQKGP5o3eHEKg8corad0qggzXGTNBwCGa4aTMCECibBRTumJPAuMXbqVWbjvRV0V5zGgirQMCEBCBQJgwKTLIfgckrdkqB+nRNpf2cg0cgECECEKgIgUWzIKAm8NnaSilQk1fsUmfjHARAwA8BCJQfOLgEAuEikFW0VwpURu7WcDWJdkDA9gQgULYPMRw0A4GcTQekQL0yb7MZzIENIGAJAhAoS4QJRlqdQN6WailQf59dYnVXYD8I6EYAAqUbanTkZAKKQD05fb2TMcB3EGgWAQhUs3ChMAi0jIAiUAOmmOf9VC3zBLVAQD8CECj9WKMnBxNQBOqBiWscTAGug0DzCECgmscLpUGgRQQUgbptzPIW1UclEHAiAQiUE6MOn3UnoAjUTW8u1r1vdAgCViUAgbJq5GC3pQgoAtXxlVy6ePGipWyHsSBgFAEIlFHk0a+jCCgC1f6lHDpb1+Ao3+EsCLSUAASqpeRQDwSaQUAtUAdrzjWjJoqCgHMJQKCcG3t4riMBtUBtO/iDjj2jKxCwLgEIlHVjB8stREAtUIUVxyxkOUwFAeMIQKCMY4+eHURgweZLSx3xM6i8LQcd5DlcBYGWE4BAtZwdaoJA0ATUAvXF+j1B10NBEHAyAQiUk6MP330SGDRoELVu3Zri4+O9lvn8888pMTGREhISqGfPnrRx40av5ZRMtUBNWYl3QilccAQBfwQgUP7o4JpjCeTn51NxcbFPgVq7di2dOHFC8lmwYAF1797dLytFoKJfzqXRedv8lsVFEACBSwQgUBgJIOCDQFVVlU+BUldhobr++uvVWU3OFYFKHrGIXsY7oZrwQQYIeCMAgfJGBXkgQETBCtTYsWMpNTXVK7PMzExKSUmhhLsfk++DGphZQK9+jZcWeoWFTBDQEIBAaYAgCQIKgWAEavny5dS5c2c6dsz/1HHlG9Td762iRz4qVLrAEQRAwA8BCJQfOLjkbAKBBGrTpk0UHR1NO3bsCAhKEaiBmYXUd3x+wPIoAAIgQASBwigAAR8E/AnUnj17KCYmhniyRDCbIlBPzSiiHm8tDaYKyoCA4wlAoBw/BADAG4GBAwdSmzZt6LLLLqO2bdvS1KlTafLkyXLn8vzM6aqrrqLk5GS583Mmf5siUP/8aiPFvboAK5r7g4VrIOAiAIHCUAABHQgoAvXm/FLi1STO1NXr0Cu6AAFrE4BAWTt+sN4iBBSBGr9khxSo/SfPWsRymAkCxhGAQBnHHj07iIAiUJ+srpACtWV/jYO8h6sg0DICEKiWcUMtEGgWAUWgsjbslQK1qvxIs+qjMAg4kQAEyolRh8+6E1AEalHZQSlQ2RsP6G4DOgQBqxGAQFktYrDXkgQUgSqsOCoF6rOCKkv6AaNBQE8CECg9aaMvxxLIdb0PqvRAjRQoniyBDQRAwD8BCJR/PrgKAmEhoAjU9oO1lPjGQnojuzQs7aIRELAzAQiUnaML30xDQC1Qt41ZTkNnlZjGNhgCAmYlAIEya2Rgl60IqAXqvolr6LGp39nKPzgDApEgAIGKBFW0CQIaAmqBeuLTdfTH91drSiAJAiCgJQCB0hJBGgQiQEAtUM9/8T31GrUsAr2gSRCwFwEIlL3iCW9MSkAtUCO+LaOuaXkmtRRmgYB5CECgzBMLWGJjAmqB+mBZuZxqfr6+wcYewzUQCJ0ABCp0hmgBBAISUAvUzMLdUqAO/XAuYD0UAAEnE4BAOTn68F03AmqBWlx2iO55bxVtrf5Bt/7REQhYkQAEyopRg82WI6AWqMKKY/Ib1JqdRy3nBwwGAT0JQKD0pI2+HEtALVA7D9dKgfrm+/2O5QHHQSAYAhCoYCihDAiESEAtUMdP10mB+mR1ZYitojoI2JsABMre8YV3JiGgFqjGxosUNTyHxi7cbhLrYAYImJMABMqccYFVNiOgFih2LWXkEho+d5PNvIQ7IBBeAhCo8PJEayDglYBWoPq8m09PfVbktSwyQQAELhGAQGEkgIAOBLQC9chHhfTgpLU69IwuQMC6BCBQ1o0dLLcQgZxN1dSqTUfi90HxNuQ/xXT7mOUW8gCmgoD+BCBQ+jNHjxYgMGjQIGrdujXFx8d7tfbixYs0dOhQiomJocTERCouLvZaTslUBGrHoUsCxS8sTHhjoXIZRxAAAS8EIFBeoCALBPLz86Xo+BKo3Nxc6tevH7FQFRYWUvfu3f1C0wrU+0uxHp9fYLgIAkQEgcIwAAEfBKqqqnx+gxo8eDDNmjXLXTMuLo6qq6vdae2JVqA+/+7SenwHa7Aen5YV0iCgEIBAKSRwBAENAX8C1b9/f1q9+seXDvbu3ZuKinzPytMKVN6Wg/LHulv212h6RRIEQEAhAIFSSOAIAhoC4RCozMxMSklJoYS7/ywnSSjPoNZXHZcCtXLHEU2vSIIACCgEIFAKCRxBQEPAn0CFeouv4sgpKVDzSvZpekUSBEBAIQCBUkjgCAIaAv4EKicnx2OSxC233KKp7ZnU3uKrOXtBCtTHqyo8CyIFAiDgJgCBcqPACQj8SGDgwIHUpk0buuyyy6ht27Y0depUmjx5sty5FM/ee/bZZyk6OpoSEhL8Pn/i8lqB4vodX8mlt/O2/dgpzkAABDwIQKA8cCABApEhoBUo7qX7W0voxayNkekQrYKADQhAoGwQRLhgfgLeBOqJaevoX3OwYKz5owcLjSIAgTKKPPp1FAFvAvXnT9bRfR/8OFXdUUDgLAgEQQACFQQkFAGBUAl4E6gXvtxIPTOWhto06oOAbQlAoGwbWjhmJgLeBGrUgm1yogRPmMAGAiDQlAAEqikT5IBA2Al4Eyh+5Xv7l3LoxOm6sPeHBkHADgQgUHaIInwwPQFvAvXtxgNSoJTVJUzvBAwEAZ0JQKB0Bo7unEnAm0AVVhyTArVm51FnQoHXIBCAAAQqACBcBoFwEJi/6YDHWnzcJpY7CgdZtGFnAhAoO0cXvpmGgCJQ5a4XFrJhtecuLXeUmb/LNHbCEBAwEwEIlJmiAVtsS8CbQPHsvc6v5VF6Tplt/YZjIBAKAQhUKPRQFwSCJOBNoLjqraOX099nlwTZCoqBgLMIQKCcFW94axABXwL14KS19MhHhQZZhW5BwNwEIFDmjg+sswkBXwL1zMwNdNe4lTbxEm6AQHgJQKDCyxOtgYBXAr4EKu2bLZT070Ve6yATBJxOAALl9BEA/3Uh4Eug3l9aLn8Ldb6+QRc70AkIWIkABMpK0YKtliXgS6C+WL9HCtS+E2cs6xsMB4FIEYBARYos2gUBFQFfArVs2yEpUCV7TqhK4xQEQIAJQKAwDkBABwK+BGrzvhopUItKD+pgBboAAWsRgEBZK16w1qIEfAnUoR/OSYGaWbjbop7BbBCIHAEIVOTYomUQcBPwJVD1DY1ymjmWO3KjwgkIuAlAoNwocAICkSPgS6C4x5SRS+ilOZsi1zlaBgGLEoBAWTRwMNtaBPwJ1B/fX02Pf7LOWg7BWhDQgQAESgfI6AIE/AlU6vQi6js+H5BAAAQ0BCBQGiBIgkAkCPDbc1u16Ujq120o/bz29RZKHoHVJBQeOIKAQgACpZDAEQRUBPLy8iguLo5iYmJo1KhRqiuXTvfs2UN33HEHdevWjRITEyk3N7dJGXWGIlA7D9eqs+X5xOU75Uy+cxewmkQTOMhwNAEIlKPDD+e9EWhoaKDo6GiqqKiguro6SkpKorIyz3c2PfXUUzRp0iRZna+1b9/eW1PuPH8ClbVhnxSoqqOn3eVxAgIggB/qYgyAQBMCBQUF1KdPH3d+RkYG8a7eBg8eTG+//bbM4vI9e/ZUX25y7k+g1uw8KgWqYNexJvWQAQJOJoBvUE6OPnz3SiArK4tSU1Pd12bMmEFDhgxxp/mkurqaEhISqG3btnTVVVfRhg0bPK4riczMTEpJSaGEex6Xz6C83eLbefiUFKivS/Yr1XAEARDAUkcYAyDQlEAwAjVu3Dh65513ZGX+BtWlSxdqbGxs2pgrx983qFPn66VATVqxy2d9XAABJxLANygnRh0++yUQzC2+rl270t69e93tREVF0eHDh91p7Yk/geKyCa8vpDeyS7XVkAYBRxOAQDk6/HDeG4H6+npiwamsrHRPkigt9RSPfv360bRp02T1rVu30nXXXUcXL1701pzMCyRQ/FbdwTOKfNbHBRBwIgEIlBOjDp8DEuBp47GxsXI2X3p6uiyflpZG2dnZ8pxn7vXq1UvO8EtOTqZFi/z/jimQQD029Tu6b+KagHahAAg4iQAEyknRhq+GEQgkUMO+2kjd31pimH3oGATMSAACZcaowCbbEQgkUO8v3SFXNefVzbGBAAhcIgCBwkgAAR0IBBKoWevw6ncdwoAuLEYAAmWxgMFcaxIIJFD5O47IqebrKo9b00FYDQIRIACBigBUNAkCWgKBBGrXkUs/1p1Xsk9bFWkQcCwBCJRjQw/H9SQQSKB4odj2L+XQB8vK9TQLfYGAqQlAoEwdHhhnFwKBBIr9TBm5mIbPxZt17RJz+BE6AQhU6AzRAggEJBCMQN37wWri30NhAwEQuEQAAoWRAAI6EMh2vbDQ22KxSvfPzNxAd76zQkniCAKOJwCBcvwQAAA9CPwoUKd8djdyfhl1em2B3yWTfFbGBRCwIQEIlA2DCpfMRyAYgfp0TaWcKHHs1HnzOQCLQMAAAhAoA6CjS+cRCEagFpUelAK1ad9J5wGCxyDghQAEygsUZIFAuAkEI1ClB2qkQC3YXB3u7tEeCFiSAATKkmGD0VYjEIxA1Zy5IAXq41UVVnMP9oJARAhAoCKCFY2CgCeBYASK3yfVNS0PLy70RIeUgwlAoBwcfLiuH4FgBIqt+cO7K+mvn+HFhfpFBj2ZmQAEyszRgW22IRCsQL06bzP97T/FtvEbjoBAKAQgUKHQQ10QCJJAsAL1+jdbKOH1hfgtVJBcUczeBCBQ9o4vvDMJgWAFiidI8KKxx0/XmcRymAECxhGAQBnHHj07iECwArW47JAUqO/34rdQDhoecNUHAQiUDzDIBoFwEghWoLYfrJUCxeWxgYDTCUCgnD4C4L8uBIIVqLN1eC+ULgFBJ5YgAIGyRJhgpNUJBCtQ7Odv0pfQi1kbre4y7AeBkAlAoEJGiAZAIDCB5gjUg5PW0oApBYEbRQkQsDkBCJTNAwz3WkYgLy+P4uLiKCYmhkaNGuW1kS+//JK6dOlCXbt2pUceecRrGSWzOQL1/BffU8+MpUpVHEHAsQQgUI4NPRz3RaChoYGio6OpoqKC6urqKCkpicrKyjyKl5eXU7du3ejEiRMy//Dhwx7XtYlvvt9Prdp0pJ2Hfb8PSqkzYekOunX0Mjp3oUHJwhEEHEkAAuXIsMNpfwQKCgqoT58+7iIZGRnEu3p78cUX6eOPP1Zn+T1XBGrXkcAC9XXJfjmTz9/bd/12hosgYBMCECibBBJuhI9AVlYWpaamuhucMWMGDRkyxJ3mk/vvv59YpHr16kU9evQgviXobcvMzKSUlBRKuOcv8htUMAK1ce9JKVD8fihsIOBkAhAoJ0cfvnslEIxA9e/fnx544AG6cOECVVZWUrt27ejkSd8/rm3ON6ias5deuzFl5S6v9iETBJxCAALllEjDz6AJBHOL7+mnn6ZPP/3U3Wbv3r1p/fr17rT2pDkCxXVTRi6ml+Zs0jaDNAg4igAEylHhhrPBEKivr6eoqCj5zUiZJFFaWupRlW/pPf744zLv6NGj8hvUsWPHPMqoE80VqIcmr6WHMdVcjRDnDiQAgXJg0OFyYAK5ubkUGxsrZ/Olp6fLCmlpaZSdnS3P+eWCzz//vJxmnpCQQLNnz/bbaHMFathXG+mW9CV+28RFELA7AQiU3SMM/0xBoLkC9eGKnXKixKnz9aawH0aAgBEEIFBGUEefjiPQXIHK21ItBWrL/hrHsYLDIKAQgEApJHAEgQgSaK5AYVXzCAYDTVuGAATKMqGCoVYm0FyB4lUk/ntKAX20ClPNrRx32B4aAQhUaPxQGwSCItBcgeJGbxuznJ79vDio9lEIBOxIAAJlx6jCJ9MRaIlApU5fT394d6XpfIFBIKAXAQiUXqTRj6MJtESg3s7bRh1fyaULDY2OZgfnnUsAAuXc2MNzHQm0RKDmFu/DorE6xghdmY8ABMp8MYFFNiTQEoHiKebtX8qh3M3VNiQCl0AgMAEIVGBGKAECIRNoiUCdrWugDsNzaMKS8pD7RwMgYEUCECgrRg02W46AIlAVQbwPSu3craOX07P/wUw+NROcO4cABMo5sYanBhJoqUA9OW099Xk330DL0TUIGEcAAmUce/TsIAItFahRCy7N5KvHTD4HjRa4qhCAQCkkcASBCBJoqUDN2bCPkkcsovLDtRG0Dk2DgDkJQKDMGRdYZTMCLRWoUtdMvvmbDtiMCNwBgcAEIFCBGaEECIRMoKUCxWvyxbycS2MWbgvZBjQAAlYjAIGyWsRgryUJtFSg2Nm+4/PpiU/XWdJvGA0CoRCAQIVCD3VBIEgCoQjUc198Tz3eWhpkTygGAvYhAIGyTyzhiYkJhCJQH+VXyBUljp+uM7GHMA0Ewk8AAhV+pmgRBJoQCEWg1uw8KgWKj9hAwEkEIFBOijZ8NYxAKALF35x4TT7+JoUNBJxEAALlpGjDV8MIhCJQbPTdE/JpxLelhtmPjkHACAIQKCOoo0/HEQhVoFKnF9Gd76xwHDc47GwCEChnxx/e60QgVIH6YFm5vM1Xc/aCThajGxAwngAEyvgYwAIHEAhVoFaVH5ECtbocEyUcMFzgoosABApDAQS8EMjLy6O4uDiKiYmhUaNGeSlxKWvOnDkkhKCioiKfZfhCqAJVc+aCFKiJy3f67QcXQcBOBCBQdoomfAkLgYaGBoqOjqaKigqqq6ujpKQkKisra9J2bW0t3XrrrdSjR4+AAvV1yX5q1aYjNfd9UOpO7xy7gv76mX8hVJfHOQhYnQAEyuoRhP1hJ1BQUEB9+vRxt5uRkUG8a7d//OMflJOTQ7fffnvQAlV59LS2maDTvKLEb9KX0MWLF4Oug4IgYGUCECgrRw+2R4RAVlYWpaamutueMWMGDRkyxJ3mk+LiYnrwwQdlnj+ByszMpJSUFIrv/4T8BhWKQE1bUylv81XXnPWwBQkQsCsBCJRdIwu/WkwgkEA1NjbKb01VVVWyD38CpRih3OILRaBK9pyQApW3pVppFkcQsDUBCJStwwvnWkIg0C2+mpoauvrqq6l9+/Zyv/zyy+m6667ze5svHALFr97o+Eou8Vt2sYGAEwhAoJwQZfjYLAL19fUUFRVFlZWV7kkSpaW+V3HQ6xsUO/HcFyXEz6KwgYATCECgnBBl+NhsArm5uRQbGytn86Wnp8v6aWlplJ2d3aQtPQXqzfllFPfqAqqrb2xiBzJAwG4EIFB2iyj8MSWBcNziY8fythyUz6E27D5uSj9hFAiEkwAEKpw00RYI+CAQLoE6duq8FKgPV+AHuz5QI9tGBCBQNgomXDEvgXAJFHt417iV9Be8At68wYZlYSMAgQobSjQEAr4JhFOgXpm3meJfX0gNjfjBrm/iuGIHAhAoO0QRPpieQDgFitf14xcYbtlfY3q/YSAIhEIAAhUKPdQFgSAJhFOgDtacpYcmr6WZhbuD7B3FQMCaBCBQ1owbrLYYgXAKFLvOz6H+78ffWYwCzAWB5hGAQDWPF0qDQIsIhFug3srdKleVOH2+vkX2oBIIWIEABMoKUYKNlicQboFau+uofA61qPSg5dnAARDwRQAC5YsM8kEgjATmlewLeTVztTm8kgTP5Bs+d7M6G+cgYCsCEChbhRPOmJWAIlBVIbwPSuvb0zM2UM+MpXg/lBYM0rYhAIGyTSjhiJkJREKgvli/R97m236w1syuwzYQaDEBCFSL0aEiCARPIBICdeiHc1KgJq/cFbwhKAkCFiIAgbJQsGCqdQlEQqCYxt0TVtGAKQXWBQPLQcAPAQiUHzi4BALhIhApgRqzcBtFv5xLP5y7EC5T0Q4ImIYABMo0oYAhdiYQKYEqqjoub/PlbsZr4O08fpzqGwTKqZGH37oSiJRA1Tc0UtK/F9E/v8RbdnUNKDrThQAEShfM6MTpBCIlUMw1I3crdX9rCZ2vb3A6ZvhvMwIQKJsFFO6Yk0AkBWrljiPyNh+/bRcbCNiJAATKTtGEL6YlEEmB4tt8t6Qvoac+KzKt/zAMBFpCAALVEmqoAwLNJBBJgWJTlMVjj5+ua6ZlKA4C5iUAgTJvbGCZjQhEWqC2Vv8gb/N9VlBlI2pwxekEIFBOHwHwXxcCkRYodqLfhFV038Q1uviDTkBADwIQKD0oow/HE9BDoD5eVSG/Re08fMrxvAHAHgQgUPaII7wIM4G8vDyKi4ujmJgYGjVqVJPWx40bR126dKHExETq3bs37d7t//XregjU4dpzFDU8h3h1CWwgYAcCECg7RBE+hJVAQ0MDRUdHU0VFBdXV1VFSUhKVlZV59LF8+XI6c+aMzJs0aRINGDDA47o2oYdAcZ9/+XSdfAVHfX2j1gSkQcByBCBQlgsZDI40gYKCAurTp4+7m4yMDOLd11ZSUkK9evXydVnmzy2+9MLCcL4PyluHy7Ydot9mLKW8LVj6yBsf5FmLAATKWvGCtToQyMrKotTUVHdPM2bMoCFDhrjT2hO+NnLkSG22TGdmZlJKSgrF9x8k36i7+9hpr+XCldnQeJFuH7Oc7v1gNV5kGC6oaMcwAhAow9CjY7MSaI5AzZw5k3r06EHnz5/3647yDSrSAsVGzFp36UWGq8qP+LUJF0HA7AQgUGaPEOzTnUCwt/iWLFlCnTt3psOHDwe0UU+B4jX5eG2+gZmFAe1CARAwMwEIlJmjA9sMIVBfX09RUVFUWVnpniRRWlrqYQs/d+KJFOXl5R75vhJ6ChTboEw5L9lzwpdJyAcB0xOAQJk+RDDQCAK5ubkUGxsrRSg9PV2akJaWRtnZ2fL897//PV1zzTWUnJws93vvvdevmXoL1Onz9ZQ8YhH9Fevz+Y0LLpqbAATK3PGBdTYhoLdAMbZ3F++QP9zdfrDWJhThhtMIQKCcFnH4awgBIwTqxOk66pKWR3+fXWKIz+gUBEIlAIEKlSDqg0AQBIwQKDbro/wK6vHWUlpXeTwIK1EEBMxFAAJlrnjAGpsSMEqg+FnU70Yvo9vGLKczdfU2pQu37EoAAmXXyMIvUxEwSqAYQmHFMfks6o1sz5mIpgIEY0DACwEIlBcoyAKBcBMwUqDYFxan9i/lSLEKt29oDwQiRQACFSmyaBcEVASMFii+vce3+fh2H9/2wwYCViAAgbJClGCj5QkYLVAMkCdKdBieQ699vcXyPOGAMwhAoJwRZ3hpMAEzCBQjeHN+mbzVt2bnUYOJoHsQCEwAAhWYEUqAQMgEzCJQZ+sa6M6xK6jXqGVUe+5CyH6hARCIJAEIVCTpom0QcBEwi0CxORt2n5Bv3h0+dxNeyYERamoCEChThwfG2YXAnA2XXliox+s2gmE2bW0ldU3LoxHflkGkggGGMoYQgEAZgh2dOo2AIlB7jl16TbzR/l+8eNE99fzleZupsfGi0SahfxBoQgAC1QQJMkAg/ATMJlDsIYvU6LxtctLE819+T/UNjeF3HC2CQAgEIFAhwENVEAiWgBkFSrH9/aXlUqSe/byYLkCkFCw4moAABMoEQYAJ9idgZoFi+ryoLK80kTp9PZ270GD/gMBDSxCAQFkiTDDS6gTMLlDMd0ZBlRSpv362no6frrM6cthvAwIQKBsEES6Yn4AVBIopzi3eS33ezaduIxYRT43n51TYQMAoAhAoo8ijX0cRsIpAcVB2HKqlBz5cI79NPTb1O9p73BwzDx01YOCsJACBwkAAAR0IWEmgGEdD40WavrZK/laq82t5NGXlLjyb0mGcoAtPAhAoTx5IgUBECFhNoBQIB06epSenraf/ziygm99cTIqcelAAAAykSURBVO8s2k6HfjinXMYRBCJKAAIVUbxoHAQuEbCqQLH1/ByqcNcxSp1eJFdDj3k5l/42q0QumYRnVBjhkSQAgYokXbQNAi4CVhYodRB5JYyR88so4Y2F8hnV/5u5gT5YVk5b9tdgNQo1KJyHhQAEKiwY0QgI+CdgF4FSvOSXHvK09Gc/3yCFin9D9Zv0JTTsq400f9MBqq45ixmACiwcW0wAAtVidKgIAsETsJtAqT0/Unue2L8h/ymmxDcWumcA8jMrngWYsWArZW88QLuOnKL6eiynpGaHc/8EIFD++eCqQwnk5eVRXFwcxcTE0KhRo5pQOH/+PA0YMEBe7969O1VVVTUpo86ws0Cp/eT1/DbtO0nT1lTSi1kb6Z73VlHHV3Ld37K6vp4nXz3/6MeF9NKcTXJ24JdFe2nZtkOy3v6TZzFbUA3U4ecQKIcPALjflEBDQwNFR0dTRUUF1dXVUVJSEpWVlXkU/PDDD+npp5+WebNnz5Zi5VFAk3CKQGnclsm6+kYqPVBDX5fsp7fztskJFvdPXEMpIxfTH99f7RYvvk2o7I9+VChfqth3fD49PLlAfjv7++wS4ndY8StCxizcRhOX76TPC3fTzMLdxCL3zff7acHmalq69RCt3XWUCiuOUVHVcfp+70n5jGz7wVraebiWKo+eJn6WxmJ4sOacnJV49NR5uXpGzZkL9MO5C1R79gLxbUx+wSMv/XS+voHYjwv1jXJRXZ6GzyvAY5KIt4iHL880AjVgSgFhBwMzjIF+YxZS52enuMfjb1/5gnhX28bXuRznPTx5LbV7fKzHdXVZPv/DuyvpFzd0In42g+1HAmfO18sfAhfvOUGLyw7RrHV75KSLCUt20AtfbqSnPiuSU9z/PPU7un3McvmcK/71hfKFiyxm/Sbku0VNETc+sqip08o5r5KhnCvH341e1iSPhVG5rj6ysKrTfP4n14+aOwzPkbMco4bnUKdXFxDPduSdv0HyHvvKAur82gKKfdVzj3t1AfHObznu9NqCJvtNby4m/i2aer97Qr5HWn3tkcwC6pKW12RnO7X5/I+ANm/gR4Xy92/8vjDefz9uhUdayb/3g9Ve81nkw7WFJFB9+/allJSUsOw/vy6GfnljZ8vtVrWbWVvV9kjbfcX1MfS/ru3gHos/16SZXatf30C/uCHOXabV1e3oqhs6udPKWGZbL//1DXL/6U9/GpbPSrg+c81p58YbbzSd7TffnELdbrqZkrvdTInJN1FC8k0Un9SNuiTynkydEpKpTbsOFBefRLFdk6ija4/pkkjRvHdOpCjX3qFzInXolEDtXTunb4xLcO83xCUQ73xdnscmULvYeLnf2OnHcyWvbWw8+dw7xlNbLzvXVef/sm2UO319x3hS71xWnVafs33qtHJ+Q2zTfG9ltXnsh9KG+ujLhhtubB+2sSKEWNhikQqXSnI7/GGx4mZVu8Hc92jLysqi1NRUd4EZM2bQkCFD3Gk+iY+Pp3379rnz+Jbg0aNH3WlvJz/72c+8ZVsiz6rj3Kp286Cwqu3htLvF4sQVw/nJCqdT4bQrUFtWtRsfAN+RLSgooD59+rgLZGRkEO/qja9zOd7q6+vp6quvDvg8AgKlJqjPOT6f+nBW9xJO5hAoNdkWnIczGC3oPqQqVrU90naz4ERFRVFlZaV7kkRpaakH64kTJ3pMknj44Yc9rntLQKC8UYlsXqTHSiStt6rt4bTbNAKVmZkZyVhHrG2r2s1ArGq7Hnbn5uZSbGysnM2Xnp4ux09aWhplZ2fL83PnztFDDz0kp5nfcsstcsZfoEHGz3GsuunBPBJsrGo3s7Cq7eG02zQCFYnBiTZBwEwEwvmfpZn8gi0gECkCEKhIkUW7IKAhAIHSAEESBAIQgEAFAITLIBAuAhCocJFEO04hoKtAffXVV9S1a1f6yU9+QkVFRR6MeZYULyvDy8ssXLjQ45qS4IfWvKwMl+NlZvhX/npv3G9ycrLc27dvL4/ebOBrCQkJ8rpZ/jC98cYbdP3117vt5+cs3rZAy/x4qxPJvGHDhlGnTp0oMTGRHnjgATp58qTX7szC3Bc/ZRw0d5kkr85GIHPv3r10xx13UJcuXeTndMKECU16WbFiBV155ZXuMTRixIgmZYzICBR7XvFh6NCh8m8Hj6Pi4mIjzPToc/v27W6O/DfliiuuoPHjx3uUMRPvQYMGUevWreVPLBQjjx8/TnfddRd17NhRHk+cOKFc8jhOnz5dluFyfB7spqtAbd26lTgot99+u4dA8TIyvJwMf3BZhPg3JbzcjHbjmVK8rAxvvMzMpEmTtEV0Tb/wwgvk6wPKH5hAv4vR1VgiYoEaO3as326DWebHbwMRuLho0SI5lZub/te//iV3b92Ygbk/fopANXeZJG++RiKvurra/Ye7trZWThLRLvHEfzD79+8fie5DajNQ7PmfsX79+l16t1VhofxHN6QOw1yZx821115Lu3fv9mjZTLzz8/Pl+ODfACrbiy++6F6rktes5M+ndmMR41mxfGQB43NfQqatq6tAKZ1rBUr7OxP1b0yUOvwfEP/WhKcA86b9rYpSTq8j29OuXTsqLy/32mWgD4zXShHODEagtFy1sYmwiQGbnzdvHj366KNey5mBuT9+ikCpx3ewv6Hy6nCEM++77z5avHixRy9m+oOpNixQ7AcPHkyzZs1yV+E7NSzIZtn4n7BevXo1McdsvHlRZLVAqTkyT05rN+bO/JVNGwsl39sxJIEKofJKIcRvVPUnCiEeU6U/EUI8pErz6a+FELtUeTcIIUpVab1PbxNCbPDTaZUQokQIUSyEGOynnJ6X/i2E2C2E2CyE+FQI8UsvnTP3qar8PwshOD5m2eZrxoraLjMw98dPWbaFx207leEVrvGtyjL8tIMQYq8Q4kqNJXcIIY4LITYJIfKEEPGa60YlA8U+RwjxO5VxyzR/g1SXDDnlz+PfvPRsNt48LtR/d2tUNv9ECKFOK5eGCSFeUxJCiDQhBOcZsi11OcBOqPf7VdaYXaCC8WGyEOKfKp+0p21dGde4PswsaHps/my/VgjxUyHEfwkh3nKJlNYmf39gtWXDmfZnt9LPq0KIr4UQ/EHwthnFXG1LMPzMLlA/d/1j9aDaMdc5CxZf5+0eIcRO17nRh0CxN7NAtRJCHBNC8OdTu5mNtz+BYttPah1wiZFpBMqLfU2ytAL1shCCd2VbJIToqSRcR/6jxEG8zJXm61zOiI1tOKz5L9ifHfzNxbD/GHwYph1oSjEtV21slHJ6H58QQhQKIX4WZMdGMQ+Gn3p881jice1LdIN0N2zF/ofrc/VCkC3yN3K+u2GmzVvsM4UQj6iM3CGEuE6VNvKU/3lfHKQBRvPW/t1Qc2SenNZuzJ35K5s2Fkq+aY5ageLbBHzL4HIhRJQQotL1n77W4CwhxEBX5hQhxLPaAjql+wkh8v309b+FEFe4rvN5gRCC6xi9qT+QzwshvvBiEP/BZP4cB/7PjuNi9G0cZrdVCNHai71KllmYB8NviBCCxy9vPJ6/cp0bfWCRnCGEmODHkDYqMe3uug1otLgGE/v+rluSbOtvhRDr/fio9yX+HA7y0anZeGsFaqwQYrjLdj6O8eLHr4QQfAuWHynwzuecZ7rtT0KI/UKIOtc3EPU3IL59w/fiWYHvVlm+QAhxvSsd7RpY/CyKxYoFzYhtuhDiGU3HbCPbyhvbyX/YeS8TQrBvZthmCiG2uJ5Bfav6D1JtO9vJt27KXfEwg+0c731CiI2uXfnjrrbbTMy98XtTCHGfaxD8T9f4Zb/4DyXbboaNn9GQa3worNkXHuvKeOfnJDymeWx/J4ToZQLDfcVebTcL04euMc2fAfUzcCNdYHHlZ3q/UBmhtttMvGcLIQ4KIepdf8dThRBXCyH4eR7f6uXb9IrwMF/1s+wnXXMIeMz7EmMVApyCAAiAAAiAAAiAAAiAAAiAAAiAAAiAAAiAAAiAAAiAAAiAAAiAAAiAAAiAAAiAAAiAAAiAAAiAAAiAAAiAAAiAAAiAgJrAVQb+zlVtB85BAARAAARAwIOA9gfBHheRAAEQAAEQAAGjCPDqGudcP8zn1SqwgQAIgAAIgIApCOAblCnCACNAAARAAAS0BCBQWiJIgwAIgAAImIIABMoUYYARIAACIAACWgK8CO0ebSbSIAACIAACIGAGArNcL73FJAkzRAM2gAAIgAAIgAAIgAAIgAAIgAAIgAAIgAAIgAAIgAAIgAAIgAAIgAAIgAAIgAAIgAAIgAAIgAAIgAAIgAAIgAAIgAAIgAAIgAAIgAAItIjA/wcoP1UlCgNjrQAAAABJRU5ErkJggg==)"
      ]
    },
    {
      "cell_type": "markdown",
      "metadata": {
        "id": "VWZoXRn8bNhi"
      },
      "source": [
        "2. Altere o valor da resistência R de forma que $v_{o}(0)< 0.5V$ qual o mínimo valor desta nova resistência ?            \n",
        "*(utilize o gráfico a seguir para responder)*\n"
      ]
    },
    {
      "cell_type": "code",
      "metadata": {
        "colab": {
          "base_uri": "https://localhost:8080/",
          "height": 395,
          "referenced_widgets": [
            "276a43ba18654d1da6ce82f8a2c1fdc8",
            "c320563bac0344c3b81693bc4d34f526",
            "306c70aa7f054120a56add7489808895",
            "e7c92ce6ad444ae09361dfc79d1edde4",
            "4cefd06ff3034c89bddb55eff38ee4bb",
            "b44aab4346124827837d6a5ec28a7b8f",
            "1a0739ad0afe407ba194408476b6a791",
            "5f5a21e00b334fe09f73a1fd3bd8501d",
            "5b1552d5dcb64f1282dea8332a72ab28",
            "85d48b453e274397b2907768b809f380"
          ]
        },
        "id": "LVx99cZX9Ma8",
        "outputId": "61f4ea5b-944f-4c27-e025-01ca42dde075"
      },
      "source": [
        "interact(impulse, K =(1, 1), tau =(0, R*C))\n"
      ],
      "execution_count": null,
      "outputs": [
        {
          "output_type": "display_data",
          "data": {
            "application/vnd.jupyter.widget-view+json": {
              "model_id": "276a43ba18654d1da6ce82f8a2c1fdc8",
              "version_minor": 0,
              "version_major": 2
            },
            "text/plain": [
              "interactive(children=(IntSlider(value=1, description='K', max=1, min=1), IntSlider(value=5, description='tau',…"
            ]
          },
          "metadata": {
            "tags": []
          }
        },
        {
          "output_type": "execute_result",
          "data": {
            "text/plain": [
              "<function __main__.impulse>"
            ]
          },
          "metadata": {
            "tags": []
          },
          "execution_count": 25
        }
      ]
    },
    {
      "cell_type": "markdown",
      "metadata": {
        "id": "LeTjs_p9O63L"
      },
      "source": [
        "Resp. "
      ]
    },
    {
      "cell_type": "markdown",
      "metadata": {
        "id": "M3Bm3ZmvHlK2"
      },
      "source": [
        "\n",
        "3. Encontre as raizes e zeros das funcões, e coloque no plano complexo.\n",
        "\n",
        "\n",
        "1.\n",
        "$\n",
        "    \\ F(s) = \\frac{4(s+1)}{s^{2} + 10s +21}\n",
        "$\n",
        "\n",
        "2.\n",
        "$\n",
        "    \\ F(s) = \\frac{s - 4}{s^{2} + 16}\n",
        "$\n",
        "\n",
        "3.\n",
        "$\n",
        "    \\ F(s) = \\frac{12}{s(s+3)(s+4)}\n",
        "$\n",
        "\n",
        "*use showRoots(z,p)*"
      ]
    },
    {
      "cell_type": "code",
      "metadata": {
        "id": "C8VO6oAMK6d_"
      },
      "source": [
        "# coloque seu codigo aqui\n"
      ],
      "execution_count": null,
      "outputs": []
    },
    {
      "cell_type": "markdown",
      "metadata": {
        "id": "YjFwF8Ai5Gl8"
      },
      "source": [
        "*saída esperada*\n",
        "\n",
        "![image.png](data:image/png;base64,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)"
      ]
    }
  ]
}